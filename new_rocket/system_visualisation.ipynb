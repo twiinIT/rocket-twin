{
 "cells": [
  {
   "cell_type": "code",
   "execution_count": 1,
   "id": "d05dba5d-c277-4d08-b392-8bc9296aa471",
   "metadata": {
    "tags": []
   },
   "outputs": [],
   "source": [
    "from earth import Earth"
   ]
  },
  {
   "cell_type": "code",
   "execution_count": 2,
   "id": "363a63cb-3cc9-46f4-b186-2a5d1602dcf0",
   "metadata": {
    "tags": []
   },
   "outputs": [],
   "source": [
    "earth = Earth('earth')"
   ]
  },
  {
   "cell_type": "code",
   "execution_count": 3,
   "id": "fd345933-fc31-4a25-9284-37fccb815e79",
   "metadata": {
    "tags": []
   },
   "outputs": [
    {
     "data": {
      "text/html": [
       "\n",
       "        <iframe\n",
       "            width=\"810px\"\n",
       "            height=\"650px\"\n",
       "            src=\"earth.html\"\n",
       "            frameborder=\"0\"\n",
       "            allowfullscreen\n",
       "            \n",
       "        ></iframe>\n",
       "        "
      ],
      "text/markdown": [
       "\n",
       "### Child components\n",
       "\n",
       "- `grav`: Gravity\n",
       "- `atmo`: Atmosphere\n",
       "- `traj`: Trajectory\n",
       "- `rocket`: Rocket\n",
       "- `reserv`: Reservatory"
      ],
      "text/plain": [
       "earth - Earth"
      ]
     },
     "execution_count": 3,
     "metadata": {},
     "output_type": "execute_result"
    }
   ],
   "source": [
    "earth"
   ]
  },
  {
   "cell_type": "code",
   "execution_count": null,
   "id": "9854d8ce-d372-4dd2-8aff-27ffb4ebcccc",
   "metadata": {},
   "outputs": [],
   "source": []
  }
 ],
 "metadata": {
  "kernelspec": {
   "display_name": "Python 3 (ipykernel)",
   "language": "python",
   "name": "python3"
  },
  "language_info": {
   "codemirror_mode": {
    "name": "ipython",
    "version": 3
   },
   "file_extension": ".py",
   "mimetype": "text/x-python",
   "name": "python",
   "nbconvert_exporter": "python",
   "pygments_lexer": "ipython3",
   "version": "3.11.3"
  }
 },
 "nbformat": 4,
 "nbformat_minor": 5
}
