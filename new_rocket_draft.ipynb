{
 "cells": [
  {
   "cell_type": "code",
   "execution_count": 42,
   "id": "533b5309-ce3a-45ff-9d11-b707d3045afe",
   "metadata": {},
   "outputs": [],
   "source": [
    "from cosapp.base import System\n",
    "from cosapp.drivers import RunOnce\n",
    "import numpy as np"
   ]
  },
  {
   "cell_type": "markdown",
   "id": "d889bb7e-c58f-4135-9cf2-2f37facd9acf",
   "metadata": {},
   "source": [
    "# **Global System**"
   ]
  },
  {
   "cell_type": "code",
   "execution_count": 31,
   "id": "f82f7496-b776-4bb8-92e4-f71ff2ee71e2",
   "metadata": {},
   "outputs": [],
   "source": [
    "class Earth(System):\n",
    "\n",
    "    def setup(self):\n",
    "\n",
    "        self.add_child(Gravity('grav'))\n",
    "        self.add_child(Atmosphere('atmo'))\n",
    "        self.add_child(Trajectory('traj'))\n",
    "        self.add_child(Rocket('rocket'))\n",
    "        self.add_child(Reservatory('reserv'))"
   ]
  },
  {
   "cell_type": "markdown",
   "id": "a6772767-c70f-474b-9b3b-548c48427838",
   "metadata": {},
   "source": [
    "# **Earth Properties**"
   ]
  },
  {
   "cell_type": "code",
   "execution_count": 3,
   "id": "e993e20f-fd87-486d-b3b6-6462b2d427b5",
   "metadata": {},
   "outputs": [],
   "source": [
    "class Gravity(System):\n",
    "\n",
    "    def setup(self):\n",
    "\n",
    "        self.add_inward('x')"
   ]
  },
  {
   "cell_type": "code",
   "execution_count": 4,
   "id": "3766c65c-df1b-4380-bb00-c3345d482dc0",
   "metadata": {},
   "outputs": [],
   "source": [
    "class Atmosphere(System):\n",
    "\n",
    "    def setup(self):\n",
    "\n",
    "        self.add_child(Density('dens'))\n",
    "        self.add_child(Pressure('pres'))"
   ]
  },
  {
   "cell_type": "code",
   "execution_count": 5,
   "id": "16ae4191-9e02-4291-ba6c-99bcd0b0e522",
   "metadata": {},
   "outputs": [],
   "source": [
    "class Pressure(System):\n",
    "\n",
    "    def setup(self):\n",
    "\n",
    "        self.add_inward('x')"
   ]
  },
  {
   "cell_type": "code",
   "execution_count": 6,
   "id": "61484053-75fc-410f-badf-a470a1328895",
   "metadata": {},
   "outputs": [],
   "source": [
    "class Density(System):\n",
    "\n",
    "    def setup(self):\n",
    "\n",
    "        self.add_inward('x')"
   ]
  },
  {
   "cell_type": "markdown",
   "id": "bdf90003-ace2-4ad3-9585-8a4d1cc45c37",
   "metadata": {},
   "source": [
    "# **Station's Reservatory**"
   ]
  },
  {
   "cell_type": "code",
   "execution_count": 7,
   "id": "709ab2e6-2673-4e75-a956-66383ea06638",
   "metadata": {
    "tags": []
   },
   "outputs": [],
   "source": [
    "class Reservatory(System):\n",
    "    \n",
    "    def setup(self):\n",
    "        \n",
    "        self.add_inward('x')"
   ]
  },
  {
   "cell_type": "markdown",
   "id": "b3fb6558-e514-43d0-b73f-af02c530cbc5",
   "metadata": {},
   "source": [
    "# **Rocket Trajectory**"
   ]
  },
  {
   "cell_type": "code",
   "execution_count": 8,
   "id": "cf3a60ea-d674-48d8-bf51-77c2debdf8a7",
   "metadata": {},
   "outputs": [],
   "source": [
    "class Trajectory(System):\n",
    "\n",
    "    def setup(self):\n",
    "\n",
    "        self.add_inward('x')"
   ]
  },
  {
   "cell_type": "markdown",
   "id": "6d9a9730-3724-4afd-9055-5330208f0a40",
   "metadata": {},
   "source": [
    "# **Rocket System**"
   ]
  },
  {
   "cell_type": "code",
   "execution_count": 26,
   "id": "d5f6fc55-1df8-4587-90c9-de8bb05ff0f3",
   "metadata": {},
   "outputs": [],
   "source": [
    "class Rocket(System):\n",
    "\n",
    "    def setup(self):\n",
    "\n",
    "        self.add_child(Fins('fins'))\n",
    "        self.add_child(Nose('nose'))\n",
    "        self.add_child(Tube('tube'))\n",
    "        self.add_child(Engine('engine'))\n",
    "        self.add_child(Tank('tank'))\n",
    "        self.add_child(RocketAero('aero'))\n",
    "        self.add_child(RocketGeom('geom'))\n",
    "        self.add_child(Dynamics('dyn'))\n",
    "        self.add_child(Kinematics('kin'))"
   ]
  },
  {
   "cell_type": "markdown",
   "id": "6d6df07d-5da5-4de4-bf0b-77ae4ce7cd82",
   "metadata": {},
   "source": [
    "# **Rocket Components**"
   ]
  },
  {
   "cell_type": "markdown",
   "id": "c542def1-0bf2-4aec-a25e-3abe9aa0bd6e",
   "metadata": {},
   "source": [
    "## Fins"
   ]
  },
  {
   "cell_type": "code",
   "execution_count": 29,
   "id": "07ab7aa3-890d-4c3b-a2ab-e15adde69a62",
   "metadata": {},
   "outputs": [],
   "source": [
    "class Fins(System):\n",
    "\n",
    "    def setup(self):\n",
    "        \n",
    "        #Fins children\n",
    "        self.add_child(FinsGeom('geom'))\n",
    "        self.add_child(FinsAero('aero'))\n",
    "\n",
    "        #Geometric Parameters\n",
    "        self.add_inward('s', 0.1, desc=\"Span of one fin\", unit='m')\n",
    "        self.add_inward('Cr', 0.1, desc=\"\", unit='m')\n",
    "        self.add_inward('Ct', 0.1, desc=\"\", unit='m')\n",
    "        self.add_inward('Xt', 0.1, desc=\"\", unit='m')\n",
    "        self.add_inward('delta', 0., desc=\"Cant angle\", unit='')\n",
    "        self.add_inward('tf', 0.001, desc=\"Fin thickness\", unit='m')\n",
    "        "
   ]
  },
  {
   "cell_type": "code",
   "execution_count": 11,
   "id": "57f7750b-658c-4b3e-b5e4-7d4281830852",
   "metadata": {},
   "outputs": [],
   "source": [
    "class FinsGeom(System):\n",
    "    \n",
    "    def setup(self):\n",
    "        \n",
    "        self.add_inward('x')"
   ]
  },
  {
   "cell_type": "code",
   "execution_count": 12,
   "id": "8bdbc0df-0aa2-4aeb-b254-0f3095bc9789",
   "metadata": {
    "tags": []
   },
   "outputs": [],
   "source": [
    "class FinsAero(System):\n",
    "    \n",
    "    def setup(self):\n",
    "        \n",
    "        self.add_inward('x')"
   ]
  },
  {
   "attachments": {
    "6e1f277e-59db-4568-9c4c-42e074ef1b0d.png": {
     "image/png": "[encoded data removed]"
    }
   },
   "cell_type": "markdown",
   "id": "0c135fdd-8330-472f-bd75-258a3f7efe1d",
   "metadata": {},
   "source": [
    "![image.png](attachment:6e1f277e-59db-4568-9c4c-42e074ef1b0d.png)"
   ]
  },
  {
   "cell_type": "markdown",
   "id": "d21411a6-0006-4ac6-93b5-a8873af41195",
   "metadata": {},
   "source": [
    "## Nose - Cone"
   ]
  },
  {
   "cell_type": "code",
   "execution_count": 47,
   "id": "a2785f70-dab2-4fa3-8cdd-f50d837ea19f",
   "metadata": {},
   "outputs": [],
   "source": [
    "class Nose(System):\n",
    "\n",
    "    def setup(self):\n",
    "        \n",
    "        #Nose children\n",
    "        self.add_child(NoseGeom('geom'), pulling=['R', 'L', 'rho'])\n",
    "        self.add_child(NoseAero('aero'), pulling=['R', 'L'])\n",
    "        \n",
    "        #Nose parameters\n",
    "        self.add_inward('R', 1., desc=\"Nose radius\", unit='m')\n",
    "        self.add_inward('L', 1., desc=\"Nose length\", unit='m')\n",
    "        self.add_inward('rho', 300., desc=\"Nose Density\", unit='kg/m**3')\n",
    "        "
   ]
  },
  {
   "cell_type": "code",
   "execution_count": 48,
   "id": "dc262101-7a85-4158-8ec2-513285e33857",
   "metadata": {
    "tags": []
   },
   "outputs": [],
   "source": [
    "class NoseGeom(System):\n",
    "    \n",
    "    def setup(self):\n",
    "        \n",
    "        self.add_inward('R', 1., desc=\"Nose radius\", unit='m')\n",
    "        self.add_inward('L', 1., desc=\"Nose length\", unit='m')\n",
    "        self.add_inward('rho', 300., desc=\"Nose Density\", unit='kg/m**3')\n",
    "        \n",
    "        self.add_outward('Xcg', 1., desc=\"Center of gravity x-coordinate\", unit='m')\n",
    "        self.add_outward('m', 1., desc=\"Nose mass\", unit='kg')\n",
    "        self.add_outward('I', np.ones(3), desc=\"Nose principal inertia moments\", unit='kg*m**2')\n",
    "        \n",
    "    def compute(self):\n",
    "        \n",
    "        V = self.L*np.pi*self.R**2/3\n",
    "        \n",
    "        self.m = self.rho*V\n",
    "        self.Xcg = 3*self.L/4\n",
    "        \n",
    "        Iz = (3/10)*self.m*self.R**2\n",
    "        Ix = (3*self.m/20)*(self.R**2 + self.L**2/4)\n",
    "        \n",
    "        self.I = np.array([Ix, Ix, Iz])"
   ]
  },
  {
   "cell_type": "code",
   "execution_count": 15,
   "id": "00c9e90f-a626-4c44-9c9f-4b0aed621989",
   "metadata": {
    "tags": []
   },
   "outputs": [],
   "source": [
    "class NoseAero(System):\n",
    "    \n",
    "    def setup(self):\n",
    "        \n",
    "        self.add_inward('R', 1., desc=\"Nose radius\", unit='m')\n",
    "        self.add_inward('L', 1., desc=\"Nose length\", unit='m')\n",
    "        \n",
    "        self.add_outward('Cna', 2., desc=\"Nose normal force coefficient slope\", unit='')\n",
    "        self.add_outward('Cd', 1., desc=\"Nose drag coefficient\", unit='')\n",
    "        self.add_outward('Xcp', 1. desc=\"Nose center of pressure\", unit='m')\n",
    "        \n",
    "    def compute(self):\n",
    "        \n",
    "        self.Xcp = 2*self.L/3\n",
    "        self.Cd = 0.8*(self.R/np.sqrt(self.R**2 + self.L**2))"
   ]
  },
  {
   "cell_type": "markdown",
   "id": "b81210e6-13b7-451b-9b4c-a436de059b3d",
   "metadata": {},
   "source": [
    "## Tube"
   ]
  },
  {
   "cell_type": "code",
   "execution_count": 30,
   "id": "9fc6545e-3e3c-40f4-b874-9cd3d222b3a9",
   "metadata": {},
   "outputs": [],
   "source": [
    "class Tube(System):\n",
    "\n",
    "    def setup(self):\n",
    "        \n",
    "        #Tube children\n",
    "        self.add_child(TubeGeom('geom'))\n",
    "        self.add_child(TubeAero('aero'))\n",
    "        \n",
    "        #Tube parameters\n",
    "        self.add_inward('R', 1., desc=\"Tube radius\", unit='m')\n",
    "        self.add_inward('L', 1., desc=\"Tube length\", unit='m')"
   ]
  },
  {
   "cell_type": "code",
   "execution_count": 17,
   "id": "127389a2-8266-4e76-9f63-dd1bc4f94eb2",
   "metadata": {
    "tags": []
   },
   "outputs": [],
   "source": [
    "class TubeGeom(System):\n",
    "    \n",
    "    def setup(self):\n",
    "        \n",
    "        self.add_inward('x')"
   ]
  },
  {
   "cell_type": "code",
   "execution_count": 18,
   "id": "62199693-bc37-47a3-a950-e09049bf2b17",
   "metadata": {
    "tags": []
   },
   "outputs": [],
   "source": [
    "class TubeAero(System):\n",
    "    \n",
    "    def setup(self):\n",
    "        \n",
    "        self.add_inward('x')"
   ]
  },
  {
   "cell_type": "markdown",
   "id": "cd6e0547-7fc0-4ae2-9930-822b7f175b41",
   "metadata": {},
   "source": [
    "## Engine"
   ]
  },
  {
   "cell_type": "code",
   "execution_count": 19,
   "id": "e392e14f-0054-4713-bc36-80b599332a76",
   "metadata": {},
   "outputs": [],
   "source": [
    "class Engine(System):\n",
    "\n",
    "    def setup(self):\n",
    "\n",
    "        self.add_inward('x')"
   ]
  },
  {
   "cell_type": "markdown",
   "id": "8e2edf98-06b2-4829-a7b2-7e75ad1d0a3b",
   "metadata": {},
   "source": [
    "## Fuel Tank"
   ]
  },
  {
   "cell_type": "code",
   "execution_count": 20,
   "id": "b3807331-9b23-4d60-b467-c69d38500411",
   "metadata": {},
   "outputs": [],
   "source": [
    "class Tank(System):\n",
    "\n",
    "    def setup(self):\n",
    "\n",
    "        self.add_inward('x')"
   ]
  },
  {
   "cell_type": "markdown",
   "id": "fa42e0a9-31dc-48d4-9f05-a47337b12e2b",
   "metadata": {},
   "source": [
    "# **Rocket overall geometry and aerodynamics**"
   ]
  },
  {
   "cell_type": "code",
   "execution_count": 21,
   "id": "ced426a1-5645-45c1-910c-ea149cb8d5f7",
   "metadata": {},
   "outputs": [],
   "source": [
    "class RocketGeom(System):\n",
    "    \n",
    "    def setup(self):\n",
    "        \n",
    "        self.add_inward('x')"
   ]
  },
  {
   "cell_type": "code",
   "execution_count": 22,
   "id": "08a69413-e9f3-4dac-a78c-e38d80ad6827",
   "metadata": {},
   "outputs": [],
   "source": [
    "class RocketAero(System):\n",
    "    \n",
    "    def setup(self):\n",
    "        \n",
    "        self.add_inward('x')"
   ]
  },
  {
   "cell_type": "markdown",
   "id": "d798ddde-1370-4d30-806e-8b801c50dcdd",
   "metadata": {},
   "source": [
    "# **Rocket Movement**"
   ]
  },
  {
   "cell_type": "code",
   "execution_count": 23,
   "id": "cf4a6f81-407d-4049-a907-022f980c6a82",
   "metadata": {},
   "outputs": [],
   "source": [
    "class Dynamics(System):\n",
    "\n",
    "    def setup(self):\n",
    "\n",
    "        self.add_inward('x')"
   ]
  },
  {
   "cell_type": "code",
   "execution_count": 24,
   "id": "48f26abd-1144-461d-8c65-711193e10e57",
   "metadata": {},
   "outputs": [],
   "source": [
    "class Kinematics(System):\n",
    "\n",
    "    def setup(self):\n",
    "\n",
    "        self.add_inward('x')"
   ]
  },
  {
   "cell_type": "code",
   "execution_count": null,
   "id": "0d14b8c6-3cca-4a70-ace2-88d5fc2cea69",
   "metadata": {},
   "outputs": [],
   "source": []
  },
  {
   "cell_type": "code",
   "execution_count": null,
   "id": "105716d3-37e3-4a46-a5fd-b30b9bb21982",
   "metadata": {},
   "outputs": [],
   "source": []
  },
  {
   "cell_type": "markdown",
   "id": "aa3da120-c37d-4691-910c-6ab8da14ac20",
   "metadata": {},
   "source": [
    "# **System Representation**"
   ]
  },
  {
   "cell_type": "code",
   "execution_count": 32,
   "id": "50acdbf6-7e1c-4700-a71e-14a14b4e0438",
   "metadata": {},
   "outputs": [],
   "source": [
    "earth = Earth('earth')"
   ]
  },
  {
   "cell_type": "code",
   "execution_count": 33,
   "id": "8bc58510-fdff-42bf-9c58-b5c9da0585dd",
   "metadata": {},
   "outputs": [
    {
     "data": {
      "text/html": [
       "\n",
       "        <iframe\n",
       "            width=\"810px\"\n",
       "            height=\"650px\"\n",
       "            src=\"earth.html\"\n",
       "            frameborder=\"0\"\n",
       "            allowfullscreen\n",
       "            \n",
       "        ></iframe>\n",
       "        "
      ],
      "text/markdown": [
       "\n",
       "### Child components\n",
       "\n",
       "- `grav`: Gravity\n",
       "- `atmo`: Atmosphere\n",
       "- `traj`: Trajectory\n",
       "- `rocket`: Rocket\n",
       "- `reserv`: Reservatory"
      ],
      "text/plain": [
       "earth - Earth"
      ]
     },
     "execution_count": 33,
     "metadata": {},
     "output_type": "execute_result"
    }
   ],
   "source": [
    "earth"
   ]
  },
  {
   "cell_type": "code",
   "execution_count": 43,
   "id": "d2c5287f-6742-45c7-b382-af593bf0f89f",
   "metadata": {},
   "outputs": [],
   "source": [
    "class Ball(System):\n",
    "    \n",
    "    def setup(self):\n",
    "        \n",
    "        self.add_inward('a',5.)\n",
    "        \n",
    "        self.add_child(Ball2('ball2'), pulling=['a'])"
   ]
  },
  {
   "cell_type": "code",
   "execution_count": 44,
   "id": "7ef191a2-7685-4513-92d8-c9bbb1462846",
   "metadata": {
    "tags": []
   },
   "outputs": [],
   "source": [
    "class Ball2(System):\n",
    "    \n",
    "    def setup(self):\n",
    "    \n",
    "        self.add_inward('a', 1.)\n",
    "        self.add_outward('b', 1.)\n",
    "    \n",
    "    def compute(self):\n",
    "        \n",
    "        self.b = 3*self.a"
   ]
  },
  {
   "cell_type": "code",
   "execution_count": 45,
   "id": "9fc14293-94d1-45db-a04d-308ad51213a7",
   "metadata": {
    "tags": []
   },
   "outputs": [],
   "source": [
    "ball = Ball('ball')\n",
    "\n",
    "ball.add_driver(RunOnce('run'))\n",
    "ball.run_drivers()"
   ]
  },
  {
   "cell_type": "code",
   "execution_count": 46,
   "id": "0e4634ed-6da0-4721-8036-cd5f54e58189",
   "metadata": {
    "tags": []
   },
   "outputs": [
    {
     "data": {
      "text/plain": [
       "15.0"
      ]
     },
     "execution_count": 46,
     "metadata": {},
     "output_type": "execute_result"
    }
   ],
   "source": [
    "ball.ball2.b"
   ]
  },
  {
   "cell_type": "code",
   "execution_count": null,
   "id": "f0835589-ccda-47a2-9bea-bd41c876a9c4",
   "metadata": {},
   "outputs": [],
   "source": []
  }
 ],
 "metadata": {
  "kernelspec": {
   "display_name": "Python 3 (ipykernel)",
   "language": "python",
   "name": "python3"
  },
  "language_info": {
   "codemirror_mode": {
    "name": "ipython",
    "version": 3
   },
   "file_extension": ".py",
   "mimetype": "text/x-python",
   "name": "python",
   "nbconvert_exporter": "python",
   "pygments_lexer": "ipython3",
   "version": "3.11.3"
  }
 },
 "nbformat": 4,
 "nbformat_minor": 5
}
