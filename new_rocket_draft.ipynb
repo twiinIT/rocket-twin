{
 "cells": [
  {
   "cell_type": "code",
   "execution_count": 1,
   "id": "533b5309-ce3a-45ff-9d11-b707d3045afe",
   "metadata": {},
   "outputs": [],
   "source": [
    "from cosapp.base import System"
   ]
  },
  {
   "cell_type": "code",
   "execution_count": 2,
   "id": "f82f7496-b776-4bb8-92e4-f71ff2ee71e2",
   "metadata": {},
   "outputs": [],
   "source": [
    "class Earth(System):\n",
    "\n",
    "    def setup(self):\n",
    "\n",
    "        self.add_child(Gravity('grav'))\n",
    "        self.add_child(Atmosphere('atmo'))\n",
    "        self.add_child(Trajectory('traj'))\n",
    "        self.add_child(Rocket('rocket'))"
   ]
  },
  {
   "cell_type": "code",
   "execution_count": 3,
   "id": "e993e20f-fd87-486d-b3b6-6462b2d427b5",
   "metadata": {},
   "outputs": [],
   "source": [
    "class Gravity(System):\n",
    "\n",
    "    def setup(self):\n",
    "\n",
    "        self.add_inward('x')"
   ]
  },
  {
   "cell_type": "code",
   "execution_count": 4,
   "id": "3766c65c-df1b-4380-bb00-c3345d482dc0",
   "metadata": {},
   "outputs": [],
   "source": [
    "class Atmosphere(System):\n",
    "\n",
    "    def setup(self):\n",
    "\n",
    "        self.add_child(Density('dens'))\n",
    "        self.add_child(Pressure('pres'))"
   ]
  },
  {
   "cell_type": "code",
   "execution_count": 5,
   "id": "cf3a60ea-d674-48d8-bf51-77c2debdf8a7",
   "metadata": {},
   "outputs": [],
   "source": [
    "class Trajectory(System):\n",
    "\n",
    "    def setup(self):\n",
    "\n",
    "        self.add_inward('x')"
   ]
  },
  {
   "cell_type": "code",
   "execution_count": 6,
   "id": "d5f6fc55-1df8-4587-90c9-de8bb05ff0f3",
   "metadata": {},
   "outputs": [],
   "source": [
    "class Rocket(System):\n",
    "\n",
    "    def setup(self):\n",
    "\n",
    "        self.add_child(Components('comp'))\n",
    "        self.add_child(Aerodynamics('aero'))\n",
    "        self.add_child(Dynamics('dyn'))\n",
    "        self.add_child(Kinematics('kin'))"
   ]
  },
  {
   "cell_type": "code",
   "execution_count": 7,
   "id": "06fe2262-7852-43a9-98ba-e43021daf327",
   "metadata": {},
   "outputs": [],
   "source": [
    "class Dynamics(System):\n",
    "\n",
    "    def setup(self):\n",
    "\n",
    "        self.add_inward('x')"
   ]
  },
  {
   "cell_type": "code",
   "execution_count": 8,
   "id": "cbe1d910-ac18-4f72-bd21-a64a9f078713",
   "metadata": {},
   "outputs": [],
   "source": [
    "class Kinematics(System):\n",
    "\n",
    "    def setup(self):\n",
    "\n",
    "        self.add_inward('x')"
   ]
  },
  {
   "cell_type": "code",
   "execution_count": 9,
   "id": "07ab7aa3-890d-4c3b-a2ab-e15adde69a62",
   "metadata": {},
   "outputs": [],
   "source": [
    "class Aerodynamics(System):\n",
    "\n",
    "    def setup(self):\n",
    "\n",
    "        self.add_inward('x')"
   ]
  },
  {
   "cell_type": "code",
   "execution_count": 10,
   "id": "9cb3064e-692c-43cf-931f-a2520ed67355",
   "metadata": {},
   "outputs": [],
   "source": [
    "class Components(System):\n",
    "\n",
    "    def setup(self):\n",
    "\n",
    "        self.add_child(Fins('Fins'))\n",
    "        self.add_child(Nose('nose'))\n",
    "        self.add_child(Tube('tube'))\n",
    "        self.add_child(Engine('engine'))\n",
    "        self.add_child(Fuel('fuel'))\n",
    "        self.add_child(Assembly('assembly'))"
   ]
  },
  {
   "cell_type": "code",
   "execution_count": 11,
   "id": "57f7750b-658c-4b3e-b5e4-7d4281830852",
   "metadata": {},
   "outputs": [],
   "source": [
    "class Fins(System):\n",
    "\n",
    "    def setup(self):\n",
    "\n",
    "        #Geometric Parameters\n",
    "        self.add_inward('s', 0.1, desc=\"Span of one fin\", unit='m')\n",
    "        self.add_inward('Cr', 0.1, desc=\"\", unit='m')\n",
    "        self.add_inward('Ct', 0.1, desc=\"\", unit='m')\n",
    "        self.add_inward('Xt', 0.1, desc=\"\", unit='m')\n",
    "        self.add_inward('delta', 0., desc=\"Cant angle\", unit='')\n",
    "        self.add_inward('tf', 0.001, desc=\"Fin thickness\", unit='m')\n",
    "        "
   ]
  },
  {
   "attachments": {
    "f1de14ec-4425-4f92-acdf-d631d05666f8.png": {
     "image/png": "[encoded data removed]"
    }
   },
   "cell_type": "markdown",
   "id": "c349f8ca-b2af-4e94-aa4e-a267f5a44dbf",
   "metadata": {},
   "source": [
    "![image.png](attachment:f1de14ec-4425-4f92-acdf-d631d05666f8.png)"
   ]
  },
  {
   "cell_type": "code",
   "execution_count": 12,
   "id": "a2785f70-dab2-4fa3-8cdd-f50d837ea19f",
   "metadata": {},
   "outputs": [],
   "source": [
    "class Nose(System):\n",
    "\n",
    "    def setup(self):\n",
    "\n",
    "        self.add_inward('x')"
   ]
  },
  {
   "cell_type": "code",
   "execution_count": 13,
   "id": "9fc6545e-3e3c-40f4-b874-9cd3d222b3a9",
   "metadata": {},
   "outputs": [],
   "source": [
    "class Tube(System):\n",
    "\n",
    "    def setup(self):\n",
    "\n",
    "        self.add_inward('x')"
   ]
  },
  {
   "cell_type": "code",
   "execution_count": 14,
   "id": "e392e14f-0054-4713-bc36-80b599332a76",
   "metadata": {},
   "outputs": [],
   "source": [
    "class Engine(System):\n",
    "\n",
    "    def setup(self):\n",
    "\n",
    "        self.add_inward('x')"
   ]
  },
  {
   "cell_type": "code",
   "execution_count": 15,
   "id": "b3807331-9b23-4d60-b467-c69d38500411",
   "metadata": {},
   "outputs": [],
   "source": [
    "class Fuel(System):\n",
    "\n",
    "    def setup(self):\n",
    "\n",
    "        self.add_inward('x')"
   ]
  },
  {
   "cell_type": "code",
   "execution_count": 16,
   "id": "187f94cf-d5a9-48c3-9e8b-65ca9d21bd2e",
   "metadata": {},
   "outputs": [],
   "source": [
    "class Assembly(System):\n",
    "\n",
    "    def setup(self):\n",
    "\n",
    "        self.add_child(COG('cog'))\n",
    "        self.add_child(CPA('cpa'))\n",
    "        self.add_child(Coefficients('coef'))\n",
    "        self.add_child(Mass('mass'))\n",
    "        self.add_child(Inertia('inertia'))"
   ]
  },
  {
   "cell_type": "code",
   "execution_count": 17,
   "id": "ced426a1-5645-45c1-910c-ea149cb8d5f7",
   "metadata": {},
   "outputs": [],
   "source": [
    "class COG(System):\n",
    "\n",
    "    def setup(self):\n",
    "\n",
    "        self.add_inward('x')"
   ]
  },
  {
   "cell_type": "code",
   "execution_count": 18,
   "id": "08a69413-e9f3-4dac-a78c-e38d80ad6827",
   "metadata": {},
   "outputs": [],
   "source": [
    "class CPA(System):\n",
    "\n",
    "    def setup(self):\n",
    "\n",
    "        self.add_inward('x')"
   ]
  },
  {
   "cell_type": "code",
   "execution_count": 19,
   "id": "f5faeb53-01b4-4599-bc78-8bd52af127be",
   "metadata": {},
   "outputs": [],
   "source": [
    "class Coefficients(System):\n",
    "\n",
    "    def setup(self):\n",
    "\n",
    "        self.add_inward('x')"
   ]
  },
  {
   "cell_type": "code",
   "execution_count": 20,
   "id": "cf4a6f81-407d-4049-a907-022f980c6a82",
   "metadata": {},
   "outputs": [],
   "source": [
    "class Mass(System):\n",
    "\n",
    "    def setup(self):\n",
    "\n",
    "        self.add_inward('x')"
   ]
  },
  {
   "cell_type": "code",
   "execution_count": 21,
   "id": "48f26abd-1144-461d-8c65-711193e10e57",
   "metadata": {},
   "outputs": [],
   "source": [
    "class Inertia(System):\n",
    "\n",
    "    def setup(self):\n",
    "\n",
    "        self.add_inward('x')"
   ]
  },
  {
   "cell_type": "code",
   "execution_count": 22,
   "id": "7c46f2f9-94ac-4fc4-94c4-815340772ee5",
   "metadata": {},
   "outputs": [],
   "source": [
    "class Density(System):\n",
    "\n",
    "    def setup(self):\n",
    "\n",
    "        self.add_inward('x')"
   ]
  },
  {
   "cell_type": "code",
   "execution_count": 23,
   "id": "cb6e2f94-6c73-485c-b2cc-5a0ece343b46",
   "metadata": {},
   "outputs": [],
   "source": [
    "class Pressure(System):\n",
    "\n",
    "    def setup(self):\n",
    "\n",
    "        self.add_inward('x')"
   ]
  },
  {
   "cell_type": "code",
   "execution_count": 24,
   "id": "50acdbf6-7e1c-4700-a71e-14a14b4e0438",
   "metadata": {},
   "outputs": [],
   "source": [
    "earth = Earth('earth')"
   ]
  },
  {
   "cell_type": "code",
   "execution_count": 25,
   "id": "8bc58510-fdff-42bf-9c58-b5c9da0585dd",
   "metadata": {},
   "outputs": [
    {
     "data": {
      "text/html": [
       "\n",
       "        <iframe\n",
       "            width=\"810px\"\n",
       "            height=\"650px\"\n",
       "            src=\"earth.html\"\n",
       "            frameborder=\"0\"\n",
       "            allowfullscreen\n",
       "            \n",
       "        ></iframe>\n",
       "        "
      ],
      "text/markdown": [
       "\n",
       "### Child components\n",
       "\n",
       "- `grav`: Gravity\n",
       "- `atmo`: Atmosphere\n",
       "- `traj`: Trajectory\n",
       "- `rocket`: Rocket"
      ],
      "text/plain": [
       "earth - Earth"
      ]
     },
     "execution_count": 25,
     "metadata": {},
     "output_type": "execute_result"
    }
   ],
   "source": [
    "earth"
   ]
  },
  {
   "cell_type": "code",
   "execution_count": null,
   "id": "d2c5287f-6742-45c7-b382-af593bf0f89f",
   "metadata": {},
   "outputs": [],
   "source": []
  }
 ],
 "metadata": {
  "kernelspec": {
   "display_name": "Python 3 (ipykernel)",
   "language": "python",
   "name": "python3"
  },
  "language_info": {
   "codemirror_mode": {
    "name": "ipython",
    "version": 3
   },
   "file_extension": ".py",
   "mimetype": "text/x-python",
   "name": "python",
   "nbconvert_exporter": "python",
   "pygments_lexer": "ipython3",
   "version": "3.11.3"
  }
 },
 "nbformat": 4,
 "nbformat_minor": 5
}
