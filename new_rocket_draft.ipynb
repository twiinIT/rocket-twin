{
 "cells": [
  {
   "cell_type": "code",
   "execution_count": 3,
   "id": "533b5309-ce3a-45ff-9d11-b707d3045afe",
   "metadata": {},
   "outputs": [],
   "source": [
    "from cosapp.base import System\n",
    "from cosapp.drivers import RunOnce\n",
    "import numpy as np"
   ]
  },
  {
   "cell_type": "markdown",
   "id": "d889bb7e-c58f-4135-9cf2-2f37facd9acf",
   "metadata": {},
   "source": [
    "# **Global System**"
   ]
  },
  {
   "cell_type": "code",
   "execution_count": 4,
   "id": "f82f7496-b776-4bb8-92e4-f71ff2ee71e2",
   "metadata": {},
   "outputs": [],
   "source": [
    "class Earth(System):\n",
    "\n",
    "    def setup(self):\n",
    "\n",
    "        self.add_child(Gravity('grav'))\n",
    "        self.add_child(Atmosphere('atmo'))\n",
    "        self.add_child(Trajectory('traj'))\n",
    "        self.add_child(Rocket('rocket'))\n",
    "        self.add_child(Reservatory('reserv'))"
   ]
  },
  {
   "cell_type": "markdown",
   "id": "a6772767-c70f-474b-9b3b-548c48427838",
   "metadata": {},
   "source": [
    "# **Earth Properties**"
   ]
  },
  {
   "cell_type": "code",
   "execution_count": 5,
   "id": "e993e20f-fd87-486d-b3b6-6462b2d427b5",
   "metadata": {},
   "outputs": [],
   "source": [
    "class Gravity(System):\n",
    "\n",
    "    def setup(self):\n",
    "\n",
    "        self.add_inward('x')"
   ]
  },
  {
   "cell_type": "code",
   "execution_count": 6,
   "id": "3766c65c-df1b-4380-bb00-c3345d482dc0",
   "metadata": {},
   "outputs": [],
   "source": [
    "class Atmosphere(System):\n",
    "\n",
    "    def setup(self):\n",
    "\n",
    "        self.add_child(Density('dens'))\n",
    "        self.add_child(Pressure('pres'))"
   ]
  },
  {
   "cell_type": "code",
   "execution_count": 7,
   "id": "16ae4191-9e02-4291-ba6c-99bcd0b0e522",
   "metadata": {},
   "outputs": [],
   "source": [
    "class Pressure(System):\n",
    "\n",
    "    def setup(self):\n",
    "\n",
    "        self.add_inward('x')"
   ]
  },
  {
   "cell_type": "code",
   "execution_count": 8,
   "id": "61484053-75fc-410f-badf-a470a1328895",
   "metadata": {},
   "outputs": [],
   "source": [
    "class Density(System):\n",
    "\n",
    "    def setup(self):\n",
    "\n",
    "        self.add_inward('x')"
   ]
  },
  {
   "cell_type": "markdown",
   "id": "bdf90003-ace2-4ad3-9585-8a4d1cc45c37",
   "metadata": {},
   "source": [
    "# **Station's Reservatory**"
   ]
  },
  {
   "cell_type": "code",
   "execution_count": 9,
   "id": "709ab2e6-2673-4e75-a956-66383ea06638",
   "metadata": {
    "tags": []
   },
   "outputs": [],
   "source": [
    "class Reservatory(System):\n",
    "    \n",
    "    def setup(self):\n",
    "        \n",
    "        self.add_inward('x')"
   ]
  },
  {
   "cell_type": "markdown",
   "id": "b3fb6558-e514-43d0-b73f-af02c530cbc5",
   "metadata": {},
   "source": [
    "# **Rocket Trajectory**"
   ]
  },
  {
   "cell_type": "code",
   "execution_count": 10,
   "id": "cf3a60ea-d674-48d8-bf51-77c2debdf8a7",
   "metadata": {},
   "outputs": [],
   "source": [
    "class Trajectory(System):\n",
    "\n",
    "    def setup(self):\n",
    "\n",
    "        self.add_inward('x')"
   ]
  },
  {
   "cell_type": "markdown",
   "id": "6d9a9730-3724-4afd-9055-5330208f0a40",
   "metadata": {},
   "source": [
    "# **Rocket System**"
   ]
  },
  {
   "cell_type": "code",
   "execution_count": 115,
   "id": "d5f6fc55-1df8-4587-90c9-de8bb05ff0f3",
   "metadata": {},
   "outputs": [],
   "source": [
    "class Rocket(System):\n",
    "\n",
    "    def setup(self):\n",
    "\n",
    "        self.add_child(Fins('fins'))\n",
    "        self.add_child(Nose('nose'))\n",
    "        self.add_child(Tube('tube'))\n",
    "        self.add_child(Engine('engine'))\n",
    "        self.add_child(Tank('tank'))\n",
    "        self.add_child(RocketAero('aero'))\n",
    "        self.add_child(RocketGeom('geom'))\n",
    "        self.add_child(Dynamics('dyn'))\n",
    "        self.add_child(Kinematics('kin'))\n",
    "        \n",
    "        self.connect(self.fins, self.aero, ['Ar_fins', 'Cna_1', 'y_mac', 'RGC', 'RDIF', 'RFIF', 'delta', 'R_fins', 'Cd_fins', 'Cna_fins', 'Aw_fins', 'tf', 'c_bar', 'Xcp_fins', 'Lf'])\n",
    "        self.connect(self.nose, self.aero, ['Ar_nose', 'Cd_nose', 'Cna_nose', 'Aw_nose', 'L_nose', 'Xcp_nose'])\n",
    "        self.connect(self.tube, self.aero, ['R_tube', 'L_tube', 'Aw_tube'])"
   ]
  },
  {
   "cell_type": "markdown",
   "id": "6d6df07d-5da5-4de4-bf0b-77ae4ce7cd82",
   "metadata": {},
   "source": [
    "# **Rocket Components**"
   ]
  },
  {
   "cell_type": "markdown",
   "id": "c542def1-0bf2-4aec-a25e-3abe9aa0bd6e",
   "metadata": {},
   "source": [
    "## Fins"
   ]
  },
  {
   "cell_type": "code",
   "execution_count": 97,
   "id": "07ab7aa3-890d-4c3b-a2ab-e15adde69a62",
   "metadata": {},
   "outputs": [],
   "source": [
    "class Fins(System):\n",
    "\n",
    "    def setup(self):\n",
    "\n",
    "        #Fins known Parameters\n",
    "        self.add_inward('n', 4., desc=\"Number of fins\", unit='')\n",
    "        self.add_inward('s', 0.1, desc=\"Span of one fin\", unit='m')\n",
    "        self.add_inward('Cr', 0.1, desc=\"See image\", unit='m')\n",
    "        self.add_inward('Ct', 0.1, desc=\"See image\", unit='m')\n",
    "        self.add_inward('Xt', 0.1, desc=\"See image\", unit='m')\n",
    "        self.add_inward('tf', 0.001, desc=\"Fin thickness\", unit='m')\n",
    "        self.add_inward(\"delta\", 0.0, desc=\"Fin cant angle\", unit=\"\")\n",
    "        self.add_inward('rho', 300., desc=\"Fin material density\", unit = 'kg/m**3')\n",
    "        self.add_inward('Lf', 1., desc=\"Distance from fin tip to nose cone\", unit='m')\n",
    "        self.add_inward('R_fins', 1., desc=\"Tube radius at fins' position\", unit='m')\n",
    "        \n",
    "        #Rocket velocity\n",
    "        self.add_inward('v', np.zeros(3), desc=\"Rocket velocity relative to air\", unit='m/s')\n",
    "        \n",
    "        #Fins children\n",
    "        self.add_child(FinsGeom('geom'), pulling=['n', 's', 'Cr', 'Ct', 'Xt', 'tf', 'R_fins', 'rho', 'Xcg_fins', 'm_fins', 'I_fins'])\n",
    "        self.add_child(FinsAero('aero'), pulling=['n', 's', 'Cr', 'Ct', 'Xt', 'tf', 'R_fins', 'v', 'Cna_1', 'Cna_fins', 'Cd_fins', 'Xcp_fins', 'Ar_fins', 'Aw_fins', 'c_bar', 'y_mac', 'RGC', 'RDIF', 'RFIF'])\n",
    "        \n",
    "        "
   ]
  },
  {
   "cell_type": "code",
   "execution_count": 96,
   "id": "57f7750b-658c-4b3e-b5e4-7d4281830852",
   "metadata": {},
   "outputs": [],
   "source": [
    "class FinsGeom(System):\n",
    "    \n",
    "    def setup(self):\n",
    "        \n",
    "        #Fins known parameters\n",
    "        self.add_inward('n', 4., desc=\"Number of fins\", unit='')\n",
    "        self.add_inward('s', 0.1, desc=\"Span of one fin\", unit='m')\n",
    "        self.add_inward('Cr', 0.1, desc=\"See image\", unit='m')\n",
    "        self.add_inward('Ct', 0.1, desc=\"See image\", unit='m')\n",
    "        self.add_inward('Xt', 0.1, desc=\"See image\", unit='m')\n",
    "        self.add_inward('tf', 0.001, desc=\"Fin thickness\", unit='m')\n",
    "        self.add_inward('R_fins', 1., desc=\"Tube radius at fins' position\", unit='m')\n",
    "        self.add_inward('rho', 300., desc=\"Fin material density\", unit = 'kg/m**3')\n",
    "        \n",
    "        #Fins geometric outputs\n",
    "        self.add_outward('Xcg_fins', 1., desc=\"Center of gravity x-coordinate\", unit='m')\n",
    "        self.add_outward('m_fins', 1., desc=\"Fins mass\", unit='kg')\n",
    "        self.add_outward('I_fins', np.ones(3), desc=\"Fins principal inertia moments\", unit='kg*m**2')\n",
    "        \n",
    "    def compute(self):\n",
    "        \n",
    "        #Gamma c (see image)\n",
    "        gc = np.atan2(self.Xt + 0.5*(self.Ct - self.Cr),self.s)\n",
    "        \n",
    "        #Fins mass\n",
    "        self.m_fins = self.n * self.rho * self.tf * (self.Cr + self.Ct)*self.s/2\n",
    "        \n",
    "        #Fins center of gravity\n",
    "        self.Xcg_fins = self.Cr/2 + self.s * np.tan(gc)/2\n",
    "        \n",
    "        #Fins principal inertia moments\n",
    "        \n",
    "        Ix = self.n * self.m * (self.s/2 + self.R_fins)**2\n",
    "        Iy = Ix/2\n",
    "        \n",
    "        self.I_fins = np.array([Ix, Iy, Iy])\n",
    "        "
   ]
  },
  {
   "cell_type": "code",
   "execution_count": 95,
   "id": "8bdbc0df-0aa2-4aeb-b254-0f3095bc9789",
   "metadata": {
    "tags": []
   },
   "outputs": [],
   "source": [
    "class FinsAero(System):\n",
    "    \n",
    "    def setup(self):\n",
    "        \n",
    "        #Fins known parameters\n",
    "        self.add_inward('n', 4., desc=\"Number of fins\", unit='')\n",
    "        self.add_inward('s', 0.1, desc=\"Span of one fin\", unit='m')\n",
    "        self.add_inward('Cr', 0.1, desc=\"See image\", unit='m')\n",
    "        self.add_inward('Ct', 0.1, desc=\"See image\", unit='m')\n",
    "        self.add_inward('Xt', 0.1, desc=\"See image\", unit='m')\n",
    "        self.add_inward('tf', 0.001, desc=\"Fin thickness\", unit='m')\n",
    "        self.add_inward('R_fins', 1., desc=\"Tube radius at fins' position\", unit='m')\n",
    "        \n",
    "        #Rocket velocity\n",
    "        self.add_inward('v', np.zeros(3), desc=\"Rocket velocity relative to air\", unit='m/s')\n",
    "        \n",
    "        #Fins aerodynamical values/properties\n",
    "        self.add_inward('coefs', np.array([1., 1., 1., 1., 0.948, 0.913, 0.854, 0.810, 0.750]), desc=\"Correction coefficients\", unit='')\n",
    "        self.add_inward('vsound', 340.29, desc=\"Sound velocity\", unit='m/s')\n",
    "        \n",
    "        #Fins aerodynamical outputs\n",
    "        self.add_outward('Cna_1', 2., desc=\"1 fin normal force coefficient slope\", unit='')\n",
    "        self.add_outward('Cna_fins', 2., desc=\"Fins normal force coefficient slope\", unit='')\n",
    "        self.add_outward('Cd_fins', 1., desc=\"Fins drag coefficient\", unit='')\n",
    "        self.add_outward('Xcp_fins', 1., desc=\"Fins center of pressure\", unit='m')\n",
    "        self.add_outward('Ar_fins', 1., desc=\"Fins Area of drag effect\", unit='m**2')\n",
    "        self.add_outward('Aw_fins', 1., desc=\"Fins wetted area\", unit='m**2')\n",
    "        self.add_outward('c_bar', 1., desc=\"Fins mean aerodynamic chord length\", unit='m')\n",
    "        self.add_outward('y_mac', 1., desc=\"Position of mean aerodynamic chord length\", unit='m')\n",
    "        self.add_outward('RGC', 1., desc=\"Roll geometrical constant\", unit='')\n",
    "        self.add_outward('RDIF', 1., desc=\"Roll damping interference factor\", unit='')\n",
    "        self.add_outward('RFIF', 1., desc=\"Roll forcing interference factor\", unit='')\n",
    "        \n",
    "    def compute(self):\n",
    "        \n",
    "        ## Source: https://openrocket.info/documentation.html (download first pdf)\n",
    "        \n",
    "        #Fins frontal surface (reference area)\n",
    "        self.Ar_fins = self.n * self.s * self.tf\n",
    "        \n",
    "        #Fins lateral surface (wetted area)\n",
    "        self.Aw_fins = self.n*(self.Ct + self.Cr)*self.s/2\n",
    "        \n",
    "        #Fins extended surface\n",
    "        Af = Ae + self.Cr*self.R_fins\n",
    "        \n",
    "        #Fins gamma c angle (see image)\n",
    "        gc = np.atan2(self.Xt + 0.5*(self.Ct - self.Cr),self.s)\n",
    "        \n",
    "        #Mach number\n",
    "        M = np.linalg.norm(self.v)/self.vsound\n",
    "        \n",
    "        #Mean aerodynamic chord length\n",
    "        self.c_bar = (2/3)*(self.Cr + self.Ct + self.Cr*self.Ct/(self.Cr + self.Ct))\n",
    "        \n",
    "        #Position of mean aerodynamic chord length\n",
    "        self.y_mac = (self.s / 3) * (self.Cr + 2 * self.Ct) / (self.Cr + self.Ct)\n",
    "        \n",
    "        #Correction coefficients\n",
    "        if self.n <= 8:\n",
    "            coef = self.coefs[n - 1]\n",
    "        else:\n",
    "            coef = self.coefs[8]\n",
    "            \n",
    "        #Normal force coefficient slope for one fin\n",
    "        self.Cna_1 = (self.s/self.R_fins)**2 / (1 + np.sqrt(1 + (s**2/(np.cos(gc)*self.Aw_fins))))\n",
    "        \n",
    "        #Normal force coefficient slope\n",
    "        self.Cna_fins = coef * self.n * (1 + self.R_fins/(self.s + self.R_fins)) * self.Cna_1\n",
    "        \n",
    "        #Fins center of pressure\n",
    "        self.Xcp_fins = (self.s*(self.Cr + 2*self.Ct)/(3*np.cos(gc)) + (self.Cr**2 + self.Ct**2 + self.Cr*self.Ct)/6)/(self.Cr + self.Ct)\n",
    "        \n",
    "        #Drag coefficient due to drag on fins' base\n",
    "        Cd_base = 0.12 + 0.13*M**2\n",
    "        \n",
    "        #Drag coefficient due to pressure drag on fins\n",
    "        Cd_fin_pressure = ((1 - M**2)**(-0.417) - 1)*np.cos(gc)**2\n",
    "        \n",
    "        #Total drag coefficient\n",
    "        self.Cd_fins = Cd_base + Cd_fin_pressure\n",
    "        \n",
    "        #### Rolling Coefficients ####\n",
    "        \n",
    "        #Adimensional parameters\n",
    "        lbd = self.Ct / self.Cr\n",
    "        tau = (self.s + self.R_fins) / self.R_fins\n",
    "        \n",
    "        #Roll geometrical constant\n",
    "        self.RGC = (\n",
    "            (self.Cr + 3 * self.Ct) * self.s**3\n",
    "            + 4 * (self.Cr + 2 * self.Ct) * self.R_fins * self.s**2\n",
    "            + 6 * (self.Cr + self.Ct) * self.s * self.R_fins**2\n",
    "        ) / 12\n",
    "        \n",
    "        \n",
    "        #Roll damping interference factor\n",
    "        self.RDIF = 1 + (\n",
    "            ((tau - lbd) / (tau)) - ((1 - lbd) / (tau - 1)) * np.log(tau)\n",
    "        ) / (\n",
    "            ((tau + 1) * (tau - lbd)) / (2) - ((1 - lbd) * (tau**3 - 1)) / (3 * (tau - 1))\n",
    "        )\n",
    "        \n",
    "        \n",
    "        #Roll forcing interference factor\n",
    "        self.RFIF = (1 / np.pi**2) * (\n",
    "            (np.pi**2 / 4) * ((tau + 1) ** 2 / tau**2)\n",
    "            + ((np.pi * (tau**2 + 1) ** 2) / (tau**2 * (tau - 1) ** 2))\n",
    "            * np.arcsin((tau**2 - 1) / (tau**2 + 1))\n",
    "            - (2 * np.pi * (tau + 1)) / (tau * (tau - 1))\n",
    "            + ((tau**2 + 1) ** 2)\n",
    "            / (tau**2 * (tau - 1) ** 2)\n",
    "            * (np.arcsin((tau**2 - 1) / (tau**2 + 1))) ** 2\n",
    "            - (4 * (tau + 1))\n",
    "            / (tau * (tau - 1))\n",
    "            * np.arcsin((tau**2 - 1) / (tau**2 + 1))\n",
    "            + (8 / (tau - 1) ** 2) * np.log((tau**2 + 1) / (2 * tau))\n",
    "        )\n",
    "        \n",
    "        "
   ]
  },
  {
   "attachments": {
    "6e1f277e-59db-4568-9c4c-42e074ef1b0d.png": {
     "image/png": "[encoded data removed]"
    }
   },
   "cell_type": "markdown",
   "id": "0c135fdd-8330-472f-bd75-258a3f7efe1d",
   "metadata": {},
   "source": [
    "![image.png](attachment:6e1f277e-59db-4568-9c4c-42e074ef1b0d.png)"
   ]
  },
  {
   "cell_type": "markdown",
   "id": "d21411a6-0006-4ac6-93b5-a8873af41195",
   "metadata": {},
   "source": [
    "## Nose - Cone"
   ]
  },
  {
   "cell_type": "code",
   "execution_count": 92,
   "id": "a2785f70-dab2-4fa3-8cdd-f50d837ea19f",
   "metadata": {},
   "outputs": [],
   "source": [
    "class Nose(System):\n",
    "\n",
    "    def setup(self):\n",
    "        \n",
    "        #Nose known parameters\n",
    "        self.add_inward('R_nose', 1., desc=\"Nose radius\", unit='m')\n",
    "        self.add_inward('L_nose', 1., desc=\"Nose length\", unit='m')\n",
    "        self.add_inward('rho', 300., desc=\"Nose Density\", unit='kg/m**3')\n",
    "        \n",
    "        #Nose children\n",
    "        self.add_child(NoseGeom('geom'), pulling=['R_nose', 'L_nose', 'rho', 'Xcg_nose', 'm_nose', 'I_nose'])\n",
    "        self.add_child(NoseAero('aero'), pulling=['R_nose', 'L_nose', 'Cna_nose', 'Cd_nose', 'Xcp_nose', 'Ar_nose', 'Aw_nose'])\n",
    "        "
   ]
  },
  {
   "cell_type": "code",
   "execution_count": 93,
   "id": "dc262101-7a85-4158-8ec2-513285e33857",
   "metadata": {
    "tags": []
   },
   "outputs": [],
   "source": [
    "class NoseGeom(System):\n",
    "    \n",
    "    def setup(self):\n",
    "        \n",
    "        #Nose known parameters\n",
    "        self.add_inward('R_nose', 1., desc=\"Nose radius\", unit='m')\n",
    "        self.add_inward('L_nose', 1., desc=\"Nose length\", unit='m')\n",
    "        self.add_inward('rho', 300., desc=\"Nose Density\", unit='kg/m**3')\n",
    "        \n",
    "        #Nose geometric outputs\n",
    "        self.add_outward('Xcg_nose', 1., desc=\"Center of gravity x-coordinate\", unit='m')\n",
    "        self.add_outward('m_nose', 1., desc=\"Nose mass\", unit='kg')\n",
    "        self.add_outward('I_nose', np.ones(3), desc=\"Nose principal inertia moments\", unit='kg*m**2')\n",
    "        \n",
    "    def compute(self):\n",
    "        \n",
    "        #Nose volume\n",
    "        V = self.L_nose*np.pi*self.R_nose**2/3\n",
    "        \n",
    "        #Nose mass\n",
    "        self.m_nose = self.rho*V\n",
    "        \n",
    "        #Nose center of gravity\n",
    "        self.Xcg_nose = 3*self.L_nose/4\n",
    "        \n",
    "        #Nose inertia moments\n",
    "        Ix = (3/10)*self.m_nose*self.R_nose**2\n",
    "        Iy = (3*self.m_nose/20)*(self.R_nose**2 + self.L_nose**2/4)\n",
    "        \n",
    "        self.I_nose = np.array([Ix, Iy, Iy])"
   ]
  },
  {
   "cell_type": "code",
   "execution_count": 94,
   "id": "00c9e90f-a626-4c44-9c9f-4b0aed621989",
   "metadata": {
    "tags": []
   },
   "outputs": [],
   "source": [
    "class NoseAero(System):\n",
    "    \n",
    "    def setup(self):\n",
    "        \n",
    "        #Nose known parameters\n",
    "        self.add_inward('R_nose', 1., desc=\"Nose radius\", unit='m')\n",
    "        self.add_inward('L_nose', 1., desc=\"Nose length\", unit='m')\n",
    "        \n",
    "        #Nose aerodynamical outputs\n",
    "        self.add_outward('Cna_nose', 2., desc=\"Nose normal force coefficient slope\", unit='')\n",
    "        self.add_outward('Cd_nose', 1., desc=\"Nose drag coefficient\", unit='')\n",
    "        self.add_outward('Xcp_nose', 1., desc=\"Nose center of pressure\", unit='m')\n",
    "        self.add_outward('Ar_nose', 1., desc=\"Nose effective surface\", unit='m**2')\n",
    "        self.add_outward('Aw_nose', 1., desc=\"Nose wetted surface\", unit='m**2')\n",
    "        \n",
    "    def compute(self):\n",
    "        \n",
    "        #Nose frontal area (reference area)\n",
    "        self.Ar_nose = np.pi * self.R_nose**2\n",
    "        \n",
    "        #Nose lateral area (wetted area)\n",
    "        self.Aw_nose = np.pi * self.R_nose * np.sqrt(self.R_nose**2 + self.L_nose**2)\n",
    "        \n",
    "        #Nose center of pressure\n",
    "        self.Xcp_nose = 2*self.L_nose/3\n",
    "        \n",
    "        #Nose drag coefficient\n",
    "        self.Cd_nose = 0.8*self.R_nose**2/(self.R_nose**2 + self.L_nose**2)"
   ]
  },
  {
   "cell_type": "markdown",
   "id": "b81210e6-13b7-451b-9b4c-a436de059b3d",
   "metadata": {},
   "source": [
    "## Tube"
   ]
  },
  {
   "cell_type": "code",
   "execution_count": 87,
   "id": "9fc6545e-3e3c-40f4-b874-9cd3d222b3a9",
   "metadata": {},
   "outputs": [],
   "source": [
    "class Tube(System):\n",
    "\n",
    "    def setup(self):\n",
    "        \n",
    "        #Tube known parameters\n",
    "        self.add_inward('R_tube', 1., desc=\"Tube radius\", unit='m')\n",
    "        self.add_inward('L_tube', 1., desc=\"Tube length\", unit='m')\n",
    "        self.add_inward('rho', 300., desc=\"Tube material density\", unit='kg/m**3')\n",
    "        \n",
    "        #Tube children\n",
    "        self.add_child(TubeGeom('geom'), pulling=['rho', 'R_tube', 'L_tube', 'Xcg_tube', 'm_tube', 'I_tube'])\n",
    "        self.add_child(TubeAero('aero'), pulling=['R_tube', 'L_tube', 'Cna_tube', 'Cd_tube', 'Xcp_tube', 'Aw_tube'])"
   ]
  },
  {
   "cell_type": "code",
   "execution_count": 89,
   "id": "127389a2-8266-4e76-9f63-dd1bc4f94eb2",
   "metadata": {
    "tags": []
   },
   "outputs": [],
   "source": [
    "class TubeGeom(System):\n",
    "    \n",
    "    def setup(self):\n",
    "        \n",
    "        #Tube known parameters\n",
    "        self.add_inward('R_tube', 1., desc=\"Tube radius\", unit='m')\n",
    "        self.add_inward('L_tube', 1., desc=\"Tube length\", unit='m')\n",
    "        self.add_inward('rho', 300., desc=\"Tube material density\", unit='kg/m**3')\n",
    "        \n",
    "        #Tube geometric outputs\n",
    "        self.add_outward('Xcg_tube', 1., desc=\"Center of gravity x-coordinate\", unit='m')\n",
    "        self.add_outward('m_tube', 1., desc=\"Tube mass\", unit='kg')\n",
    "        self.add_outward('I_tube', np.ones(3), desc=\"Tube principal inertia moments\", unit='kg*m**2')\n",
    "        \n",
    "    def compute(self):\n",
    "        \n",
    "        #Tube center of gravity\n",
    "        self.Xcg_tube = self.L_tube/2\n",
    "        \n",
    "        #Tube mass\n",
    "        self.m_tube = self.rho * self.L_tube * np.pi * self.R_tube**2\n",
    "        \n",
    "        #Tube inertia moments\n",
    "        Iy = self.m_tube * self.R_tube**2/4 + self.m_tube * self.L_tube**2/12\n",
    "        Ix = self.m_tube * self.R_tube**2/2\n",
    "        \n",
    "        self.I_tube = np.array([Ix, Iy, Iy])"
   ]
  },
  {
   "cell_type": "code",
   "execution_count": 86,
   "id": "62199693-bc37-47a3-a950-e09049bf2b17",
   "metadata": {
    "tags": []
   },
   "outputs": [],
   "source": [
    "class TubeAero(System):\n",
    "    \n",
    "    def setup(self):\n",
    "        \n",
    "        #Tube known parameters\n",
    "        self.add_inward('R_tube', 1., desc=\"Tube radius\", unit='m')\n",
    "        self.add_inward('L_tube', 1., desc=\"Tube length\", unit='m')\n",
    "        \n",
    "        #Tube aerodynamical outputs\n",
    "        self.add_outward('Cna_tube', 0., desc=\"Tube normal force coefficient slope\", unit='')\n",
    "        self.add_outward('Cd_tube', 0., desc=\"Tube drag coefficient\", unit='')\n",
    "        self.add_outward('Xcp_tube', 1., desc=\"Tube center of pressure\", unit='m')\n",
    "        self.add_outward('Aw_tube', 1., desc=\"Tube wetted surface\", unit='m**2')\n",
    "        \n",
    "    def compute(self):\n",
    "        \n",
    "        #Tube center of pressure\n",
    "        self.Xcp_tube = self.L_tube/2\n",
    "        \n",
    "        #Tube lateral surface (wetted surface)\n",
    "        self.Aw_tube = 2*np.pi*self.R_tube*self.L_tube\n",
    "        "
   ]
  },
  {
   "cell_type": "markdown",
   "id": "cd6e0547-7fc0-4ae2-9930-822b7f175b41",
   "metadata": {},
   "source": [
    "## Engine"
   ]
  },
  {
   "cell_type": "code",
   "execution_count": 21,
   "id": "e392e14f-0054-4713-bc36-80b599332a76",
   "metadata": {},
   "outputs": [],
   "source": [
    "class Engine(System):\n",
    "\n",
    "    def setup(self):\n",
    "\n",
    "        self.add_inward('x')"
   ]
  },
  {
   "cell_type": "markdown",
   "id": "8e2edf98-06b2-4829-a7b2-7e75ad1d0a3b",
   "metadata": {},
   "source": [
    "## Fuel Tank"
   ]
  },
  {
   "cell_type": "code",
   "execution_count": 22,
   "id": "b3807331-9b23-4d60-b467-c69d38500411",
   "metadata": {},
   "outputs": [],
   "source": [
    "class Tank(System):\n",
    "\n",
    "    def setup(self):\n",
    "\n",
    "        self.add_inward('x')"
   ]
  },
  {
   "cell_type": "markdown",
   "id": "fa42e0a9-31dc-48d4-9f05-a47337b12e2b",
   "metadata": {},
   "source": [
    "# **Rocket overall geometry**"
   ]
  },
  {
   "cell_type": "code",
   "execution_count": 56,
   "id": "ced426a1-5645-45c1-910c-ea149cb8d5f7",
   "metadata": {},
   "outputs": [],
   "source": [
    "class RocketGeom(System):\n",
    "    \n",
    "    def setup(self):\n",
    "        \n",
    "        ## Will compute the total mass, moments of inertia and center of gravity\n",
    "        self.add_inward('x')"
   ]
  },
  {
   "cell_type": "markdown",
   "id": "4f69701c-8a51-4910-92d6-acbdf86cc59c",
   "metadata": {},
   "source": [
    "# **Rocket overall aerodynamics**"
   ]
  },
  {
   "cell_type": "code",
   "execution_count": 116,
   "id": "08a69413-e9f3-4dac-a78c-e38d80ad6827",
   "metadata": {},
   "outputs": [],
   "source": [
    "class RocketAero(System):\n",
    "    \n",
    "    def setup(self):\n",
    "        \n",
    "        self.add_child(Aeroforces('afor'), pulling=['rho', 'v', 'Ar_fins', 'Ar_nose', 'Fa'])\n",
    "        self.add_child(Moments('moments'), pulling=['Cna_1', 'y_mac', 'RGC', 'RDIF', 'RFIF', 'delta', 'Ar_fins', 'R_fins', 'Ar_nose', 'v', 'av', 'rho', 'Xcg', 'Ma'])\n",
    "        self.add_child(Coefficients('coef'), pulling=['Cd_fins', 'Cna_fins', 'Ar_fins', 'Aw_fins', 'tf', 'c_bar', 'Cd_nose', 'Cna_nose', 'Ar_nose', 'Aw_nose', 'L_nose', 'R_tube', 'L_tube', 'Aw_tube', 'v'])\n",
    "        self.add_child(CPA('cpa'), pulling=['Xcp_fins', 'Cna_fins', 'Lf', 'Xcp_nose', 'Cna_nose'])\n",
    "        \n",
    "        self.connect(self.afor, self.coef, ['Cd', 'Cn'])\n",
    "        self.connect(self.afor, self.moments, ['Fa'])\n",
    "        self.connect(self.cpa, self.moments, ['Xcp'])"
   ]
  },
  {
   "cell_type": "code",
   "execution_count": 37,
   "id": "964b3b06-1a87-41c7-b3cb-4dfdef83e8fb",
   "metadata": {
    "tags": []
   },
   "outputs": [],
   "source": [
    "class Aeroforces(System):\n",
    "    \n",
    "    def setup(self):\n",
    "        \n",
    "        #Atmosphere parameters\n",
    "        self.add_inward('rho', 1., desc=\"Air density at rocket's height\", unit='kg/m**3')\n",
    "        \n",
    "        #Rocket parameters\n",
    "        self.add_inward('v', 1., desc=\"Rocket velocity relative to air\", unit='m/s')\n",
    "        \n",
    "        #Fins parameters\n",
    "        self.add_inward('Ar_fins', 1., desc=\"Fins reference area\", unit='m**2')\n",
    "        \n",
    "        #Cone parameters\n",
    "        self.add_inward('Ar_nose', 1., desc=\"Nose reference area\", unit='m**2')\n",
    "        \n",
    "        #Coefficient parameters\n",
    "        self.add_inward('Cd', 1., desc=\"Rocket drag coefficient\", unit='')\n",
    "        self.add_inward('Cn', 1., desc=\"Rocket normal force coefficient\", unit='')\n",
    "        \n",
    "        #Aerodynamic force\n",
    "        self.add_outward('Fa', np.zeros(3), desc=\"Aerodynamic force\", unit='N')\n",
    "        \n",
    "    def compute(self):\n",
    "        \n",
    "        v = np.linalg.norm(self.v)\n",
    "        \n",
    "        #Normal force\n",
    "        Fn = 0.5 * self.Cn * self.rho * v**2 * (self.Ar_fins + self.Ar_nose)\n",
    "        \n",
    "        #Drag force\n",
    "        Fd = 0.5 * self.Cd * self.rho * v**2 * (self.Ar_fins + self.Ar_nose)\n",
    "        \n",
    "        #Normal force angle\n",
    "        a = np.arctan2(v[2],v[1])\n",
    "        \n",
    "        #Total aerodynamic force\n",
    "        self.F = np.array([-Fd, -Fn*np.sin(a), -Fn*np.cos(a)])\n",
    "        "
   ]
  },
  {
   "cell_type": "code",
   "execution_count": 100,
   "id": "62ee7d67-a429-4938-b621-469788fceb58",
   "metadata": {
    "tags": []
   },
   "outputs": [],
   "source": [
    "class Moments(System):\n",
    "    \n",
    "    def setup(self):\n",
    "        \n",
    "        #Fins parameters\n",
    "        self.add_inward('Cna_1', 2., desc=\"1 fin normal force coefficient slope\", unit='')\n",
    "        self.add_inward('y_mac', 1., desc=\"Position of mean aerodynamic chord length\", unit='m')\n",
    "        self.add_inward('RGC', 1., desc=\"Roll geometrical constant\", unit='')\n",
    "        self.add_inward('RDIF', 1., desc=\"Roll damping interference factor\", unit='')\n",
    "        self.add_inward('RFIF', 1., desc=\"Roll forcing interference factor\", unit='')\n",
    "        self.add_inward(\"delta\", 0.0, desc=\"Fin cant angle\", unit=\"\")\n",
    "        self.add_inward('Ar_fins', 1., desc=\"Fins reference area\", unit='m**2')\n",
    "        self.add_inward('R_fins', 1., desc=\"Tube radius at fins' position\", unit='m')\n",
    "        \n",
    "        #Nose parameters\n",
    "        self.add_inward('Ar_nose', 1., desc=\"Nose reference area\", unit='m**2')\n",
    "        \n",
    "        #Rocket Velocities\n",
    "        self.add_inward('v', 1., desc=\"Rocket velocity relative to air\", unit='m/s')\n",
    "        self.add_inward('av', 1., desc=\"Rocket angular velocity\", unit='1/s')\n",
    "        \n",
    "        #Atmosphere density\n",
    "        self.add_inward('rho', 1., desc=\"Air density at rocket height\", unit='kg/m**3')\n",
    "        \n",
    "        #Forces\n",
    "        self.add_inward('Fn', 1., desc=\"Value of normal aerodynamic force\", unit='N')\n",
    "        self.add_inward('Fa', 1., desc=\"Total aerodynamic force\", unit='N')\n",
    "        \n",
    "        #Positions\n",
    "        self.add_inward('Xcp', 1., desc=\"Position of center of pressure\", unit='m')\n",
    "        self.add_inward('Xcg', 1., desc=\"Position of center of gravity\", unit='m')\n",
    "        \n",
    "        #Total moment\n",
    "        self.add_outward('Ma', 1., desc=\"Aerodynamic moment\", unit='N*m')\n",
    "        \n",
    "    def compute(self):\n",
    "        \n",
    "        v = np.linalg.norm(self.v)\n",
    "        S_ref = self.Ar_fins + self.Ar_nose\n",
    "        \n",
    "        #### ROLLING MOMENT ####\n",
    "        \n",
    "        #Forcing moment coefficient\n",
    "        Clfd = self.RFIF*self.Fn*(self.R_fins + self.y_mac)*self.Cna_1/(2*self.R_fins)\n",
    "        \n",
    "        #Damping moment coefficient\n",
    "        Cldw = self.RDIF*self.Fn*self.Cna_1*np.cos(self.delta)*self.RGC/(4*S_ref*self.R_fins**2)\n",
    "        \n",
    "        #Forcing moment\n",
    "        \n",
    "        Mlf = self.rho * v**2 * S_ref * self.R_fins * Clfd * self.delta\n",
    "        \n",
    "        #Damping moment\n",
    "        \n",
    "        Mld = self.rho * v * S_ref * self.R_fins**2 * Cldw * self.av[0]\n",
    "        \n",
    "        #Total rolling moment\n",
    "        \n",
    "        M_roll = Mlf - Mld\n",
    "        \n",
    "        \n",
    "        #### TOTAL MOMENT ####\n",
    "        \n",
    "        OM = np.array([self.Xcg - self.Xcp, 0., 0.])\n",
    "        self.Ma = np.cross(OM, self.Fa)\n",
    "        self.Ma[0] += M_roll\n",
    "        "
   ]
  },
  {
   "cell_type": "code",
   "execution_count": 104,
   "id": "1d6804af-3b2a-4a8e-a8e2-cc643134cf78",
   "metadata": {
    "tags": []
   },
   "outputs": [],
   "source": [
    "class Coefficients(System):\n",
    "    \n",
    "    def setup(self):\n",
    "        \n",
    "        #Fins parameters\n",
    "        self.add_inward('Cd_fins', 1., desc=\"Fins drag coefficient\", unit='')\n",
    "        self.add_inward('Cna_fins', 1., desc=\"Fins normal force coefficient slope\", unit='')\n",
    "        self.add_inward('Ar_fins', 1., desc=\"Fins reference area\", unit='m**2')\n",
    "        self.add_inward('Aw_fins', 1., desc=\"Fins wetted area\", unit='m**2')\n",
    "        self.add_inward('tf', 0.001, desc=\"Fins thickness\", unit='m')\n",
    "        self.add_inward('c_bar', 1., desc=\"Mean aerodynamic chord length\", unit='m')\n",
    "        \n",
    "        #Nose parameters\n",
    "        self.add_inward('Cd_nose', 1., desc=\"Fins drag coefficient\", unit='')\n",
    "        self.add_inward('Cna_nose', 1., desc=\"Fins normal force coefficient slope\", unit='')\n",
    "        self.add_inward('Ar_nose', 1., desc=\"Nose reference area\", unit='m**2')\n",
    "        self.add_inward('Aw_nose', 1., desc=\"Nose wetted area\", unit='m**2')\n",
    "        self.add_inward('L_nose', 1., desc=\"Nose length\", unit='m')\n",
    "        \n",
    "        #Tube parameters\n",
    "        self.add_inward('Aw_tube', 1., desc=\"Tube wetted area\", unit='m**2')\n",
    "        self.add_inward('R_tube', 1., desc=\"Tube radius\", unit='m')\n",
    "        self.add_inward('L_tube', 1., desc=\"Tube length\", unit='m')\n",
    "        \n",
    "        #Rocket parameters\n",
    "        self.add_inward('Rs', 20*10**(-6), desc=\"Surface roughness\", unit='m')\n",
    "        self.add_inward('v', np.zeros(3), desc=\"Rocket velocity relative to air\", unit='m/s')\n",
    "        \n",
    "        #Environment parameters\n",
    "        self.add_inward('nu', 1., desc=\"Kinematic viscosity\", unit='m**2/s')\n",
    "        self.add_inward('vsound', 340.29, desc=\"Sound velocity\", unit='m/s')\n",
    "        \n",
    "        #Coefficients values\n",
    "        self.add_outward('Cd', 1., desc=\"Rocket drag coefficient\", unit='')\n",
    "        self.add_outward('Cn', 1., desc=\"Rocket normal force coefficient\", unit='')\n",
    "        \n",
    "    def compute(self):\n",
    "        \n",
    "        #### DRAG COEFFICIENT ####\n",
    "        \n",
    "        #Rocket velocity\n",
    "        v = np.linalg.norm(self.v)\n",
    "        \n",
    "        #Angle of attack\n",
    "        alpha = (np.arccos(self.v[0]/v) if v > 0.1 else 0)\n",
    "        \n",
    "        #Mach number\n",
    "        M = v/self.vsound\n",
    "        \n",
    "        #Rocket finesse ratio\n",
    "        f = 0.5*(self.L_nose + self.L_tube)/self.R_tube\n",
    "        \n",
    "        #Skin friction drag coefficient computation\n",
    "        \n",
    "        #Reynolds number\n",
    "        Re = (self.L_nose + self.L_tube) * v / self.nu\n",
    "        \n",
    "        #Critical Reynolds number\n",
    "        Rc = 51 * (self.Rs/(self.L_nose + self.L_tube))**(-1.039)\n",
    "        \n",
    "        #Computation of skin friction coefficient\n",
    "        if Re < 10**4:\n",
    "            Cf = 1.48 * 10**(-2)\n",
    "        elif R > 10**4 and R < Rc:\n",
    "            Cf = 1 / (1.5 * np.log(Re) - 5.6)**2\n",
    "        else:\n",
    "            Cf = 0.032 * (self.Rs / (self.L_nose + self.L_tube))**0.2\n",
    "        \n",
    "        #Correction for compressible flow\n",
    "        Cf *= (1 - 0.1 * M**2)\n",
    "        \n",
    "        #Scaling to correct reference area\n",
    "        Cf *= ((1 + 0.5/f)*(self.Aw_nose + self.Aw_tube) + (1 + 2*self.tf/self.c_bar)*self.Aw_fins)/(self.Ar_nose + self.Ar_fins)\n",
    "        \n",
    "        #Computation of total drag coefficient\n",
    "        \n",
    "        self.Cd = (self.Cd_nose * self.Ar_nose + self.Cd_fins*self.Ar_fins)/(self.Ar_nose + self.Ar_fins) + Cf\n",
    "        \n",
    "        #Correction for non-zero angle of attack\n",
    "        \n",
    "        def f(alpha):\n",
    "            if alpha <= 17 * np.pi / 180:\n",
    "                return -22.970602 * alpha**3 + 10.22327 * alpha**2 + 1\n",
    "            else:\n",
    "                return (\n",
    "                    1.25711 * (alpha - 17 * np.pi / 180) ** 3\n",
    "                    - 2.40250 * (alpha - 17 * np.pi / 180) ** 2\n",
    "                    + 1.3\n",
    "                )\n",
    "            \n",
    "        self.Cd *= f(np.abs(self.alpha))\n",
    "        \n",
    "        #### NORMAL FORCE COEFFICIENT ####\n",
    "        \n",
    "        self.Cn = (self.Cna_nose + self.Cna_fins)*alpha\n",
    "        \n",
    "        "
   ]
  },
  {
   "cell_type": "code",
   "execution_count": 101,
   "id": "fff07773-217d-4a96-9cb0-ba9209223ce1",
   "metadata": {
    "tags": []
   },
   "outputs": [],
   "source": [
    "class CPA(System):\n",
    "    \n",
    "    def setup(self):\n",
    "        \n",
    "        #Fins parameters\n",
    "        self.add_inward('Xcp_fins', 1., desc=\"Fins center of pressure\", unit='m')\n",
    "        self.add_inward('Cna_fins', 1., desc=\"Fins normal force coefficient slope\", unit='')\n",
    "        self.add_inward('Lf', 1., desc=\"Distance from fin tip to nose cone\", unit='m')\n",
    "        \n",
    "        #Nose parameters\n",
    "        self.add_inward('Xcp_nose', 1., desc=\"Nose center of pressure\", unit='m')\n",
    "        self.add_inward('Cna_nose', 1., desc=\"Fins normal force coefficient slope\", unit='')\n",
    "        \n",
    "        #Rocket center of pressure\n",
    "        self.add_outward('Xcp', 1., desc=\"Rocket center of pressure\", unit='m')\n",
    "        \n",
    "    def compute(self):\n",
    "        \n",
    "        self.Xcp = (self.Cna_nose*self.Xcp_nose + self.Cna_fins*(self.Lf +self.Xcp_fins))/(self.Cna_nose + self.Cna_fins)\n",
    "        "
   ]
  },
  {
   "cell_type": "markdown",
   "id": "d798ddde-1370-4d30-806e-8b801c50dcdd",
   "metadata": {},
   "source": [
    "# **Rocket Movement**"
   ]
  },
  {
   "cell_type": "code",
   "execution_count": 29,
   "id": "cf4a6f81-407d-4049-a907-022f980c6a82",
   "metadata": {},
   "outputs": [],
   "source": [
    "class Dynamics(System):\n",
    "\n",
    "    def setup(self):\n",
    "\n",
    "        self.add_inward('x')"
   ]
  },
  {
   "cell_type": "code",
   "execution_count": 30,
   "id": "48f26abd-1144-461d-8c65-711193e10e57",
   "metadata": {},
   "outputs": [],
   "source": [
    "class Kinematics(System):\n",
    "\n",
    "    def setup(self):\n",
    "\n",
    "        self.add_inward('x')"
   ]
  },
  {
   "cell_type": "code",
   "execution_count": null,
   "id": "c23123a8-d922-45d9-9162-f5c120756397",
   "metadata": {},
   "outputs": [],
   "source": []
  },
  {
   "cell_type": "code",
   "execution_count": null,
   "id": "105716d3-37e3-4a46-a5fd-b30b9bb21982",
   "metadata": {},
   "outputs": [],
   "source": []
  },
  {
   "cell_type": "markdown",
   "id": "aa3da120-c37d-4691-910c-6ab8da14ac20",
   "metadata": {},
   "source": [
    "# **System Representation**"
   ]
  },
  {
   "cell_type": "code",
   "execution_count": 117,
   "id": "50acdbf6-7e1c-4700-a71e-14a14b4e0438",
   "metadata": {},
   "outputs": [],
   "source": [
    "earth = Earth('earth')"
   ]
  },
  {
   "cell_type": "code",
   "execution_count": 118,
   "id": "8bc58510-fdff-42bf-9c58-b5c9da0585dd",
   "metadata": {},
   "outputs": [
    {
     "data": {
      "text/html": [
       "\n",
       "        <iframe\n",
       "            width=\"810px\"\n",
       "            height=\"650px\"\n",
       "            src=\"earth.html\"\n",
       "            frameborder=\"0\"\n",
       "            allowfullscreen\n",
       "            \n",
       "        ></iframe>\n",
       "        "
      ],
      "text/markdown": [
       "\n",
       "### Child components\n",
       "\n",
       "- `grav`: Gravity\n",
       "- `atmo`: Atmosphere\n",
       "- `traj`: Trajectory\n",
       "- `rocket`: Rocket\n",
       "- `reserv`: Reservatory"
      ],
      "text/plain": [
       "earth - Earth"
      ]
     },
     "execution_count": 118,
     "metadata": {},
     "output_type": "execute_result"
    }
   ],
   "source": [
    "earth"
   ]
  },
  {
   "cell_type": "code",
   "execution_count": 119,
   "id": "ec8f72e1-35e7-4ec2-b0bd-f9a1e4a24dcf",
   "metadata": {
    "tags": []
   },
   "outputs": [
    {
     "data": {
      "text/markdown": [
       "`earth.rocket.inwards`: ExtensiblePort\n",
       "\n",
       "<div class='cosapp-port-table' style='margin-left: 25px; margin-top: -12px'><style type='text/css'>.cosapp-port-table >table >thead{display: none}.cosapp-port-table tbody tr{background: rgba(255, 255, 255, 0)!important}.cosapp-port-table tbody tr:hover{background: #e1f5fe!important}.cosapp-port-table >table {margin-left: unset; margin-right: unset}</style>\n",
       "\n",
       "|  |  |\n",
       "---|---\n",
       "  **aero_delta** &#128274;&#128274; : 0 | Fin cant angle\n",
       "  **aero_R_fins** &#128274;&#128274; : 1 m | Tube radius at fins' position\n",
       "  **aero_tf** &#128274;&#128274; : 0.001 m | Fins thickness\n",
       "  **aero_Lf** &#128274;&#128274; : 1 m | Distance from fin tip to nose cone\n",
       "  **aero_L_nose** &#128274;&#128274; : 1 m | Nose length\n",
       "  **aero_R_tube** &#128274;&#128274; : 1 m | Tube radius\n",
       "  **aero_L_tube** &#128274;&#128274; : 1 m | Tube length\n",
       "</div>"
      ],
      "text/plain": [
       "ExtensiblePort: {'aero_delta': 0.0, 'aero_R_fins': 1.0, 'aero_tf': 0.001, 'aero_Lf': 1.0, 'aero_L_nose': 1.0, 'aero_R_tube': 1.0, 'aero_L_tube': 1.0}"
      ]
     },
     "execution_count": 119,
     "metadata": {},
     "output_type": "execute_result"
    }
   ],
   "source": [
    "earth.rocket.inwards"
   ]
  },
  {
   "cell_type": "code",
   "execution_count": 64,
   "id": "d2c5287f-6742-45c7-b382-af593bf0f89f",
   "metadata": {},
   "outputs": [],
   "source": [
    "class Ball(System):\n",
    "    \n",
    "    def setup(self):\n",
    "        \n",
    "        self.add_inward('a',5.)\n",
    "        \n",
    "        self.add_child(Ball2('ball2'), pulling=['a', 'b'])"
   ]
  },
  {
   "cell_type": "code",
   "execution_count": 65,
   "id": "7ef191a2-7685-4513-92d8-c9bbb1462846",
   "metadata": {
    "tags": []
   },
   "outputs": [],
   "source": [
    "class Ball2(System):\n",
    "    \n",
    "    def setup(self):\n",
    "    \n",
    "        self.add_inward('a', 2.)\n",
    "        self.add_outward('b', 1.)\n",
    "    \n",
    "    def compute(self):\n",
    "        \n",
    "        self.b = 3*self.a"
   ]
  },
  {
   "cell_type": "code",
   "execution_count": 66,
   "id": "9fc14293-94d1-45db-a04d-308ad51213a7",
   "metadata": {
    "tags": []
   },
   "outputs": [],
   "source": [
    "ball = Ball('ball')\n",
    "\n",
    "ball.add_driver(RunOnce('run'))\n",
    "ball.run_drivers()"
   ]
  },
  {
   "cell_type": "code",
   "execution_count": 67,
   "id": "0e4634ed-6da0-4721-8036-cd5f54e58189",
   "metadata": {
    "tags": []
   },
   "outputs": [
    {
     "data": {
      "text/plain": [
       "15.0"
      ]
     },
     "execution_count": 67,
     "metadata": {},
     "output_type": "execute_result"
    }
   ],
   "source": [
    "ball.b"
   ]
  },
  {
   "cell_type": "code",
   "execution_count": null,
   "id": "f0835589-ccda-47a2-9bea-bd41c876a9c4",
   "metadata": {},
   "outputs": [],
   "source": []
  }
 ],
 "metadata": {
  "kernelspec": {
   "display_name": "Python 3 (ipykernel)",
   "language": "python",
   "name": "python3"
  },
  "language_info": {
   "codemirror_mode": {
    "name": "ipython",
    "version": 3
   },
   "file_extension": ".py",
   "mimetype": "text/x-python",
   "name": "python",
   "nbconvert_exporter": "python",
   "pygments_lexer": "ipython3",
   "version": "3.11.3"
  }
 },
 "nbformat": 4,
 "nbformat_minor": 5
}
