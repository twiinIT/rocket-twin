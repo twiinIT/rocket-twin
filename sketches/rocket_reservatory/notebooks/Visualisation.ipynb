{
 "cells": [
  {
   "cell_type": "code",
   "execution_count": 1,
   "id": "8bec8444-0001-4e4a-bb3a-aae9574a5cb6",
   "metadata": {},
   "outputs": [],
   "source": [
    "from rocket import Rocket"
   ]
  },
  {
   "cell_type": "code",
   "execution_count": 2,
   "id": "97e7cc0c-c54d-4dac-9966-ac30c44abe14",
   "metadata": {},
   "outputs": [],
   "source": [
    "rocket = Rocket('rocket')"
   ]
  },
  {
   "cell_type": "code",
   "execution_count": 3,
   "id": "3b5aeda9-94d7-4f2d-a28c-c9e168cb4e69",
   "metadata": {},
   "outputs": [
    {
     "data": {
      "text/html": [
       "\n",
       "        <iframe\n",
       "            width=\"810px\"\n",
       "            height=\"650px\"\n",
       "            src=\"rocket.html\"\n",
       "            frameborder=\"0\"\n",
       "            allowfullscreen\n",
       "            \n",
       "        ></iframe>\n",
       "        "
      ],
      "text/markdown": [
       "\n",
       "### Child components\n",
       "\n",
       "- `engine`: Engine\n",
       "- `reserv`: Reservatory\n",
       "- `geom`: RocketGeom\n",
       "- `dyn`: Dynamics\n",
       "\n",
       "### Inputs\n",
       "\n",
       "- `inwards`: ExtensiblePort\n",
       "\n",
       "<div class='cosapp-port-table' style='margin-left: 25px; margin-top: -12px'><style type='text/css'>.cosapp-port-table >table >thead{display: none}.cosapp-port-table tbody tr{background: rgba(255, 255, 255, 0)!important}.cosapp-port-table tbody tr:hover{background: #e1f5fe!important}.cosapp-port-table >table {margin-left: unset; margin-right: unset}</style>\n",
       "\n",
       "|  |  |\n",
       "---|---\n",
       "  **p_in** &#128274;&#128274; : 0 kg/s | Fuel income rate\n",
       "</div>\n",
       "\n",
       "### Outputs\n",
       "\n",
       "- `outwards`: ExtensiblePort\n",
       "\n",
       "<div class='cosapp-port-table' style='margin-left: 25px; margin-top: -12px'><style type='text/css'>.cosapp-port-table >table >thead{display: none}.cosapp-port-table tbody tr{background: rgba(255, 255, 255, 0)!important}.cosapp-port-table tbody tr:hover{background: #e1f5fe!important}.cosapp-port-table >table {margin-left: unset; margin-right: unset}</style>\n",
       "\n",
       "|  |  |\n",
       "---|---\n",
       "  **center**: 1 m | Center of gravity\n",
       "  **a**: 1 m/s**2 | Acceleration\n",
       "</div>"
      ],
      "text/plain": [
       "rocket - Rocket"
      ]
     },
     "execution_count": 3,
     "metadata": {},
     "output_type": "execute_result"
    }
   ],
   "source": [
    "rocket"
   ]
  },
  {
   "cell_type": "code",
   "execution_count": 4,
   "id": "6b46cce2-b0da-44dc-a19d-1f261002608b",
   "metadata": {},
   "outputs": [],
   "source": [
    "from ground import Ground"
   ]
  },
  {
   "cell_type": "code",
   "execution_count": 5,
   "id": "b951bdb0-98eb-405d-9f37-8b0c6bc76568",
   "metadata": {},
   "outputs": [],
   "source": [
    "ground = Ground('ground')"
   ]
  },
  {
   "cell_type": "code",
   "execution_count": 7,
   "id": "ae5b4ea2-e71e-4dc7-ad37-9b47eb0e3daa",
   "metadata": {},
   "outputs": [
    {
     "data": {
      "text/html": [
       "\n",
       "        <iframe\n",
       "            width=\"810px\"\n",
       "            height=\"650px\"\n",
       "            src=\"ground.html\"\n",
       "            frameborder=\"0\"\n",
       "            allowfullscreen\n",
       "            \n",
       "        ></iframe>\n",
       "        "
      ],
      "text/markdown": [
       "\n",
       "### Child components\n",
       "\n",
       "- `rocket`: Rocket\n",
       "- `pipe`: Pipe\n",
       "- `g_res`: GroundReservatory"
      ],
      "text/plain": [
       "ground - Ground"
      ]
     },
     "execution_count": 7,
     "metadata": {},
     "output_type": "execute_result"
    }
   ],
   "source": [
    "ground"
   ]
  },
  {
   "cell_type": "code",
   "execution_count": null,
   "id": "0065a4ad-c135-45bc-a2f5-7b8ec556a547",
   "metadata": {},
   "outputs": [],
   "source": []
  }
 ],
 "metadata": {
  "kernelspec": {
   "display_name": "Python 3 (ipykernel)",
   "language": "python",
   "name": "python3"
  },
  "language_info": {
   "codemirror_mode": {
    "name": "ipython",
    "version": 3
   },
   "file_extension": ".py",
   "mimetype": "text/x-python",
   "name": "python",
   "nbconvert_exporter": "python",
   "pygments_lexer": "ipython3",
   "version": "3.11.3"
  }
 },
 "nbformat": 4,
 "nbformat_minor": 5
}
