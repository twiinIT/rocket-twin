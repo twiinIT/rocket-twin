{
 "cells": [
  {
   "cell_type": "code",
   "execution_count": null,
   "metadata": {},
   "outputs": [],
   "source": [
    "from cosapp.drivers import RungeKutta\n",
    "from cosapp.recorders import DataFrameRecorder\n",
    "from cosapp.drivers import NonLinearSolver, RunOnce, MonteCarlo, RunSingleCase\n",
    "from cosapp.utils.distributions import Normal\n",
    "import sys\n",
    "sys.path.append('./model')\n",
    "from Earth import Earth\n",
    "import numpy as np\n",
    "\n",
    "earth = Earth(\"earth\")\n",
    "\n",
    "l = 10 #Rocket's length on the plot\n",
    "dt = 0.05 #Time-step\n",
    "\n",
    "\n",
    "from cosapp.utils.distributions import Normal\n",
    "from cosapp.drivers import MonteCarlo\n",
    "from cosapp.recorders import DataFrameRecorder"
   ]
  },
  {
   "cell_type": "code",
   "execution_count": null,
   "metadata": {},
   "outputs": [],
   "source": [
    "\n",
    "def run_analysis(syst, draws=10, linear=True):\n",
    "    syst.drivers.clear()  # Remove all drivers on the System\n",
    "\n",
    "    runonce = syst.add_driver(RunOnce(\"runonce\"))\n",
    "    driver = syst.add_driver(RungeKutta(order=4, dt=dt))\n",
    "    driver.add_child(NonLinearSolver('solver', factor=1.0))\n",
    "    driver.time_interval = (0, 40)\n",
    "\n",
    "    # Define a simulation scenario\n",
    "    driver.set_scenario(\n",
    "        init = {\n",
    "        'Traj.r' : np.array([0., 0., l/2]),\n",
    "        'Rocket.Kin.v' : np.array([0,0,0]),\n",
    "        'Rocket.Kin.ar' : np.array([0, -np.pi/2 + 0.2, 0]),\n",
    "        'Rocket.Kin.av' : np.zeros(3),\n",
    "        'Para.DynPar.r1' : np.array([0., 0., l/2]), #(should be l because the parachute is at the tip of the rocket)\n",
    "        'Para.DynPar.r2' : np.array([0., 0., l/2]),\n",
    "        'Para.DynPar.v1' : np.array([0,0,0]),\n",
    "        'Para.DynPar.v2' : np.array([0,0,0]),\n",
    "        'Traj.ParaDepStatus': False\n",
    "    },\n",
    "    stop='Para.DynPar.r1[2] < -1'\n",
    "    )\n",
    "\n",
    "    syst.run_drivers()\n",
    "    print(\"MONTECARLO\")\n",
    "    # Montecarlo\n",
    "    syst.drivers.clear()\n",
    "    montecarlo = syst.add_driver(MonteCarlo('mc'))\n",
    "    montecarlo.add_recorder(DataFrameRecorder(includes=['Rocket.Kin.ar', 'Traj.r']))\n",
    "    montecarlo.add_child(driver)\n",
    "    montecarlo.draws = draws\n",
    "    # montecarlo.linear = linear\n",
    "\n",
    "    # parameters for uncertainties in the data\n",
    "    cant_attr = syst.Rocket.Aero.Coefs.inwards.get_details('delta')\n",
    "    # Set the distribution around the current value\n",
    "    cant_attr.distribution = Normal(best=.05, worst=-0.05)\n",
    "    montecarlo.add_random_variable('Rocket.Aero.Coefs.delta')\n",
    "\n",
    "    # Computation\n",
    "    syst.run_drivers()\n",
    "\n",
    "    return montecarlo.recorder.export_data()\n"
   ]
  },
  {
   "cell_type": "code",
   "execution_count": null,
   "metadata": {},
   "outputs": [],
   "source": [
    "\n",
    "results = run_analysis(earth, draws=10, linear=False)"
   ]
  },
  {
   "cell_type": "code",
   "execution_count": null,
   "metadata": {},
   "outputs": [],
   "source": [
    "\n",
    "import plotly.graph_objs as go\n",
    "from plotly.subplots import make_subplots\n",
    "\n",
    "traj = np.asarray(results['Traj.r'].tolist())\n",
    "print(traj[:, 0])\n",
    "\n",
    "# Create the figure object\n",
    "fig = make_subplots(rows=1, cols=1)\n",
    "fig.layout.title = \"Probability\"\n",
    "fig.layout.yaxis.title = 'Y Position'\n",
    "\n",
    "fig.add_trace(\n",
    "    go.Scatter(\n",
    "        x=traj[:,0],\n",
    "        y=traj[:,1],\n",
    "        mode = 'markers'\n",
    "    ),\n",
    "    row = 1,\n",
    "    col = 1,\n",
    ")\n",
    "fig.get_subplot(1, 1).xaxis.title = \"X Position\"\n",
    "\n",
    "fig.show()"
   ]
  }
 ],
 "metadata": {
  "kernelspec": {
   "display_name": "PSC",
   "language": "python",
   "name": "python3"
  },
  "language_info": {
   "codemirror_mode": {
    "name": "ipython",
    "version": 3
   },
   "file_extension": ".py",
   "mimetype": "text/x-python",
   "name": "python",
   "nbconvert_exporter": "python",
   "pygments_lexer": "ipython3",
   "version": "3.10.9"
  },
  "orig_nbformat": 4
 },
 "nbformat": 4,
 "nbformat_minor": 2
}
