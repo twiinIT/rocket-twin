{
 "cells": [
  {
   "cell_type": "code",
   "execution_count": 1,
   "metadata": {},
   "outputs": [],
   "source": [
    "from cosapp.drivers import RungeKutta\n",
    "from cosapp.recorders import DataFrameRecorder\n",
    "from cosapp.drivers import NonLinearSolver, RunOnce, MonteCarlo, RunSingleCase\n",
    "from cosapp.utils.distributions import Normal\n",
    "import sys\n",
    "sys.path.append('./model')\n",
    "from Earth import Earth\n",
    "import json\n",
    "import numpy as np\n",
    "\n",
    "earth = Earth(\"earth\")\n",
    "\n",
    "l = 2 #Rocket's length on the plot\n",
    "dt = 0.1 #Time-step\n",
    "\n",
    "\n",
    "from cosapp.utils.distributions import Normal\n",
    "from cosapp.drivers import MonteCarlo\n",
    "from cosapp.recorders import DataFrameRecorder"
   ]
  },
  {
   "cell_type": "code",
   "execution_count": 2,
   "metadata": {},
   "outputs": [],
   "source": [
    "\n",
    "#Initial conditions and constants\n",
    "\n",
    "rocketNum = 2622\n",
    "l = 0.855\n",
    "angz = -np.deg2rad(85)\n",
    "expCoef = False #True for experimental drag coefficient, false for analytical (possibly innacurate)\n",
    "Wind = False #True for wind effects, false for no wind\n",
    "Lift = False #True for lift effects (trajecto does not consider them), false for no lift\n",
    "\n",
    "init = {\n",
    "    'Traj.r' : np.array([-(l/2)*np.sin(angz), 0., (l/2)*np.cos(angz)]),\n",
    "    'Para.DynPar.r1' : np.array([0., 0., l/2]),\n",
    "    'Para.DynPar.r2' : np.array([0., 0., l/2]),\n",
    "    'Rocket.CG' : l/2,\n",
    "    \n",
    "    'Rocket.Mass.m' : 2.0783,\n",
    "    'Rocket.Mass.m0' : 2.0783,\n",
    "    'Rocket.Mass.Dm' : 0.076,\n",
    "    'Rocket.Mass.lastEngineTime' : 1.,\n",
    "    'Rocket.Mass.I0_geom' : 1*np.array([1., 100., 100.]),\n",
    "\n",
    "    'Rocket.Kin.v' : np.array([0,0,0]),\n",
    "    'Rocket.Kin.av' : np.zeros(3),\n",
    "    'Para.DynPar.v1' : np.array([0,0,0]),\n",
    "    'Para.DynPar.v2' : np.array([0,0,0]),\n",
    "    'Traj.ParaDepStatus': False,\n",
    "    'Rocket.Kin.ar' : 'initrot',\n",
    "\n",
    "    'Rocket.Aero.Coefs.ln' : 0.159,\n",
    "    'Rocket.Aero.Coefs.d' : 0.08,\n",
    "    'Rocket.Aero.Coefs.NFins' : 4,\n",
    "    'Rocket.Aero.Coefs.s' : 0.13,\n",
    "    'Rocket.Aero.Coefs.Xt' : 0.09,\n",
    "    'Rocket.Aero.Coefs.Cr' : 0.145,\n",
    "    'Rocket.Aero.Coefs.Ct' : 0.09,\n",
    "    'Rocket.Aero.Coefs.tf' : 0.002,\n",
    "    'Rocket.Aero.Coefs.delta' : 0.,\n",
    "\n",
    "    'Rocket.Aero.Coefs.TypeCd' : expCoef,\n",
    "    'Wind.wind_on' : Wind,\n",
    "    'Rocket.Aero.Aeroforces.isLift': Lift,\n",
    "    'Rocket.Aero.Coefs.Cd_exp': 0.6,\n",
    "\n",
    "    'Traj.parachute_deploy_method' : 0,\n",
    "    'Traj.parachute_deploy_timer' : 0.,\n",
    "\n",
    "}"
   ]
  },
  {
   "cell_type": "code",
   "execution_count": 3,
   "metadata": {},
   "outputs": [],
   "source": [
    "def run_analysis(syst, draws=10, linear=True):\n",
    "    syst.drivers.clear()  # Remove all drivers on the System\n",
    "\n",
    "    runonce = syst.add_driver(RunOnce(\"runonce\"))\n",
    "    driver = syst.add_driver(RungeKutta(order=4, dt=dt))\n",
    "    # driver.add_recorder(DataFrameRecorder(includes=['Rocket.Kin.ar', 'Traj.r', 'Rocket.Kin.v', 'initrot', 'Rocket.Thrust.inclinaison']), period=0.1)\n",
    "    driver.add_child(NonLinearSolver('solver', factor=1.0))\n",
    "    driver.time_interval = (0, 70)\n",
    "\n",
    "    # Define a simulation scenario\n",
    "    driver.set_scenario(\n",
    "        init = init,\n",
    "        stop = 'Para.DynPar.r2[2] < -1'\n",
    "    )\n",
    "\n",
    "    syst.run_drivers()\n",
    "\n",
    "    print(\"MONTECARLO\")\n",
    "    # Montecarlo\n",
    "    syst.drivers.clear()\n",
    "    montecarlo = syst.add_driver(MonteCarlo('mc'))\n",
    "    montecarlo.add_recorder(DataFrameRecorder(includes=['Para.DynPar.r2', 'initrot', 'Para.DynPar.v2', 'Rocket.Thrust.inclinaison']))\n",
    "    montecarlo.add_child(driver)\n",
    "    montecarlo.draws = draws\n",
    "    # montecarlo.linear = linear\n",
    "\n",
    "    # parameters for uncertainties in the data\n",
    "    pitch_attr = syst.inwards.get_details('pitch_init')\n",
    "    yaw_attr = syst.inwards.get_details('yaw_init')\n",
    "    bang_attr = syst.Rocket.Thrust.inwards.get_details('inclinaison')\n",
    "    \n",
    "    # Set the distribution around the current value\n",
    "    pitch_attr.distribution = Normal(best=.2, worst=-.2)\n",
    "    yaw_attr.distribution = Normal(best=.2, worst=-.2)\n",
    "    bang_attr.distribution = Normal(best=.4, worst=-0.4)\n",
    "\n",
    "    montecarlo.add_random_variable('pitch_init')\n",
    "    montecarlo.add_random_variable('yaw_init')\n",
    "    montecarlo.add_random_variable('Rocket.Thrust.inclinaison')\n",
    "\n",
    "    # Computation\n",
    "    syst.run_drivers()\n",
    "\n",
    "    return montecarlo.recorder.export_data()"
   ]
  },
  {
   "cell_type": "code",
   "execution_count": 4,
   "metadata": {},
   "outputs": [
    {
     "name": "stdout",
     "output_type": "stream",
     "text": [
      "___PARACHUTE DEPLOYMENT___\n",
      "\n",
      "\n",
      "Rocket X Coordinate at Deployment:  34.42262886999433 m\n",
      "Rocket Y Coordinate at Deployment:  0.0 m\n",
      "Rocket Z Coordinate at Deployment:  164.16817238578332 m\n",
      "\n",
      "\n",
      "___PARACHUTE DEPLOYMENT___\n",
      "\n",
      "\n",
      "Parachute fully deployed !\n",
      "MONTECARLO\n",
      "___PARACHUTE DEPLOYMENT___\n",
      "\n",
      "\n",
      "Rocket X Coordinate at Deployment:  34.42262886999433 m\n",
      "Rocket Y Coordinate at Deployment:  0.0 m\n",
      "Rocket Z Coordinate at Deployment:  164.16817238578327 m\n",
      "\n",
      "\n",
      "___PARACHUTE DEPLOYMENT___\n",
      "\n",
      "\n",
      "Parachute fully deployed !\n",
      "___PARACHUTE DEPLOYMENT___\n",
      "\n",
      "\n",
      "Rocket X Coordinate at Deployment:  34.42262886999433 m\n",
      "Rocket Y Coordinate at Deployment:  0.0 m\n",
      "Rocket Z Coordinate at Deployment:  164.16817238578332 m\n",
      "\n",
      "\n",
      "___PARACHUTE DEPLOYMENT___\n",
      "\n",
      "\n",
      "Parachute fully deployed !\n",
      "___PARACHUTE DEPLOYMENT___\n",
      "\n",
      "\n",
      "Rocket X Coordinate at Deployment:  34.42262886999433 m\n",
      "Rocket Y Coordinate at Deployment:  -4.1706909723223006e-15 m\n",
      "Rocket Z Coordinate at Deployment:  164.16817238578332 m\n",
      "\n",
      "\n",
      "___PARACHUTE DEPLOYMENT___\n",
      "\n",
      "\n",
      "Parachute fully deployed !\n",
      "___PARACHUTE DEPLOYMENT___\n",
      "\n",
      "\n",
      "Rocket X Coordinate at Deployment:  39.80574276693008 m\n",
      "Rocket Y Coordinate at Deployment:  2.3940819073098587 m\n",
      "Rocket Z Coordinate at Deployment:  158.17873456943684 m\n",
      "\n",
      "\n",
      "___PARACHUTE DEPLOYMENT___\n",
      "\n",
      "\n",
      "Parachute fully deployed !\n"
     ]
    }
   ],
   "source": [
    "\n",
    "results = run_analysis(earth, draws=100, linear=False)"
   ]
  },
  {
   "cell_type": "code",
   "execution_count": 5,
   "metadata": {},
   "outputs": [
    {
     "data": {
      "text/html": [
       "<div>\n",
       "<style scoped>\n",
       "    .dataframe tbody tr th:only-of-type {\n",
       "        vertical-align: middle;\n",
       "    }\n",
       "\n",
       "    .dataframe tbody tr th {\n",
       "        vertical-align: top;\n",
       "    }\n",
       "\n",
       "    .dataframe thead th {\n",
       "        text-align: right;\n",
       "    }\n",
       "</style>\n",
       "<table border=\"1\" class=\"dataframe\">\n",
       "  <thead>\n",
       "    <tr style=\"text-align: right;\">\n",
       "      <th></th>\n",
       "      <th>Section</th>\n",
       "      <th>Status</th>\n",
       "      <th>Error code</th>\n",
       "      <th>Reference</th>\n",
       "      <th>Para.DynPar.r2</th>\n",
       "      <th>Para.DynPar.v2</th>\n",
       "      <th>Rocket.Thrust.inclinaison</th>\n",
       "      <th>initrot</th>\n",
       "    </tr>\n",
       "  </thead>\n",
       "  <tbody>\n",
       "    <tr>\n",
       "      <th>0</th>\n",
       "      <td></td>\n",
       "      <td></td>\n",
       "      <td>0</td>\n",
       "      <td>0</td>\n",
       "      <td>[43.29292759998309, -5.289899827577889e-15, -0...</td>\n",
       "      <td>[1.215783941984121e-06, -1.5404278934484204e-2...</td>\n",
       "      <td>-1.091401e-17</td>\n",
       "      <td>[0.0, -1.4707963267948965, -1.091401485662647e...</td>\n",
       "    </tr>\n",
       "    <tr>\n",
       "      <th>1</th>\n",
       "      <td></td>\n",
       "      <td></td>\n",
       "      <td>0</td>\n",
       "      <td>1</td>\n",
       "      <td>[44.97458740139474, -2.7716828680379946, -0.99...</td>\n",
       "      <td>[1.2687107209183277e-06, -1.2534281237544465e-...</td>\n",
       "      <td>1.301559e-01</td>\n",
       "      <td>[0.0, -1.6009522551996178, 0.13015592840472132]</td>\n",
       "    </tr>\n",
       "  </tbody>\n",
       "</table>\n",
       "</div>"
      ],
      "text/plain": [
       "  Section Status Error code Reference   \n",
       "0                         0         0  \\\n",
       "1                         0         1   \n",
       "\n",
       "                                      Para.DynPar.r2   \n",
       "0  [43.29292759998309, -5.289899827577889e-15, -0...  \\\n",
       "1  [44.97458740139474, -2.7716828680379946, -0.99...   \n",
       "\n",
       "                                      Para.DynPar.v2   \n",
       "0  [1.215783941984121e-06, -1.5404278934484204e-2...  \\\n",
       "1  [1.2687107209183277e-06, -1.2534281237544465e-...   \n",
       "\n",
       "   Rocket.Thrust.inclinaison   \n",
       "0              -1.091401e-17  \\\n",
       "1               1.301559e-01   \n",
       "\n",
       "                                             initrot  \n",
       "0  [0.0, -1.4707963267948965, -1.091401485662647e...  \n",
       "1    [0.0, -1.6009522551996178, 0.13015592840472132]  "
      ]
     },
     "execution_count": 5,
     "metadata": {},
     "output_type": "execute_result"
    }
   ],
   "source": [
    "results"
   ]
  },
  {
   "cell_type": "code",
   "execution_count": 8,
   "metadata": {},
   "outputs": [],
   "source": [
    "\n",
    "with open('result.txt', 'a') as fp:\n",
    "    fp.write(results.to_csv())"
   ]
  },
  {
   "cell_type": "code",
   "execution_count": 7,
   "metadata": {},
   "outputs": [
    {
     "data": {
      "text/plain": [
       "array([[ 4.32929276e+01,  0.00000000e+00, -1.00000000e+00],\n",
       "       [ 4.22011819e+01,  1.19279093e-14, -1.00000000e+00]])"
      ]
     },
     "execution_count": 7,
     "metadata": {},
     "output_type": "execute_result"
    }
   ],
   "source": [
    "traj = np.asarray(results['Para.DynPar.r2'].tolist())\n",
    "traj"
   ]
  },
  {
   "cell_type": "code",
   "execution_count": 6,
   "metadata": {},
   "outputs": [
    {
     "data": {
      "application/vnd.plotly.v1+json": {
       "config": {
        "plotlyServerURL": "https://plot.ly"
       },
       "data": [
        {
         "mode": "markers",
         "type": "scatter",
         "x": [
          43.29292759998309,
          44.97458740139474
         ],
         "xaxis": "x",
         "y": [
          -5.289899827577889e-15,
          -2.7716828680379946
         ],
         "yaxis": "y"
        }
       ],
       "layout": {
        "template": {
         "data": {
          "bar": [
           {
            "error_x": {
             "color": "#2a3f5f"
            },
            "error_y": {
             "color": "#2a3f5f"
            },
            "marker": {
             "line": {
              "color": "#E5ECF6",
              "width": 0.5
             },
             "pattern": {
              "fillmode": "overlay",
              "size": 10,
              "solidity": 0.2
             }
            },
            "type": "bar"
           }
          ],
          "barpolar": [
           {
            "marker": {
             "line": {
              "color": "#E5ECF6",
              "width": 0.5
             },
             "pattern": {
              "fillmode": "overlay",
              "size": 10,
              "solidity": 0.2
             }
            },
            "type": "barpolar"
           }
          ],
          "carpet": [
           {
            "aaxis": {
             "endlinecolor": "#2a3f5f",
             "gridcolor": "white",
             "linecolor": "white",
             "minorgridcolor": "white",
             "startlinecolor": "#2a3f5f"
            },
            "baxis": {
             "endlinecolor": "#2a3f5f",
             "gridcolor": "white",
             "linecolor": "white",
             "minorgridcolor": "white",
             "startlinecolor": "#2a3f5f"
            },
            "type": "carpet"
           }
          ],
          "choropleth": [
           {
            "colorbar": {
             "outlinewidth": 0,
             "ticks": ""
            },
            "type": "choropleth"
           }
          ],
          "contour": [
           {
            "colorbar": {
             "outlinewidth": 0,
             "ticks": ""
            },
            "colorscale": [
             [
              0,
              "#0d0887"
             ],
             [
              0.1111111111111111,
              "#46039f"
             ],
             [
              0.2222222222222222,
              "#7201a8"
             ],
             [
              0.3333333333333333,
              "#9c179e"
             ],
             [
              0.4444444444444444,
              "#bd3786"
             ],
             [
              0.5555555555555556,
              "#d8576b"
             ],
             [
              0.6666666666666666,
              "#ed7953"
             ],
             [
              0.7777777777777778,
              "#fb9f3a"
             ],
             [
              0.8888888888888888,
              "#fdca26"
             ],
             [
              1,
              "#f0f921"
             ]
            ],
            "type": "contour"
           }
          ],
          "contourcarpet": [
           {
            "colorbar": {
             "outlinewidth": 0,
             "ticks": ""
            },
            "type": "contourcarpet"
           }
          ],
          "heatmap": [
           {
            "colorbar": {
             "outlinewidth": 0,
             "ticks": ""
            },
            "colorscale": [
             [
              0,
              "#0d0887"
             ],
             [
              0.1111111111111111,
              "#46039f"
             ],
             [
              0.2222222222222222,
              "#7201a8"
             ],
             [
              0.3333333333333333,
              "#9c179e"
             ],
             [
              0.4444444444444444,
              "#bd3786"
             ],
             [
              0.5555555555555556,
              "#d8576b"
             ],
             [
              0.6666666666666666,
              "#ed7953"
             ],
             [
              0.7777777777777778,
              "#fb9f3a"
             ],
             [
              0.8888888888888888,
              "#fdca26"
             ],
             [
              1,
              "#f0f921"
             ]
            ],
            "type": "heatmap"
           }
          ],
          "heatmapgl": [
           {
            "colorbar": {
             "outlinewidth": 0,
             "ticks": ""
            },
            "colorscale": [
             [
              0,
              "#0d0887"
             ],
             [
              0.1111111111111111,
              "#46039f"
             ],
             [
              0.2222222222222222,
              "#7201a8"
             ],
             [
              0.3333333333333333,
              "#9c179e"
             ],
             [
              0.4444444444444444,
              "#bd3786"
             ],
             [
              0.5555555555555556,
              "#d8576b"
             ],
             [
              0.6666666666666666,
              "#ed7953"
             ],
             [
              0.7777777777777778,
              "#fb9f3a"
             ],
             [
              0.8888888888888888,
              "#fdca26"
             ],
             [
              1,
              "#f0f921"
             ]
            ],
            "type": "heatmapgl"
           }
          ],
          "histogram": [
           {
            "marker": {
             "pattern": {
              "fillmode": "overlay",
              "size": 10,
              "solidity": 0.2
             }
            },
            "type": "histogram"
           }
          ],
          "histogram2d": [
           {
            "colorbar": {
             "outlinewidth": 0,
             "ticks": ""
            },
            "colorscale": [
             [
              0,
              "#0d0887"
             ],
             [
              0.1111111111111111,
              "#46039f"
             ],
             [
              0.2222222222222222,
              "#7201a8"
             ],
             [
              0.3333333333333333,
              "#9c179e"
             ],
             [
              0.4444444444444444,
              "#bd3786"
             ],
             [
              0.5555555555555556,
              "#d8576b"
             ],
             [
              0.6666666666666666,
              "#ed7953"
             ],
             [
              0.7777777777777778,
              "#fb9f3a"
             ],
             [
              0.8888888888888888,
              "#fdca26"
             ],
             [
              1,
              "#f0f921"
             ]
            ],
            "type": "histogram2d"
           }
          ],
          "histogram2dcontour": [
           {
            "colorbar": {
             "outlinewidth": 0,
             "ticks": ""
            },
            "colorscale": [
             [
              0,
              "#0d0887"
             ],
             [
              0.1111111111111111,
              "#46039f"
             ],
             [
              0.2222222222222222,
              "#7201a8"
             ],
             [
              0.3333333333333333,
              "#9c179e"
             ],
             [
              0.4444444444444444,
              "#bd3786"
             ],
             [
              0.5555555555555556,
              "#d8576b"
             ],
             [
              0.6666666666666666,
              "#ed7953"
             ],
             [
              0.7777777777777778,
              "#fb9f3a"
             ],
             [
              0.8888888888888888,
              "#fdca26"
             ],
             [
              1,
              "#f0f921"
             ]
            ],
            "type": "histogram2dcontour"
           }
          ],
          "mesh3d": [
           {
            "colorbar": {
             "outlinewidth": 0,
             "ticks": ""
            },
            "type": "mesh3d"
           }
          ],
          "parcoords": [
           {
            "line": {
             "colorbar": {
              "outlinewidth": 0,
              "ticks": ""
             }
            },
            "type": "parcoords"
           }
          ],
          "pie": [
           {
            "automargin": true,
            "type": "pie"
           }
          ],
          "scatter": [
           {
            "fillpattern": {
             "fillmode": "overlay",
             "size": 10,
             "solidity": 0.2
            },
            "type": "scatter"
           }
          ],
          "scatter3d": [
           {
            "line": {
             "colorbar": {
              "outlinewidth": 0,
              "ticks": ""
             }
            },
            "marker": {
             "colorbar": {
              "outlinewidth": 0,
              "ticks": ""
             }
            },
            "type": "scatter3d"
           }
          ],
          "scattercarpet": [
           {
            "marker": {
             "colorbar": {
              "outlinewidth": 0,
              "ticks": ""
             }
            },
            "type": "scattercarpet"
           }
          ],
          "scattergeo": [
           {
            "marker": {
             "colorbar": {
              "outlinewidth": 0,
              "ticks": ""
             }
            },
            "type": "scattergeo"
           }
          ],
          "scattergl": [
           {
            "marker": {
             "colorbar": {
              "outlinewidth": 0,
              "ticks": ""
             }
            },
            "type": "scattergl"
           }
          ],
          "scattermapbox": [
           {
            "marker": {
             "colorbar": {
              "outlinewidth": 0,
              "ticks": ""
             }
            },
            "type": "scattermapbox"
           }
          ],
          "scatterpolar": [
           {
            "marker": {
             "colorbar": {
              "outlinewidth": 0,
              "ticks": ""
             }
            },
            "type": "scatterpolar"
           }
          ],
          "scatterpolargl": [
           {
            "marker": {
             "colorbar": {
              "outlinewidth": 0,
              "ticks": ""
             }
            },
            "type": "scatterpolargl"
           }
          ],
          "scatterternary": [
           {
            "marker": {
             "colorbar": {
              "outlinewidth": 0,
              "ticks": ""
             }
            },
            "type": "scatterternary"
           }
          ],
          "surface": [
           {
            "colorbar": {
             "outlinewidth": 0,
             "ticks": ""
            },
            "colorscale": [
             [
              0,
              "#0d0887"
             ],
             [
              0.1111111111111111,
              "#46039f"
             ],
             [
              0.2222222222222222,
              "#7201a8"
             ],
             [
              0.3333333333333333,
              "#9c179e"
             ],
             [
              0.4444444444444444,
              "#bd3786"
             ],
             [
              0.5555555555555556,
              "#d8576b"
             ],
             [
              0.6666666666666666,
              "#ed7953"
             ],
             [
              0.7777777777777778,
              "#fb9f3a"
             ],
             [
              0.8888888888888888,
              "#fdca26"
             ],
             [
              1,
              "#f0f921"
             ]
            ],
            "type": "surface"
           }
          ],
          "table": [
           {
            "cells": {
             "fill": {
              "color": "#EBF0F8"
             },
             "line": {
              "color": "white"
             }
            },
            "header": {
             "fill": {
              "color": "#C8D4E3"
             },
             "line": {
              "color": "white"
             }
            },
            "type": "table"
           }
          ]
         },
         "layout": {
          "annotationdefaults": {
           "arrowcolor": "#2a3f5f",
           "arrowhead": 0,
           "arrowwidth": 1
          },
          "autotypenumbers": "strict",
          "coloraxis": {
           "colorbar": {
            "outlinewidth": 0,
            "ticks": ""
           }
          },
          "colorscale": {
           "diverging": [
            [
             0,
             "#8e0152"
            ],
            [
             0.1,
             "#c51b7d"
            ],
            [
             0.2,
             "#de77ae"
            ],
            [
             0.3,
             "#f1b6da"
            ],
            [
             0.4,
             "#fde0ef"
            ],
            [
             0.5,
             "#f7f7f7"
            ],
            [
             0.6,
             "#e6f5d0"
            ],
            [
             0.7,
             "#b8e186"
            ],
            [
             0.8,
             "#7fbc41"
            ],
            [
             0.9,
             "#4d9221"
            ],
            [
             1,
             "#276419"
            ]
           ],
           "sequential": [
            [
             0,
             "#0d0887"
            ],
            [
             0.1111111111111111,
             "#46039f"
            ],
            [
             0.2222222222222222,
             "#7201a8"
            ],
            [
             0.3333333333333333,
             "#9c179e"
            ],
            [
             0.4444444444444444,
             "#bd3786"
            ],
            [
             0.5555555555555556,
             "#d8576b"
            ],
            [
             0.6666666666666666,
             "#ed7953"
            ],
            [
             0.7777777777777778,
             "#fb9f3a"
            ],
            [
             0.8888888888888888,
             "#fdca26"
            ],
            [
             1,
             "#f0f921"
            ]
           ],
           "sequentialminus": [
            [
             0,
             "#0d0887"
            ],
            [
             0.1111111111111111,
             "#46039f"
            ],
            [
             0.2222222222222222,
             "#7201a8"
            ],
            [
             0.3333333333333333,
             "#9c179e"
            ],
            [
             0.4444444444444444,
             "#bd3786"
            ],
            [
             0.5555555555555556,
             "#d8576b"
            ],
            [
             0.6666666666666666,
             "#ed7953"
            ],
            [
             0.7777777777777778,
             "#fb9f3a"
            ],
            [
             0.8888888888888888,
             "#fdca26"
            ],
            [
             1,
             "#f0f921"
            ]
           ]
          },
          "colorway": [
           "#636efa",
           "#EF553B",
           "#00cc96",
           "#ab63fa",
           "#FFA15A",
           "#19d3f3",
           "#FF6692",
           "#B6E880",
           "#FF97FF",
           "#FECB52"
          ],
          "font": {
           "color": "#2a3f5f"
          },
          "geo": {
           "bgcolor": "white",
           "lakecolor": "white",
           "landcolor": "#E5ECF6",
           "showlakes": true,
           "showland": true,
           "subunitcolor": "white"
          },
          "hoverlabel": {
           "align": "left"
          },
          "hovermode": "closest",
          "mapbox": {
           "style": "light"
          },
          "paper_bgcolor": "white",
          "plot_bgcolor": "#E5ECF6",
          "polar": {
           "angularaxis": {
            "gridcolor": "white",
            "linecolor": "white",
            "ticks": ""
           },
           "bgcolor": "#E5ECF6",
           "radialaxis": {
            "gridcolor": "white",
            "linecolor": "white",
            "ticks": ""
           }
          },
          "scene": {
           "xaxis": {
            "backgroundcolor": "#E5ECF6",
            "gridcolor": "white",
            "gridwidth": 2,
            "linecolor": "white",
            "showbackground": true,
            "ticks": "",
            "zerolinecolor": "white"
           },
           "yaxis": {
            "backgroundcolor": "#E5ECF6",
            "gridcolor": "white",
            "gridwidth": 2,
            "linecolor": "white",
            "showbackground": true,
            "ticks": "",
            "zerolinecolor": "white"
           },
           "zaxis": {
            "backgroundcolor": "#E5ECF6",
            "gridcolor": "white",
            "gridwidth": 2,
            "linecolor": "white",
            "showbackground": true,
            "ticks": "",
            "zerolinecolor": "white"
           }
          },
          "shapedefaults": {
           "line": {
            "color": "#2a3f5f"
           }
          },
          "ternary": {
           "aaxis": {
            "gridcolor": "white",
            "linecolor": "white",
            "ticks": ""
           },
           "baxis": {
            "gridcolor": "white",
            "linecolor": "white",
            "ticks": ""
           },
           "bgcolor": "#E5ECF6",
           "caxis": {
            "gridcolor": "white",
            "linecolor": "white",
            "ticks": ""
           }
          },
          "title": {
           "x": 0.05
          },
          "xaxis": {
           "automargin": true,
           "gridcolor": "white",
           "linecolor": "white",
           "ticks": "",
           "title": {
            "standoff": 15
           },
           "zerolinecolor": "white",
           "zerolinewidth": 2
          },
          "yaxis": {
           "automargin": true,
           "gridcolor": "white",
           "linecolor": "white",
           "ticks": "",
           "title": {
            "standoff": 15
           },
           "zerolinecolor": "white",
           "zerolinewidth": 2
          }
         }
        },
        "title": {
         "text": "Probability"
        },
        "xaxis": {
         "anchor": "y",
         "domain": [
          0,
          1
         ],
         "title": {
          "text": "X Position"
         }
        },
        "yaxis": {
         "anchor": "x",
         "domain": [
          0,
          1
         ],
         "title": {
          "text": "Y Position"
         }
        }
       }
      }
     },
     "metadata": {},
     "output_type": "display_data"
    }
   ],
   "source": [
    "\n",
    "import plotly.graph_objs as go\n",
    "from plotly.subplots import make_subplots\n",
    "\n",
    "traj = np.asarray(results['Para.DynPar.r2'].tolist())\n",
    "\n",
    "# Create the figure object\n",
    "fig = make_subplots(rows=1, cols=1)\n",
    "fig.layout.title = \"Probability\"\n",
    "fig.layout.yaxis.title = 'Y Position'\n",
    "\n",
    "fig.add_trace(\n",
    "    go.Scatter(\n",
    "        x=traj[:,0],\n",
    "        y=traj[:,1],\n",
    "        mode = 'markers'\n",
    "    ),\n",
    "    row = 1,\n",
    "    col = 1,\n",
    ")\n",
    "fig.get_subplot(1, 1).xaxis.title = \"X Position\"\n",
    "\n",
    "fig.show()"
   ]
  }
 ],
 "metadata": {
  "kernelspec": {
   "display_name": "PSC",
   "language": "python",
   "name": "python3"
  },
  "language_info": {
   "codemirror_mode": {
    "name": "ipython",
    "version": 3
   },
   "file_extension": ".py",
   "mimetype": "text/x-python",
   "name": "python",
   "nbconvert_exporter": "python",
   "pygments_lexer": "ipython3",
   "version": "3.10.9"
  },
  "orig_nbformat": 4
 },
 "nbformat": 4,
 "nbformat_minor": 2
}
