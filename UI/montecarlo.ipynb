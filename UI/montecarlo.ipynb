{
 "cells": [
  {
   "cell_type": "code",
   "execution_count": 1,
   "metadata": {},
   "outputs": [],
   "source": [
    "from cosapp.drivers import RungeKutta\n",
    "from cosapp.recorders import DataFrameRecorder\n",
    "from cosapp.drivers import NonLinearSolver, RunOnce, MonteCarlo, RunSingleCase\n",
    "from cosapp.utils.distributions import Normal\n",
    "import sys\n",
    "sys.path.append('./model')\n",
    "from earth import Earth\n",
    "import json\n",
    "import numpy as np\n",
    "\n",
    "earth = Earth(\"earth\")\n",
    "\n",
    "l = 2 #Rocket's length on the plot\n",
    "dt = 0.05 #Time-step\n",
    "\n",
    "\n",
    "from cosapp.utils.distributions import Normal\n",
    "from cosapp.drivers import MonteCarlo\n",
    "from cosapp.recorders import DataFrameRecorder"
   ]
  },
  {
   "cell_type": "code",
   "execution_count": 3,
   "metadata": {},
   "outputs": [],
   "source": [
    "\n",
    "LOAD = True\n",
    "\n",
    "if LOAD:\n",
    "    with open(\"./include/init_rocket/rocket_dict.json\", \"r\") as f:\n",
    "        rocket_dict = json.load(f)\n",
    "    l = rocket_dict['tube_length'] + rocket_dict['nose_length'] #Rocket's length on the plot\n",
    "    angz = - rocket_dict['rocket_launch_angle']\n",
    "    # Load the thrust.txt\n",
    "    thrust = rocket_dict['motor']['samples']\n",
    "    with open(\"model/Utility/thrust.txt\", \"w\") as f:\n",
    "        for i in range(len(thrust[0])):\n",
    "            f.write(\", \".join([str(point[i]) for point in thrust]))\n",
    "            if i < len(thrust[0]) - 1:\n",
    "                f.write(\"\\n\")\n",
    "\n",
    "init = {\n",
    "    'Traj.r' : np.array([-(l/2)*np.sin(angz), 0., (l/2)*np.cos(angz)]),\n",
    "    'Rocket.Kin.v' : np.array([0,0,0]),\n",
    "    'Rocket.Kin.ar' : 'initrot',\n",
    "    'Rocket.Kin.av' : np.zeros(3),\n",
    "    'Para.DynPar.r1' : np.array([0., 0., l/2]),\n",
    "    'Para.DynPar.r2' : np.array([0., 0., l/2]),\n",
    "    'Para.DynPar.v1' : np.array([0,0,0]),\n",
    "    'Para.DynPar.v2' : np.array([0,0,0]),\n",
    "    'Traj.ParaDepStatus': False\n",
    "}\n",
    "# rocket_dict parameters\n",
    "if LOAD:\n",
    "    init = {**init, \n",
    "            'Traj.r' : np.array([0,0, rocket_dict['rocket_cog'][0]]),\n",
    "            'Para.DynPar.r1' : np.array([0., 0., rocket_dict['rocket_cog'][0]]),\n",
    "            'Para.DynPar.r2' : np.array([0., 0., rocket_dict['rocket_cog'][0]]),\n",
    "            'Rocket.CG': rocket_dict['rocket_cog'][0],\n",
    "            'Rocket.l' : l,\n",
    "            'Rocket.Mass.m' : rocket_dict['rocket_mass'],\n",
    "            'Rocket.Mass.m0' : rocket_dict['rocket_mass'],\n",
    "            'Rocket.Mass.Dm' : rocket_dict['rocket_prop_weight']/thrust[-1][0],\n",
    "            'Rocket.Mass.lastEngineTime' : thrust[-1][0],\n",
    "            'Rocket.Mass.I0_geom' : [rocket_dict['rocket_inertia'][i][i] for i in range(3)],\n",
    "\n",
    "            'Rocket.Aero.Coefs.ln' : rocket_dict['nose_length'],\n",
    "            'Rocket.Aero.Coefs.d' : 2*rocket_dict['tube_radius'],\n",
    "            'Rocket.Aero.Coefs.NFins' : rocket_dict['fins_number'],\n",
    "            'Rocket.Aero.Coefs.s' : rocket_dict['fins_s'],\n",
    "            'Rocket.Aero.Coefs.Xt' : rocket_dict['fins_Xt'],\n",
    "            'Rocket.Aero.Coefs.Cr' : rocket_dict['fins_Cr'],\n",
    "            'Rocket.Aero.Coefs.Ct' : rocket_dict['fins_Ct'],\n",
    "            'Rocket.Aero.Coefs.tf' : rocket_dict['fins_thickness'],\n",
    "            'Rocket.Aero.Coefs.delta' : rocket_dict['delta'],\n",
    "\n",
    "            'Wind.wind_on' : rocket_dict['wind_on'],\n",
    "            # 'Wind.wind_average_speed' : rocket_dict['wind_average_speed'],\n",
    "\n",
    "            'Para.l0' : rocket_dict['parachute_l0'],\n",
    "            'Para.m1' : rocket_dict['parachute_weight'] + rocket_dict['ejected_nose_mass'],\n",
    "            'Para.m2' : rocket_dict['rocket_mass'] - rocket_dict['ejected_nose_mass'],\n",
    "            'Para.DynPar.S_ref' : rocket_dict['parachute_sref'],\n",
    "            'Para.DynPar.Cd' : rocket_dict['parachute_Cd'],\n",
    "\n",
    "            'Traj.parachute_deploy_method' : 0 if rocket_dict['parachute_deploy_method'] == 'velocity' else 1,\n",
    "            'Traj.parachute_deploy_timer' : rocket_dict['parachute_deploy_timer'],\n",
    "            }"
   ]
  },
  {
   "cell_type": "code",
   "execution_count": 6,
   "metadata": {},
   "outputs": [],
   "source": [
    "def run_analysis(syst, draws=10, linear=True):\n",
    "    syst.drivers.clear()  # Remove all drivers on the System\n",
    "\n",
    "    runonce = syst.add_driver(RunOnce(\"runonce\"))\n",
    "    driver = syst.add_driver(RungeKutta(order=4, dt=dt))\n",
    "    driver.add_recorder(DataFrameRecorder(includes=['Rocket.Kin.ar', 'Traj.r', 'Rocket.Kin.v', 'initrot', 'Rocket.Thrust.inclinaison']), period=0.1)\n",
    "    driver.add_child(NonLinearSolver('solver', factor=1.0))\n",
    "    driver.time_interval = (0, 70)\n",
    "\n",
    "    # Define a simulation scenario\n",
    "    driver.set_scenario(\n",
    "        init = init,\n",
    "        stop = 'Para.DynPar.r2[2] < -1'\n",
    "    )\n",
    "\n",
    "    syst.run_drivers()\n",
    "\n",
    "    return driver.recorder.export_data()\n",
    "\n",
    "    print(\"MONTECARLO\")\n",
    "    # Montecarlo\n",
    "    syst.drivers.clear()\n",
    "    montecarlo = syst.add_driver(MonteCarlo('mc'))\n",
    "    montecarlo.add_recorder(DataFrameRecorder(includes=['Rocket.Kin.ar', 'Traj.r', 'initrot', 'Traj.v.val', 'Rocket.Thrust.inclinaison']))\n",
    "    montecarlo.add_child(driver)\n",
    "    montecarlo.draws = draws\n",
    "    # montecarlo.linear = linear\n",
    "\n",
    "    # parameters for uncertainties in the data\n",
    "    pitch_attr = syst.inwards.get_details('pitch_init')\n",
    "    yaw_attr = syst.inwards.get_details('yaw_init')\n",
    "    bang_attr = syst.Rocket.Thrust.inwards.get_details('inclinaison')\n",
    "    \n",
    "    # Set the distribution around the current value\n",
    "    pitch_attr.distribution = Normal(best=.02, worst=-.02)\n",
    "    yaw_attr.distribution = Normal(best=.02, worst=-.02)\n",
    "    bang_attr.distribution = Normal(best=.01, worst=-0.01)\n",
    "\n",
    "    montecarlo.add_random_variable('pitch_init')\n",
    "    montecarlo.add_random_variable('yaw_init')\n",
    "    montecarlo.add_random_variable('Rocket.Thrust.inclinaison')\n",
    "\n",
    "    # Computation\n",
    "    syst.run_drivers()\n",
    "\n",
    "    return montecarlo.recorder.export_data()"
   ]
  },
  {
   "cell_type": "code",
   "execution_count": 7,
   "metadata": {},
   "outputs": [
    {
     "name": "stdout",
     "output_type": "stream",
     "text": [
      "___PARACHUTE DEPLOYMENT___\n",
      "\n",
      "\n",
      "Rocket X Coordinate at Deployment:  7.48193325851587 m\n",
      "Rocket Y Coordinate at Deployment:  -1.3309783342342258e-16 m\n",
      "Rocket Z Coordinate at Deployment:  142.91718290553962 m\n",
      "\n",
      "\n",
      "___PARACHUTE DEPLOYMENT___\n",
      "\n",
      "\n",
      "Parachute fully deployed !\n"
     ]
    }
   ],
   "source": [
    "\n",
    "results = run_analysis(earth, draws=2, linear=False)"
   ]
  },
  {
   "cell_type": "code",
   "execution_count": 8,
   "metadata": {},
   "outputs": [
    {
     "data": {
      "text/html": [
       "<div>\n",
       "<style scoped>\n",
       "    .dataframe tbody tr th:only-of-type {\n",
       "        vertical-align: middle;\n",
       "    }\n",
       "\n",
       "    .dataframe tbody tr th {\n",
       "        vertical-align: top;\n",
       "    }\n",
       "\n",
       "    .dataframe thead th {\n",
       "        text-align: right;\n",
       "    }\n",
       "</style>\n",
       "<table border=\"1\" class=\"dataframe\">\n",
       "  <thead>\n",
       "    <tr style=\"text-align: right;\">\n",
       "      <th></th>\n",
       "      <th>Section</th>\n",
       "      <th>Status</th>\n",
       "      <th>Error code</th>\n",
       "      <th>Reference</th>\n",
       "      <th>Rocket.Kin.ar</th>\n",
       "      <th>Rocket.Kin.v</th>\n",
       "      <th>Rocket.Thrust.inclinaison</th>\n",
       "      <th>Traj.r</th>\n",
       "      <th>initrot</th>\n",
       "      <th>time</th>\n",
       "    </tr>\n",
       "  </thead>\n",
       "  <tbody>\n",
       "    <tr>\n",
       "      <th>0</th>\n",
       "      <td></td>\n",
       "      <td></td>\n",
       "      <td>0</td>\n",
       "      <td>t=0.0</td>\n",
       "      <td>[0.0, -1.4707963267948965, 0.0]</td>\n",
       "      <td>[0.0, 0.0, 0.0]</td>\n",
       "      <td>0.0</td>\n",
       "      <td>[0.0, 0.0, 0.34229485]</td>\n",
       "      <td>[0.0, -1.4707963267948965, 0.0]</td>\n",
       "      <td>0.000000</td>\n",
       "    </tr>\n",
       "    <tr>\n",
       "      <th>1</th>\n",
       "      <td></td>\n",
       "      <td></td>\n",
       "      <td>0</td>\n",
       "      <td>t=0.1</td>\n",
       "      <td>[2.1001236471184798e-20, -1.4708307250573402, ...</td>\n",
       "      <td>[9.046849540322537, -3.488856609605185e-20, -0...</td>\n",
       "      <td>0.0</td>\n",
       "      <td>[0.07943339119140401, -1.8677422604241682e-21,...</td>\n",
       "      <td>[0.0, -1.4707963267948965, 0.0]</td>\n",
       "      <td>0.100000</td>\n",
       "    </tr>\n",
       "    <tr>\n",
       "      <th>2</th>\n",
       "      <td></td>\n",
       "      <td></td>\n",
       "      <td>0</td>\n",
       "      <td>t=0.2</td>\n",
       "      <td>[2.295371353739012e-19, -1.471170750818207, -2...</td>\n",
       "      <td>[18.16656095484718, -2.599463172090392e-19, -0...</td>\n",
       "      <td>0.0</td>\n",
       "      <td>[0.25478155841163963, -2.03286594436171e-20, 2...</td>\n",
       "      <td>[0.0, -1.4707963267948965, 0.0]</td>\n",
       "      <td>0.200000</td>\n",
       "    </tr>\n",
       "    <tr>\n",
       "      <th>3</th>\n",
       "      <td></td>\n",
       "      <td></td>\n",
       "      <td>0</td>\n",
       "      <td>t=0.3</td>\n",
       "      <td>[1.0078723094714093e-18, -1.4724159136646713, ...</td>\n",
       "      <td>[26.835627348558624, -8.533069472083209e-19, -...</td>\n",
       "      <td>0.0</td>\n",
       "      <td>[0.5242121733785214, -8.792170444280844e-20, 5...</td>\n",
       "      <td>[0.0, -1.4707963267948965, 0.0]</td>\n",
       "      <td>0.300000</td>\n",
       "    </tr>\n",
       "    <tr>\n",
       "      <th>4</th>\n",
       "      <td></td>\n",
       "      <td></td>\n",
       "      <td>0</td>\n",
       "      <td>t=0.4</td>\n",
       "      <td>[2.9966866411496974e-18, -1.4754394140566243, ...</td>\n",
       "      <td>[35.037275086166126, -1.9518267686925606e-18, ...</td>\n",
       "      <td>0.0</td>\n",
       "      <td>[0.8758090272944228, -2.5201756477835407e-19, ...</td>\n",
       "      <td>[0.0, -1.4707963267948965, 0.0]</td>\n",
       "      <td>0.400000</td>\n",
       "    </tr>\n",
       "    <tr>\n",
       "      <th>...</th>\n",
       "      <td>...</td>\n",
       "      <td>...</td>\n",
       "      <td>...</td>\n",
       "      <td>...</td>\n",
       "      <td>...</td>\n",
       "      <td>...</td>\n",
       "      <td>...</td>\n",
       "      <td>...</td>\n",
       "      <td>...</td>\n",
       "      <td>...</td>\n",
       "    </tr>\n",
       "    <tr>\n",
       "      <th>216</th>\n",
       "      <td></td>\n",
       "      <td></td>\n",
       "      <td>0</td>\n",
       "      <td>t=17.77955028288</td>\n",
       "      <td>[-118.46844700939036, -4.80079746995903, -412....</td>\n",
       "      <td>[-5.377000421097496, -2.655767702572736e-15, -...</td>\n",
       "      <td>0.0</td>\n",
       "      <td>[43.90088679142912, 7.829760911552642, 173.678...</td>\n",
       "      <td>[0.0, -1.4707963267948965, 0.0]</td>\n",
       "      <td>17.779550</td>\n",
       "    </tr>\n",
       "    <tr>\n",
       "      <th>217</th>\n",
       "      <td></td>\n",
       "      <td></td>\n",
       "      <td>0</td>\n",
       "      <td>Traj.VelocityPara</td>\n",
       "      <td>[-118.46844700939036, -4.80079746995903, -412....</td>\n",
       "      <td>[-5.377000421097496, -2.655767702572736e-15, -...</td>\n",
       "      <td>0.0</td>\n",
       "      <td>[43.90088679142912, 7.829760911552642, 173.678...</td>\n",
       "      <td>[0.0, -1.4707963267948965, 0.0]</td>\n",
       "      <td>17.779550</td>\n",
       "    </tr>\n",
       "    <tr>\n",
       "      <th>218</th>\n",
       "      <td></td>\n",
       "      <td></td>\n",
       "      <td>0</td>\n",
       "      <td>t=17.8</td>\n",
       "      <td>[-119.05142626345207, -4.099163455160114, -412...</td>\n",
       "      <td>[-5.429240525056687, -2.6595199192308313e-15, ...</td>\n",
       "      <td>0.0</td>\n",
       "      <td>[44.70446555526106, 6.385053978813607, 174.861...</td>\n",
       "      <td>[0.0, -1.4707963267948965, 0.0]</td>\n",
       "      <td>17.800000</td>\n",
       "    </tr>\n",
       "    <tr>\n",
       "      <th>219</th>\n",
       "      <td></td>\n",
       "      <td></td>\n",
       "      <td>0</td>\n",
       "      <td>t=17.810425036615</td>\n",
       "      <td>[-120.60580142097866, -3.962644567997055, -412...</td>\n",
       "      <td>[-5.455871944616995, -2.66143275723324e-15, -9...</td>\n",
       "      <td>0.0</td>\n",
       "      <td>[44.25794606022743, 5.7042570332625635, 174.88...</td>\n",
       "      <td>[0.0, -1.4707963267948965, 0.0]</td>\n",
       "      <td>17.810425</td>\n",
       "    </tr>\n",
       "    <tr>\n",
       "      <th>220</th>\n",
       "      <td></td>\n",
       "      <td></td>\n",
       "      <td>0</td>\n",
       "      <td>earth.stop</td>\n",
       "      <td>[-120.60580142097866, -3.962644567997055, -412...</td>\n",
       "      <td>[-5.455871944616995, -2.66143275723324e-15, -9...</td>\n",
       "      <td>0.0</td>\n",
       "      <td>[44.25794606022743, 5.7042570332625635, 174.88...</td>\n",
       "      <td>[0.0, -1.4707963267948965, 0.0]</td>\n",
       "      <td>17.810425</td>\n",
       "    </tr>\n",
       "  </tbody>\n",
       "</table>\n",
       "<p>221 rows × 10 columns</p>\n",
       "</div>"
      ],
      "text/plain": [
       "    Section Status Error code          Reference   \n",
       "0                           0              t=0.0  \\\n",
       "1                           0              t=0.1   \n",
       "2                           0              t=0.2   \n",
       "3                           0              t=0.3   \n",
       "4                           0              t=0.4   \n",
       "..      ...    ...        ...                ...   \n",
       "216                         0   t=17.77955028288   \n",
       "217                         0  Traj.VelocityPara   \n",
       "218                         0             t=17.8   \n",
       "219                         0  t=17.810425036615   \n",
       "220                         0         earth.stop   \n",
       "\n",
       "                                         Rocket.Kin.ar   \n",
       "0                      [0.0, -1.4707963267948965, 0.0]  \\\n",
       "1    [2.1001236471184798e-20, -1.4708307250573402, ...   \n",
       "2    [2.295371353739012e-19, -1.471170750818207, -2...   \n",
       "3    [1.0078723094714093e-18, -1.4724159136646713, ...   \n",
       "4    [2.9966866411496974e-18, -1.4754394140566243, ...   \n",
       "..                                                 ...   \n",
       "216  [-118.46844700939036, -4.80079746995903, -412....   \n",
       "217  [-118.46844700939036, -4.80079746995903, -412....   \n",
       "218  [-119.05142626345207, -4.099163455160114, -412...   \n",
       "219  [-120.60580142097866, -3.962644567997055, -412...   \n",
       "220  [-120.60580142097866, -3.962644567997055, -412...   \n",
       "\n",
       "                                          Rocket.Kin.v   \n",
       "0                                      [0.0, 0.0, 0.0]  \\\n",
       "1    [9.046849540322537, -3.488856609605185e-20, -0...   \n",
       "2    [18.16656095484718, -2.599463172090392e-19, -0...   \n",
       "3    [26.835627348558624, -8.533069472083209e-19, -...   \n",
       "4    [35.037275086166126, -1.9518267686925606e-18, ...   \n",
       "..                                                 ...   \n",
       "216  [-5.377000421097496, -2.655767702572736e-15, -...   \n",
       "217  [-5.377000421097496, -2.655767702572736e-15, -...   \n",
       "218  [-5.429240525056687, -2.6595199192308313e-15, ...   \n",
       "219  [-5.455871944616995, -2.66143275723324e-15, -9...   \n",
       "220  [-5.455871944616995, -2.66143275723324e-15, -9...   \n",
       "\n",
       "     Rocket.Thrust.inclinaison   \n",
       "0                          0.0  \\\n",
       "1                          0.0   \n",
       "2                          0.0   \n",
       "3                          0.0   \n",
       "4                          0.0   \n",
       "..                         ...   \n",
       "216                        0.0   \n",
       "217                        0.0   \n",
       "218                        0.0   \n",
       "219                        0.0   \n",
       "220                        0.0   \n",
       "\n",
       "                                                Traj.r   \n",
       "0                               [0.0, 0.0, 0.34229485]  \\\n",
       "1    [0.07943339119140401, -1.8677422604241682e-21,...   \n",
       "2    [0.25478155841163963, -2.03286594436171e-20, 2...   \n",
       "3    [0.5242121733785214, -8.792170444280844e-20, 5...   \n",
       "4    [0.8758090272944228, -2.5201756477835407e-19, ...   \n",
       "..                                                 ...   \n",
       "216  [43.90088679142912, 7.829760911552642, 173.678...   \n",
       "217  [43.90088679142912, 7.829760911552642, 173.678...   \n",
       "218  [44.70446555526106, 6.385053978813607, 174.861...   \n",
       "219  [44.25794606022743, 5.7042570332625635, 174.88...   \n",
       "220  [44.25794606022743, 5.7042570332625635, 174.88...   \n",
       "\n",
       "                             initrot       time  \n",
       "0    [0.0, -1.4707963267948965, 0.0]   0.000000  \n",
       "1    [0.0, -1.4707963267948965, 0.0]   0.100000  \n",
       "2    [0.0, -1.4707963267948965, 0.0]   0.200000  \n",
       "3    [0.0, -1.4707963267948965, 0.0]   0.300000  \n",
       "4    [0.0, -1.4707963267948965, 0.0]   0.400000  \n",
       "..                               ...        ...  \n",
       "216  [0.0, -1.4707963267948965, 0.0]  17.779550  \n",
       "217  [0.0, -1.4707963267948965, 0.0]  17.779550  \n",
       "218  [0.0, -1.4707963267948965, 0.0]  17.800000  \n",
       "219  [0.0, -1.4707963267948965, 0.0]  17.810425  \n",
       "220  [0.0, -1.4707963267948965, 0.0]  17.810425  \n",
       "\n",
       "[221 rows x 10 columns]"
      ]
     },
     "execution_count": 8,
     "metadata": {},
     "output_type": "execute_result"
    }
   ],
   "source": [
    "results"
   ]
  },
  {
   "cell_type": "code",
   "execution_count": 8,
   "metadata": {},
   "outputs": [
    {
     "data": {
      "text/plain": [
       "array([[ 0.00000000e+00,  0.00000000e+00,  3.42294850e-01],\n",
       "       [ 2.95284376e-02, -1.81036345e-22,  6.12083033e-01],\n",
       "       [ 7.94333912e-02, -1.86774226e-21,  1.06075598e+00],\n",
       "       ...,\n",
       "       [ 2.51358727e+01, -1.49334686e+01,  1.70176760e+02],\n",
       "       [ 2.43256985e+01, -1.45745489e+01,  1.71060667e+02],\n",
       "       [ 2.43256985e+01, -1.45745489e+01,  1.71060667e+02]])"
      ]
     },
     "execution_count": 8,
     "metadata": {},
     "output_type": "execute_result"
    }
   ],
   "source": [
    "traj = np.asarray(results['Traj.r'].tolist())\n",
    "traj"
   ]
  },
  {
   "cell_type": "code",
   "execution_count": 7,
   "metadata": {},
   "outputs": [
    {
     "data": {
      "application/vnd.plotly.v1+json": {
       "config": {
        "plotlyServerURL": "https://plot.ly"
       },
       "data": [
        {
         "mode": "markers",
         "type": "scatter",
         "x": [
          37.47959436941653,
          -50.35790710577589
         ],
         "xaxis": "x",
         "y": [
          10.068728480232842,
          -61.73965269845487
         ],
         "yaxis": "y"
        }
       ],
       "layout": {
        "template": {
         "data": {
          "bar": [
           {
            "error_x": {
             "color": "#2a3f5f"
            },
            "error_y": {
             "color": "#2a3f5f"
            },
            "marker": {
             "line": {
              "color": "#E5ECF6",
              "width": 0.5
             },
             "pattern": {
              "fillmode": "overlay",
              "size": 10,
              "solidity": 0.2
             }
            },
            "type": "bar"
           }
          ],
          "barpolar": [
           {
            "marker": {
             "line": {
              "color": "#E5ECF6",
              "width": 0.5
             },
             "pattern": {
              "fillmode": "overlay",
              "size": 10,
              "solidity": 0.2
             }
            },
            "type": "barpolar"
           }
          ],
          "carpet": [
           {
            "aaxis": {
             "endlinecolor": "#2a3f5f",
             "gridcolor": "white",
             "linecolor": "white",
             "minorgridcolor": "white",
             "startlinecolor": "#2a3f5f"
            },
            "baxis": {
             "endlinecolor": "#2a3f5f",
             "gridcolor": "white",
             "linecolor": "white",
             "minorgridcolor": "white",
             "startlinecolor": "#2a3f5f"
            },
            "type": "carpet"
           }
          ],
          "choropleth": [
           {
            "colorbar": {
             "outlinewidth": 0,
             "ticks": ""
            },
            "type": "choropleth"
           }
          ],
          "contour": [
           {
            "colorbar": {
             "outlinewidth": 0,
             "ticks": ""
            },
            "colorscale": [
             [
              0,
              "#0d0887"
             ],
             [
              0.1111111111111111,
              "#46039f"
             ],
             [
              0.2222222222222222,
              "#7201a8"
             ],
             [
              0.3333333333333333,
              "#9c179e"
             ],
             [
              0.4444444444444444,
              "#bd3786"
             ],
             [
              0.5555555555555556,
              "#d8576b"
             ],
             [
              0.6666666666666666,
              "#ed7953"
             ],
             [
              0.7777777777777778,
              "#fb9f3a"
             ],
             [
              0.8888888888888888,
              "#fdca26"
             ],
             [
              1,
              "#f0f921"
             ]
            ],
            "type": "contour"
           }
          ],
          "contourcarpet": [
           {
            "colorbar": {
             "outlinewidth": 0,
             "ticks": ""
            },
            "type": "contourcarpet"
           }
          ],
          "heatmap": [
           {
            "colorbar": {
             "outlinewidth": 0,
             "ticks": ""
            },
            "colorscale": [
             [
              0,
              "#0d0887"
             ],
             [
              0.1111111111111111,
              "#46039f"
             ],
             [
              0.2222222222222222,
              "#7201a8"
             ],
             [
              0.3333333333333333,
              "#9c179e"
             ],
             [
              0.4444444444444444,
              "#bd3786"
             ],
             [
              0.5555555555555556,
              "#d8576b"
             ],
             [
              0.6666666666666666,
              "#ed7953"
             ],
             [
              0.7777777777777778,
              "#fb9f3a"
             ],
             [
              0.8888888888888888,
              "#fdca26"
             ],
             [
              1,
              "#f0f921"
             ]
            ],
            "type": "heatmap"
           }
          ],
          "heatmapgl": [
           {
            "colorbar": {
             "outlinewidth": 0,
             "ticks": ""
            },
            "colorscale": [
             [
              0,
              "#0d0887"
             ],
             [
              0.1111111111111111,
              "#46039f"
             ],
             [
              0.2222222222222222,
              "#7201a8"
             ],
             [
              0.3333333333333333,
              "#9c179e"
             ],
             [
              0.4444444444444444,
              "#bd3786"
             ],
             [
              0.5555555555555556,
              "#d8576b"
             ],
             [
              0.6666666666666666,
              "#ed7953"
             ],
             [
              0.7777777777777778,
              "#fb9f3a"
             ],
             [
              0.8888888888888888,
              "#fdca26"
             ],
             [
              1,
              "#f0f921"
             ]
            ],
            "type": "heatmapgl"
           }
          ],
          "histogram": [
           {
            "marker": {
             "pattern": {
              "fillmode": "overlay",
              "size": 10,
              "solidity": 0.2
             }
            },
            "type": "histogram"
           }
          ],
          "histogram2d": [
           {
            "colorbar": {
             "outlinewidth": 0,
             "ticks": ""
            },
            "colorscale": [
             [
              0,
              "#0d0887"
             ],
             [
              0.1111111111111111,
              "#46039f"
             ],
             [
              0.2222222222222222,
              "#7201a8"
             ],
             [
              0.3333333333333333,
              "#9c179e"
             ],
             [
              0.4444444444444444,
              "#bd3786"
             ],
             [
              0.5555555555555556,
              "#d8576b"
             ],
             [
              0.6666666666666666,
              "#ed7953"
             ],
             [
              0.7777777777777778,
              "#fb9f3a"
             ],
             [
              0.8888888888888888,
              "#fdca26"
             ],
             [
              1,
              "#f0f921"
             ]
            ],
            "type": "histogram2d"
           }
          ],
          "histogram2dcontour": [
           {
            "colorbar": {
             "outlinewidth": 0,
             "ticks": ""
            },
            "colorscale": [
             [
              0,
              "#0d0887"
             ],
             [
              0.1111111111111111,
              "#46039f"
             ],
             [
              0.2222222222222222,
              "#7201a8"
             ],
             [
              0.3333333333333333,
              "#9c179e"
             ],
             [
              0.4444444444444444,
              "#bd3786"
             ],
             [
              0.5555555555555556,
              "#d8576b"
             ],
             [
              0.6666666666666666,
              "#ed7953"
             ],
             [
              0.7777777777777778,
              "#fb9f3a"
             ],
             [
              0.8888888888888888,
              "#fdca26"
             ],
             [
              1,
              "#f0f921"
             ]
            ],
            "type": "histogram2dcontour"
           }
          ],
          "mesh3d": [
           {
            "colorbar": {
             "outlinewidth": 0,
             "ticks": ""
            },
            "type": "mesh3d"
           }
          ],
          "parcoords": [
           {
            "line": {
             "colorbar": {
              "outlinewidth": 0,
              "ticks": ""
             }
            },
            "type": "parcoords"
           }
          ],
          "pie": [
           {
            "automargin": true,
            "type": "pie"
           }
          ],
          "scatter": [
           {
            "fillpattern": {
             "fillmode": "overlay",
             "size": 10,
             "solidity": 0.2
            },
            "type": "scatter"
           }
          ],
          "scatter3d": [
           {
            "line": {
             "colorbar": {
              "outlinewidth": 0,
              "ticks": ""
             }
            },
            "marker": {
             "colorbar": {
              "outlinewidth": 0,
              "ticks": ""
             }
            },
            "type": "scatter3d"
           }
          ],
          "scattercarpet": [
           {
            "marker": {
             "colorbar": {
              "outlinewidth": 0,
              "ticks": ""
             }
            },
            "type": "scattercarpet"
           }
          ],
          "scattergeo": [
           {
            "marker": {
             "colorbar": {
              "outlinewidth": 0,
              "ticks": ""
             }
            },
            "type": "scattergeo"
           }
          ],
          "scattergl": [
           {
            "marker": {
             "colorbar": {
              "outlinewidth": 0,
              "ticks": ""
             }
            },
            "type": "scattergl"
           }
          ],
          "scattermapbox": [
           {
            "marker": {
             "colorbar": {
              "outlinewidth": 0,
              "ticks": ""
             }
            },
            "type": "scattermapbox"
           }
          ],
          "scatterpolar": [
           {
            "marker": {
             "colorbar": {
              "outlinewidth": 0,
              "ticks": ""
             }
            },
            "type": "scatterpolar"
           }
          ],
          "scatterpolargl": [
           {
            "marker": {
             "colorbar": {
              "outlinewidth": 0,
              "ticks": ""
             }
            },
            "type": "scatterpolargl"
           }
          ],
          "scatterternary": [
           {
            "marker": {
             "colorbar": {
              "outlinewidth": 0,
              "ticks": ""
             }
            },
            "type": "scatterternary"
           }
          ],
          "surface": [
           {
            "colorbar": {
             "outlinewidth": 0,
             "ticks": ""
            },
            "colorscale": [
             [
              0,
              "#0d0887"
             ],
             [
              0.1111111111111111,
              "#46039f"
             ],
             [
              0.2222222222222222,
              "#7201a8"
             ],
             [
              0.3333333333333333,
              "#9c179e"
             ],
             [
              0.4444444444444444,
              "#bd3786"
             ],
             [
              0.5555555555555556,
              "#d8576b"
             ],
             [
              0.6666666666666666,
              "#ed7953"
             ],
             [
              0.7777777777777778,
              "#fb9f3a"
             ],
             [
              0.8888888888888888,
              "#fdca26"
             ],
             [
              1,
              "#f0f921"
             ]
            ],
            "type": "surface"
           }
          ],
          "table": [
           {
            "cells": {
             "fill": {
              "color": "#EBF0F8"
             },
             "line": {
              "color": "white"
             }
            },
            "header": {
             "fill": {
              "color": "#C8D4E3"
             },
             "line": {
              "color": "white"
             }
            },
            "type": "table"
           }
          ]
         },
         "layout": {
          "annotationdefaults": {
           "arrowcolor": "#2a3f5f",
           "arrowhead": 0,
           "arrowwidth": 1
          },
          "autotypenumbers": "strict",
          "coloraxis": {
           "colorbar": {
            "outlinewidth": 0,
            "ticks": ""
           }
          },
          "colorscale": {
           "diverging": [
            [
             0,
             "#8e0152"
            ],
            [
             0.1,
             "#c51b7d"
            ],
            [
             0.2,
             "#de77ae"
            ],
            [
             0.3,
             "#f1b6da"
            ],
            [
             0.4,
             "#fde0ef"
            ],
            [
             0.5,
             "#f7f7f7"
            ],
            [
             0.6,
             "#e6f5d0"
            ],
            [
             0.7,
             "#b8e186"
            ],
            [
             0.8,
             "#7fbc41"
            ],
            [
             0.9,
             "#4d9221"
            ],
            [
             1,
             "#276419"
            ]
           ],
           "sequential": [
            [
             0,
             "#0d0887"
            ],
            [
             0.1111111111111111,
             "#46039f"
            ],
            [
             0.2222222222222222,
             "#7201a8"
            ],
            [
             0.3333333333333333,
             "#9c179e"
            ],
            [
             0.4444444444444444,
             "#bd3786"
            ],
            [
             0.5555555555555556,
             "#d8576b"
            ],
            [
             0.6666666666666666,
             "#ed7953"
            ],
            [
             0.7777777777777778,
             "#fb9f3a"
            ],
            [
             0.8888888888888888,
             "#fdca26"
            ],
            [
             1,
             "#f0f921"
            ]
           ],
           "sequentialminus": [
            [
             0,
             "#0d0887"
            ],
            [
             0.1111111111111111,
             "#46039f"
            ],
            [
             0.2222222222222222,
             "#7201a8"
            ],
            [
             0.3333333333333333,
             "#9c179e"
            ],
            [
             0.4444444444444444,
             "#bd3786"
            ],
            [
             0.5555555555555556,
             "#d8576b"
            ],
            [
             0.6666666666666666,
             "#ed7953"
            ],
            [
             0.7777777777777778,
             "#fb9f3a"
            ],
            [
             0.8888888888888888,
             "#fdca26"
            ],
            [
             1,
             "#f0f921"
            ]
           ]
          },
          "colorway": [
           "#636efa",
           "#EF553B",
           "#00cc96",
           "#ab63fa",
           "#FFA15A",
           "#19d3f3",
           "#FF6692",
           "#B6E880",
           "#FF97FF",
           "#FECB52"
          ],
          "font": {
           "color": "#2a3f5f"
          },
          "geo": {
           "bgcolor": "white",
           "lakecolor": "white",
           "landcolor": "#E5ECF6",
           "showlakes": true,
           "showland": true,
           "subunitcolor": "white"
          },
          "hoverlabel": {
           "align": "left"
          },
          "hovermode": "closest",
          "mapbox": {
           "style": "light"
          },
          "paper_bgcolor": "white",
          "plot_bgcolor": "#E5ECF6",
          "polar": {
           "angularaxis": {
            "gridcolor": "white",
            "linecolor": "white",
            "ticks": ""
           },
           "bgcolor": "#E5ECF6",
           "radialaxis": {
            "gridcolor": "white",
            "linecolor": "white",
            "ticks": ""
           }
          },
          "scene": {
           "xaxis": {
            "backgroundcolor": "#E5ECF6",
            "gridcolor": "white",
            "gridwidth": 2,
            "linecolor": "white",
            "showbackground": true,
            "ticks": "",
            "zerolinecolor": "white"
           },
           "yaxis": {
            "backgroundcolor": "#E5ECF6",
            "gridcolor": "white",
            "gridwidth": 2,
            "linecolor": "white",
            "showbackground": true,
            "ticks": "",
            "zerolinecolor": "white"
           },
           "zaxis": {
            "backgroundcolor": "#E5ECF6",
            "gridcolor": "white",
            "gridwidth": 2,
            "linecolor": "white",
            "showbackground": true,
            "ticks": "",
            "zerolinecolor": "white"
           }
          },
          "shapedefaults": {
           "line": {
            "color": "#2a3f5f"
           }
          },
          "ternary": {
           "aaxis": {
            "gridcolor": "white",
            "linecolor": "white",
            "ticks": ""
           },
           "baxis": {
            "gridcolor": "white",
            "linecolor": "white",
            "ticks": ""
           },
           "bgcolor": "#E5ECF6",
           "caxis": {
            "gridcolor": "white",
            "linecolor": "white",
            "ticks": ""
           }
          },
          "title": {
           "x": 0.05
          },
          "xaxis": {
           "automargin": true,
           "gridcolor": "white",
           "linecolor": "white",
           "ticks": "",
           "title": {
            "standoff": 15
           },
           "zerolinecolor": "white",
           "zerolinewidth": 2
          },
          "yaxis": {
           "automargin": true,
           "gridcolor": "white",
           "linecolor": "white",
           "ticks": "",
           "title": {
            "standoff": 15
           },
           "zerolinecolor": "white",
           "zerolinewidth": 2
          }
         }
        },
        "title": {
         "text": "Probability"
        },
        "xaxis": {
         "anchor": "y",
         "domain": [
          0,
          1
         ],
         "title": {
          "text": "X Position"
         }
        },
        "yaxis": {
         "anchor": "x",
         "domain": [
          0,
          1
         ],
         "title": {
          "text": "Y Position"
         }
        }
       }
      }
     },
     "metadata": {},
     "output_type": "display_data"
    }
   ],
   "source": [
    "\n",
    "import plotly.graph_objs as go\n",
    "from plotly.subplots import make_subplots\n",
    "\n",
    "traj = np.asarray(results['Traj.r'].tolist())\n",
    "\n",
    "# Create the figure object\n",
    "fig = make_subplots(rows=1, cols=1)\n",
    "fig.layout.title = \"Probability\"\n",
    "fig.layout.yaxis.title = 'Y Position'\n",
    "\n",
    "fig.add_trace(\n",
    "    go.Scatter(\n",
    "        x=traj[:,0],\n",
    "        y=traj[:,1],\n",
    "        mode = 'markers'\n",
    "    ),\n",
    "    row = 1,\n",
    "    col = 1,\n",
    ")\n",
    "fig.get_subplot(1, 1).xaxis.title = \"X Position\"\n",
    "\n",
    "fig.show()"
   ]
  }
 ],
 "metadata": {
  "kernelspec": {
   "display_name": "PSC",
   "language": "python",
   "name": "python3"
  },
  "language_info": {
   "codemirror_mode": {
    "name": "ipython",
    "version": 3
   },
   "file_extension": ".py",
   "mimetype": "text/x-python",
   "name": "python",
   "nbconvert_exporter": "python",
   "pygments_lexer": "ipython3",
   "version": "3.11.3"
  },
  "orig_nbformat": 4
 },
 "nbformat": 4,
 "nbformat_minor": 2
}
