{
 "cells": [
  {
   "cell_type": "code",
   "execution_count": 1,
   "metadata": {},
   "outputs": [],
   "source": [
    "from cosapp.drivers import RungeKutta\n",
    "from cosapp.recorders import DataFrameRecorder\n",
    "from cosapp.drivers import NonLinearSolver, RunOnce, MonteCarlo, RunSingleCase\n",
    "from cosapp.utils.distributions import Normal\n",
    "import sys\n",
    "sys.path.append('./model')\n",
    "from Earth import Earth\n",
    "import json\n",
    "import numpy as np\n",
    "\n",
    "earth = Earth(\"earth\")\n",
    "\n",
    "l = 2 #Rocket's length on the plot\n",
    "dt = 0.05 #Time-step\n",
    "\n",
    "\n",
    "from cosapp.utils.distributions import Normal\n",
    "from cosapp.drivers import MonteCarlo\n",
    "from cosapp.recorders import DataFrameRecorder"
   ]
  },
  {
   "cell_type": "code",
   "execution_count": 2,
   "metadata": {},
   "outputs": [],
   "source": [
    "\n",
    "#Initial conditions and constants\n",
    "\n",
    "rocketNum = 2622\n",
    "l = 0.855\n",
    "angz = -np.deg2rad(85)\n",
    "expCoef = False #True for experimental drag coefficient, false for analytical (possibly innacurate)\n",
    "Wind = False #True for wind effects, false for no wind\n",
    "Lift = False #True for lift effects (trajecto does not consider them), false for no lift\n",
    "\n",
    "init = {\n",
    "    'Traj.r' : np.array([-(l/2)*np.sin(angz), 0., (l/2)*np.cos(angz)]),\n",
    "    'Para.DynPar.r1' : np.array([0., 0., l/2]),\n",
    "    'Para.DynPar.r2' : np.array([0., 0., l/2]),\n",
    "    'Rocket.Kin.ar' : np.array([0, angz, 0]),\n",
    "    'Rocket.CG' : l/2,\n",
    "    \n",
    "    'Rocket.Mass.m' : 2.0783,\n",
    "    'Rocket.Mass.m0' : 2.0783,\n",
    "    'Rocket.Mass.Dm' : 0.076,\n",
    "    'Rocket.Mass.lastEngineTime' : 1.,\n",
    "    'Rocket.Mass.I0_geom' : 1*np.array([1., 100., 100.]),\n",
    "\n",
    "    'Rocket.Kin.v' : np.array([0,0,0]),\n",
    "    'Rocket.Kin.av' : np.zeros(3),\n",
    "    'Para.DynPar.v1' : np.array([0,0,0]),\n",
    "    'Para.DynPar.v2' : np.array([0,0,0]),\n",
    "    'Traj.ParaDepStatus': False,\n",
    "\n",
    "    'Rocket.Aero.Coefs.ln' : 0.159,\n",
    "    'Rocket.Aero.Coefs.d' : 0.08,\n",
    "    'Rocket.Aero.Coefs.NFins' : 4,\n",
    "    'Rocket.Aero.Coefs.s' : 0.13,\n",
    "    'Rocket.Aero.Coefs.Xt' : 0.09,\n",
    "    'Rocket.Aero.Coefs.Cr' : 0.145,\n",
    "    'Rocket.Aero.Coefs.Ct' : 0.09,\n",
    "    'Rocket.Aero.Coefs.tf' : 0.002,\n",
    "    # 'Rocket.Aero.Coefs.delta' : 0.,\n",
    "\n",
    "    'Rocket.Aero.Coefs.TypeCd' : expCoef,\n",
    "    'Wind.wind_on' : Wind,\n",
    "    'Rocket.Aero.Aeroforces.isLift': Lift,\n",
    "    'Rocket.Aero.Coefs.Cd_exp': 0.6,\n",
    "\n",
    "    'Traj.parachute_deploy_method' : 0,\n",
    "    'Traj.parachute_deploy_timer' : 0.,\n",
    "\n",
    "}"
   ]
  },
  {
   "cell_type": "code",
   "execution_count": 3,
   "metadata": {},
   "outputs": [],
   "source": [
    "def run_analysis(syst, draws=10, linear=True):\n",
    "    syst.drivers.clear()  # Remove all drivers on the System\n",
    "\n",
    "    # runonce = syst.add_driver(RunOnce(\"runonce\"))\n",
    "    driver = syst.add_driver(RungeKutta(order=4, dt=dt))\n",
    "    # driver.add_recorder(DataFrameRecorder(includes=['Rocket.Kin.ar', 'Traj.r', 'Rocket.Kin.v', 'initrot', 'Rocket.Thrust.inclinaison']), period=0.1)\n",
    "    driver.add_child(NonLinearSolver('solver', factor=1.0))\n",
    "    driver.time_interval = (0, 70)\n",
    "\n",
    "    # Define a simulation scenario\n",
    "    driver.set_scenario(\n",
    "        init = init,\n",
    "        stop = 'Para.DynPar.r2[2] < -1'\n",
    "    )\n",
    "\n",
    "    syst.run_drivers()\n",
    "\n",
    "    print(\"MONTECARLO\")\n",
    "    # Montecarlo\n",
    "    syst.drivers.clear()\n",
    "    montecarlo = syst.add_driver(MonteCarlo('mc'))\n",
    "    montecarlo.add_recorder(DataFrameRecorder(includes=['Para.DynPar.r2', 'Para.DynPar.v2', 'Rocket.Aero.Coefs.delta']))\n",
    "    # montecarlo.add_child(runonce)\n",
    "    montecarlo.add_child(driver)\n",
    "    montecarlo.draws = draws\n",
    "    # montecarlo.linear = linear\n",
    "\n",
    "    # parameters for uncertainties in the data\n",
    "    cant_attr = syst.Rocket.Aero.Coefs.inwards.get_details('delta')\n",
    "    s_attr = syst.Rocket.Aero.Coefs.inwards.get_details('s')\n",
    "    tf_attr = syst.Rocket.Aero.Coefs.inwards.get_details('tf')\n",
    "    \n",
    "    # Set the distribution around the current value\n",
    "    cant_attr.distribution = Normal(best=.01, worst=-.01)\n",
    "    s_attr.distribution = Normal(best=.01, worst=-.01)\n",
    "    tf_attr.distribution = Normal(best=.001, worst=-.001)\n",
    "\n",
    "    montecarlo.add_random_variable('Rocket.Aero.Coefs.delta')\n",
    "    montecarlo.add_random_variable('Rocket.Aero.Coefs.s')\n",
    "    montecarlo.add_random_variable('Rocket.Aero.Coefs.tf')\n",
    "\n",
    "    # Computation\n",
    "    syst.run_drivers()\n",
    "\n",
    "    return montecarlo.recorder.export_data()"
   ]
  },
  {
   "cell_type": "code",
   "execution_count": 4,
   "metadata": {},
   "outputs": [
    {
     "name": "stdout",
     "output_type": "stream",
     "text": [
      "___PARACHUTE DEPLOYMENT___\n",
      "\n",
      "\n",
      "Rocket X Coordinate at Deployment:  30.87794567410323 m\n",
      "Rocket Y Coordinate at Deployment:  0.0 m\n",
      "Rocket Z Coordinate at Deployment:  169.80336380164607 m\n",
      "\n",
      "\n",
      "___PARACHUTE DEPLOYMENT___\n",
      "\n",
      "\n",
      "Parachute fully deployed !\n",
      "MONTECARLO\n",
      "___PARACHUTE DEPLOYMENT___\n",
      "\n",
      "\n",
      "Rocket X Coordinate at Deployment:  30.87794567410323 m\n",
      "Rocket Y Coordinate at Deployment:  0.0 m\n",
      "Rocket Z Coordinate at Deployment:  169.8033638016461 m\n",
      "\n",
      "\n",
      "___PARACHUTE DEPLOYMENT___\n",
      "\n",
      "\n",
      "Parachute fully deployed !\n",
      "___PARACHUTE DEPLOYMENT___\n",
      "\n",
      "\n",
      "Rocket X Coordinate at Deployment:  30.87794567410323 m\n",
      "Rocket Y Coordinate at Deployment:  0.0 m\n",
      "Rocket Z Coordinate at Deployment:  169.8033638016461 m\n",
      "\n",
      "\n",
      "___PARACHUTE DEPLOYMENT___\n",
      "\n",
      "\n",
      "Parachute fully deployed !\n",
      "___PARACHUTE DEPLOYMENT___\n",
      "\n",
      "\n",
      "Rocket X Coordinate at Deployment:  30.87794567410323 m\n",
      "Rocket Y Coordinate at Deployment:  0.0 m\n",
      "Rocket Z Coordinate at Deployment:  169.8033638016461 m\n",
      "\n",
      "\n",
      "___PARACHUTE DEPLOYMENT___\n",
      "\n",
      "\n",
      "Parachute fully deployed !\n",
      "___PARACHUTE DEPLOYMENT___\n",
      "\n",
      "\n",
      "Rocket X Coordinate at Deployment:  29.196298422470157 m\n",
      "Rocket Y Coordinate at Deployment:  5.671474033118201 m\n",
      "Rocket Z Coordinate at Deployment:  169.96226591400136 m\n",
      "\n",
      "\n",
      "___PARACHUTE DEPLOYMENT___\n",
      "\n",
      "\n",
      "Parachute fully deployed !\n",
      "___PARACHUTE DEPLOYMENT___\n",
      "\n",
      "\n",
      "Rocket X Coordinate at Deployment:  29.196298422470154 m\n",
      "Rocket Y Coordinate at Deployment:  -5.671474033118199 m\n",
      "Rocket Z Coordinate at Deployment:  169.96226591400134 m\n",
      "\n",
      "\n",
      "___PARACHUTE DEPLOYMENT___\n",
      "\n",
      "\n",
      "Parachute fully deployed !\n",
      "___PARACHUTE DEPLOYMENT___\n",
      "\n",
      "\n",
      "Rocket X Coordinate at Deployment:  30.4914694558806 m\n",
      "Rocket Y Coordinate at Deployment:  -2.818734742924171 m\n",
      "Rocket Z Coordinate at Deployment:  169.8398744474511 m\n",
      "\n",
      "\n",
      "___PARACHUTE DEPLOYMENT___\n",
      "\n",
      "\n",
      "Parachute fully deployed !\n",
      "___PARACHUTE DEPLOYMENT___\n",
      "\n",
      "\n",
      "Rocket X Coordinate at Deployment:  26.334180941821366 m\n",
      "Rocket Y Coordinate at Deployment:  8.498822388136642 m\n",
      "Rocket Z Coordinate at Deployment:  170.23530512750236 m\n",
      "\n",
      "\n",
      "___PARACHUTE DEPLOYMENT___\n",
      "\n",
      "\n",
      "Parachute fully deployed !\n",
      "___PARACHUTE DEPLOYMENT___\n",
      "\n",
      "\n",
      "Rocket X Coordinate at Deployment:  30.4914694558806 m\n",
      "Rocket Y Coordinate at Deployment:  2.8187347429241707 m\n",
      "Rocket Z Coordinate at Deployment:  169.8398744474511 m\n",
      "\n",
      "\n",
      "___PARACHUTE DEPLOYMENT___\n",
      "\n",
      "\n",
      "Parachute fully deployed !\n",
      "___PARACHUTE DEPLOYMENT___\n",
      "\n",
      "\n",
      "Rocket X Coordinate at Deployment:  26.334180941821366 m\n",
      "Rocket Y Coordinate at Deployment:  -8.498822388136642 m\n",
      "Rocket Z Coordinate at Deployment:  170.23530512750236 m\n",
      "\n",
      "\n",
      "___PARACHUTE DEPLOYMENT___\n",
      "\n",
      "\n",
      "Parachute fully deployed !\n",
      "___PARACHUTE DEPLOYMENT___\n",
      "\n",
      "\n",
      "Rocket X Coordinate at Deployment:  28.048173526975706 m\n",
      "Rocket Y Coordinate at Deployment:  -7.1048094862039 m\n",
      "Rocket Z Coordinate at Deployment:  170.07132108245077 m\n",
      "\n",
      "\n",
      "___PARACHUTE DEPLOYMENT___\n",
      "\n",
      "\n",
      "Parachute fully deployed !\n",
      "___PARACHUTE DEPLOYMENT___\n",
      "\n",
      "\n",
      "Rocket X Coordinate at Deployment:  29.979052814454626 m\n",
      "Rocket Y Coordinate at Deployment:  4.239933484839613 m\n",
      "Rocket Z Coordinate at Deployment:  169.88822747905695 m\n",
      "\n",
      "\n",
      "___PARACHUTE DEPLOYMENT___\n",
      "\n",
      "\n",
      "Parachute fully deployed !\n",
      "___PARACHUTE DEPLOYMENT___\n",
      "\n",
      "\n",
      "Rocket X Coordinate at Deployment:  23.51160272454191 m\n",
      "Rocket Y Coordinate at Deployment:  9.65085157791249 m\n",
      "Rocket Z Coordinate at Deployment:  170.50950087952293 m\n",
      "\n",
      "\n",
      "___PARACHUTE DEPLOYMENT___\n",
      "\n",
      "\n",
      "Parachute fully deployed !\n"
     ]
    }
   ],
   "source": [
    "\n",
    "results = run_analysis(earth, draws=50, linear=False)"
   ]
  },
  {
   "cell_type": "code",
   "execution_count": 5,
   "metadata": {},
   "outputs": [
    {
     "data": {
      "text/html": [
       "<div>\n",
       "<style scoped>\n",
       "    .dataframe tbody tr th:only-of-type {\n",
       "        vertical-align: middle;\n",
       "    }\n",
       "\n",
       "    .dataframe tbody tr th {\n",
       "        vertical-align: top;\n",
       "    }\n",
       "\n",
       "    .dataframe thead th {\n",
       "        text-align: right;\n",
       "    }\n",
       "</style>\n",
       "<table border=\"1\" class=\"dataframe\">\n",
       "  <thead>\n",
       "    <tr style=\"text-align: right;\">\n",
       "      <th></th>\n",
       "      <th>Section</th>\n",
       "      <th>Status</th>\n",
       "      <th>Error code</th>\n",
       "      <th>Reference</th>\n",
       "      <th>Para.DynPar.r2</th>\n",
       "      <th>Para.DynPar.v2</th>\n",
       "      <th>Rocket.Aero.Coefs.delta</th>\n",
       "    </tr>\n",
       "  </thead>\n",
       "  <tbody>\n",
       "    <tr>\n",
       "      <th>0</th>\n",
       "      <td></td>\n",
       "      <td></td>\n",
       "      <td>0</td>\n",
       "      <td>0</td>\n",
       "      <td>[38.85438334502149, 4.5299774981559205e-33, -1...</td>\n",
       "      <td>[6.641400073819258e-07, 2.855267570860113e-40,...</td>\n",
       "      <td>-9.656293e-19</td>\n",
       "    </tr>\n",
       "    <tr>\n",
       "      <th>1</th>\n",
       "      <td></td>\n",
       "      <td></td>\n",
       "      <td>0</td>\n",
       "      <td>1</td>\n",
       "      <td>[35.19643301285781, 10.292761692209105, -0.999...</td>\n",
       "      <td>[4.946527258387128e-07, 3.824846738569515e-07,...</td>\n",
       "      <td>6.507796e-03</td>\n",
       "    </tr>\n",
       "    <tr>\n",
       "      <th>2</th>\n",
       "      <td></td>\n",
       "      <td></td>\n",
       "      <td>0</td>\n",
       "      <td>2</td>\n",
       "      <td>[35.196433013014705, -10.292761692778578, -0.9...</td>\n",
       "      <td>[4.946527264945277e-07, -3.824846714659121e-07...</td>\n",
       "      <td>-6.507796e-03</td>\n",
       "    </tr>\n",
       "    <tr>\n",
       "      <th>3</th>\n",
       "      <td></td>\n",
       "      <td></td>\n",
       "      <td>0</td>\n",
       "      <td>3</td>\n",
       "      <td>[38.00540121188944, -5.212619509836143, -1.000...</td>\n",
       "      <td>[6.242250271632009e-07, -1.9949866485682844e-0...</td>\n",
       "      <td>-3.074383e-03</td>\n",
       "    </tr>\n",
       "    <tr>\n",
       "      <th>4</th>\n",
       "      <td></td>\n",
       "      <td></td>\n",
       "      <td>0</td>\n",
       "      <td>4</td>\n",
       "      <td>[29.22146295322445, 14.673633053999348, -0.999...</td>\n",
       "      <td>[2.3344840161654473e-07, 5.034026541069057e-07...</td>\n",
       "      <td>1.109912e-02</td>\n",
       "    </tr>\n",
       "    <tr>\n",
       "      <th>5</th>\n",
       "      <td></td>\n",
       "      <td></td>\n",
       "      <td>0</td>\n",
       "      <td>5</td>\n",
       "      <td>[38.00540121222089, 5.212619509587429, -1.0000...</td>\n",
       "      <td>[6.2422498016217e-07, 1.9949866050825012e-07, ...</td>\n",
       "      <td>3.074383e-03</td>\n",
       "    </tr>\n",
       "    <tr>\n",
       "      <th>6</th>\n",
       "      <td></td>\n",
       "      <td></td>\n",
       "      <td>0</td>\n",
       "      <td>6</td>\n",
       "      <td>[29.22146295322445, -14.673633053999348, -0.99...</td>\n",
       "      <td>[2.3344840161654473e-07, -5.034026541069057e-0...</td>\n",
       "      <td>-1.109912e-02</td>\n",
       "    </tr>\n",
       "    <tr>\n",
       "      <th>7</th>\n",
       "      <td></td>\n",
       "      <td></td>\n",
       "      <td>0</td>\n",
       "      <td>7</td>\n",
       "      <td>[32.758174958512775, -12.658384351889866, -0.9...</td>\n",
       "      <td>[3.855203054270177e-07, -4.5686247077971203e-0...</td>\n",
       "      <td>-8.559610e-03</td>\n",
       "    </tr>\n",
       "    <tr>\n",
       "      <th>8</th>\n",
       "      <td></td>\n",
       "      <td></td>\n",
       "      <td>0</td>\n",
       "      <td>8</td>\n",
       "      <td>[36.88708741063139, 7.78452516507399, -1.00000...</td>\n",
       "      <td>[5.721691055504737e-07, 2.945912768491264e-07,...</td>\n",
       "      <td>4.715946e-03</td>\n",
       "    </tr>\n",
       "    <tr>\n",
       "      <th>9</th>\n",
       "      <td></td>\n",
       "      <td></td>\n",
       "      <td>0</td>\n",
       "      <td>9</td>\n",
       "      <td>[23.73134732940869, 15.593262129436734, -1.000...</td>\n",
       "      <td>[1.5713045964371268e-08, 4.773364836918266e-07...</td>\n",
       "      <td>1.480192e-02</td>\n",
       "    </tr>\n",
       "  </tbody>\n",
       "</table>\n",
       "</div>"
      ],
      "text/plain": [
       "  Section Status Error code Reference   \n",
       "0                         0         0  \\\n",
       "1                         0         1   \n",
       "2                         0         2   \n",
       "3                         0         3   \n",
       "4                         0         4   \n",
       "5                         0         5   \n",
       "6                         0         6   \n",
       "7                         0         7   \n",
       "8                         0         8   \n",
       "9                         0         9   \n",
       "\n",
       "                                      Para.DynPar.r2   \n",
       "0  [38.85438334502149, 4.5299774981559205e-33, -1...  \\\n",
       "1  [35.19643301285781, 10.292761692209105, -0.999...   \n",
       "2  [35.196433013014705, -10.292761692778578, -0.9...   \n",
       "3  [38.00540121188944, -5.212619509836143, -1.000...   \n",
       "4  [29.22146295322445, 14.673633053999348, -0.999...   \n",
       "5  [38.00540121222089, 5.212619509587429, -1.0000...   \n",
       "6  [29.22146295322445, -14.673633053999348, -0.99...   \n",
       "7  [32.758174958512775, -12.658384351889866, -0.9...   \n",
       "8  [36.88708741063139, 7.78452516507399, -1.00000...   \n",
       "9  [23.73134732940869, 15.593262129436734, -1.000...   \n",
       "\n",
       "                                      Para.DynPar.v2  Rocket.Aero.Coefs.delta  \n",
       "0  [6.641400073819258e-07, 2.855267570860113e-40,...            -9.656293e-19  \n",
       "1  [4.946527258387128e-07, 3.824846738569515e-07,...             6.507796e-03  \n",
       "2  [4.946527264945277e-07, -3.824846714659121e-07...            -6.507796e-03  \n",
       "3  [6.242250271632009e-07, -1.9949866485682844e-0...            -3.074383e-03  \n",
       "4  [2.3344840161654473e-07, 5.034026541069057e-07...             1.109912e-02  \n",
       "5  [6.2422498016217e-07, 1.9949866050825012e-07, ...             3.074383e-03  \n",
       "6  [2.3344840161654473e-07, -5.034026541069057e-0...            -1.109912e-02  \n",
       "7  [3.855203054270177e-07, -4.5686247077971203e-0...            -8.559610e-03  \n",
       "8  [5.721691055504737e-07, 2.945912768491264e-07,...             4.715946e-03  \n",
       "9  [1.5713045964371268e-08, 4.773364836918266e-07...             1.480192e-02  "
      ]
     },
     "execution_count": 5,
     "metadata": {},
     "output_type": "execute_result"
    }
   ],
   "source": [
    "results"
   ]
  },
  {
   "cell_type": "code",
   "execution_count": 6,
   "metadata": {},
   "outputs": [],
   "source": [
    "\n",
    "with open('result.txt', 'a') as fp:\n",
    "    fp.write(results.to_csv())"
   ]
  },
  {
   "cell_type": "code",
   "execution_count": 7,
   "metadata": {},
   "outputs": [
    {
     "data": {
      "text/plain": [
       "array([[ 3.88543833e+01,  4.52997750e-33, -1.00000000e+00],\n",
       "       [ 3.51964330e+01,  1.02927617e+01, -1.00000000e+00],\n",
       "       [ 3.51964330e+01, -1.02927617e+01, -1.00000000e+00]])"
      ]
     },
     "execution_count": 7,
     "metadata": {},
     "output_type": "execute_result"
    }
   ],
   "source": [
    "traj = np.asarray(results['Para.DynPar.r2'].tolist())\n",
    "traj"
   ]
  },
  {
   "cell_type": "code",
   "execution_count": 6,
   "metadata": {},
   "outputs": [
    {
     "data": {
      "application/vnd.plotly.v1+json": {
       "config": {
        "plotlyServerURL": "https://plot.ly"
       },
       "data": [
        {
         "mode": "markers",
         "type": "scatter",
         "x": [
          38.85438334502149,
          35.19643301285781,
          35.196433013014705,
          38.00540121188944,
          29.22146295322445,
          38.00540121222089,
          29.22146295322445,
          32.758174958512775,
          36.88708741063139,
          23.73134732940869
         ],
         "xaxis": "x",
         "y": [
          4.5299774981559205e-33,
          10.292761692209105,
          -10.292761692778578,
          -5.212619509836143,
          14.673633053999348,
          5.212619509587429,
          -14.673633053999348,
          -12.658384351889866,
          7.78452516507399,
          15.593262129436734
         ],
         "yaxis": "y"
        }
       ],
       "layout": {
        "template": {
         "data": {
          "bar": [
           {
            "error_x": {
             "color": "#2a3f5f"
            },
            "error_y": {
             "color": "#2a3f5f"
            },
            "marker": {
             "line": {
              "color": "#E5ECF6",
              "width": 0.5
             },
             "pattern": {
              "fillmode": "overlay",
              "size": 10,
              "solidity": 0.2
             }
            },
            "type": "bar"
           }
          ],
          "barpolar": [
           {
            "marker": {
             "line": {
              "color": "#E5ECF6",
              "width": 0.5
             },
             "pattern": {
              "fillmode": "overlay",
              "size": 10,
              "solidity": 0.2
             }
            },
            "type": "barpolar"
           }
          ],
          "carpet": [
           {
            "aaxis": {
             "endlinecolor": "#2a3f5f",
             "gridcolor": "white",
             "linecolor": "white",
             "minorgridcolor": "white",
             "startlinecolor": "#2a3f5f"
            },
            "baxis": {
             "endlinecolor": "#2a3f5f",
             "gridcolor": "white",
             "linecolor": "white",
             "minorgridcolor": "white",
             "startlinecolor": "#2a3f5f"
            },
            "type": "carpet"
           }
          ],
          "choropleth": [
           {
            "colorbar": {
             "outlinewidth": 0,
             "ticks": ""
            },
            "type": "choropleth"
           }
          ],
          "contour": [
           {
            "colorbar": {
             "outlinewidth": 0,
             "ticks": ""
            },
            "colorscale": [
             [
              0,
              "#0d0887"
             ],
             [
              0.1111111111111111,
              "#46039f"
             ],
             [
              0.2222222222222222,
              "#7201a8"
             ],
             [
              0.3333333333333333,
              "#9c179e"
             ],
             [
              0.4444444444444444,
              "#bd3786"
             ],
             [
              0.5555555555555556,
              "#d8576b"
             ],
             [
              0.6666666666666666,
              "#ed7953"
             ],
             [
              0.7777777777777778,
              "#fb9f3a"
             ],
             [
              0.8888888888888888,
              "#fdca26"
             ],
             [
              1,
              "#f0f921"
             ]
            ],
            "type": "contour"
           }
          ],
          "contourcarpet": [
           {
            "colorbar": {
             "outlinewidth": 0,
             "ticks": ""
            },
            "type": "contourcarpet"
           }
          ],
          "heatmap": [
           {
            "colorbar": {
             "outlinewidth": 0,
             "ticks": ""
            },
            "colorscale": [
             [
              0,
              "#0d0887"
             ],
             [
              0.1111111111111111,
              "#46039f"
             ],
             [
              0.2222222222222222,
              "#7201a8"
             ],
             [
              0.3333333333333333,
              "#9c179e"
             ],
             [
              0.4444444444444444,
              "#bd3786"
             ],
             [
              0.5555555555555556,
              "#d8576b"
             ],
             [
              0.6666666666666666,
              "#ed7953"
             ],
             [
              0.7777777777777778,
              "#fb9f3a"
             ],
             [
              0.8888888888888888,
              "#fdca26"
             ],
             [
              1,
              "#f0f921"
             ]
            ],
            "type": "heatmap"
           }
          ],
          "heatmapgl": [
           {
            "colorbar": {
             "outlinewidth": 0,
             "ticks": ""
            },
            "colorscale": [
             [
              0,
              "#0d0887"
             ],
             [
              0.1111111111111111,
              "#46039f"
             ],
             [
              0.2222222222222222,
              "#7201a8"
             ],
             [
              0.3333333333333333,
              "#9c179e"
             ],
             [
              0.4444444444444444,
              "#bd3786"
             ],
             [
              0.5555555555555556,
              "#d8576b"
             ],
             [
              0.6666666666666666,
              "#ed7953"
             ],
             [
              0.7777777777777778,
              "#fb9f3a"
             ],
             [
              0.8888888888888888,
              "#fdca26"
             ],
             [
              1,
              "#f0f921"
             ]
            ],
            "type": "heatmapgl"
           }
          ],
          "histogram": [
           {
            "marker": {
             "pattern": {
              "fillmode": "overlay",
              "size": 10,
              "solidity": 0.2
             }
            },
            "type": "histogram"
           }
          ],
          "histogram2d": [
           {
            "colorbar": {
             "outlinewidth": 0,
             "ticks": ""
            },
            "colorscale": [
             [
              0,
              "#0d0887"
             ],
             [
              0.1111111111111111,
              "#46039f"
             ],
             [
              0.2222222222222222,
              "#7201a8"
             ],
             [
              0.3333333333333333,
              "#9c179e"
             ],
             [
              0.4444444444444444,
              "#bd3786"
             ],
             [
              0.5555555555555556,
              "#d8576b"
             ],
             [
              0.6666666666666666,
              "#ed7953"
             ],
             [
              0.7777777777777778,
              "#fb9f3a"
             ],
             [
              0.8888888888888888,
              "#fdca26"
             ],
             [
              1,
              "#f0f921"
             ]
            ],
            "type": "histogram2d"
           }
          ],
          "histogram2dcontour": [
           {
            "colorbar": {
             "outlinewidth": 0,
             "ticks": ""
            },
            "colorscale": [
             [
              0,
              "#0d0887"
             ],
             [
              0.1111111111111111,
              "#46039f"
             ],
             [
              0.2222222222222222,
              "#7201a8"
             ],
             [
              0.3333333333333333,
              "#9c179e"
             ],
             [
              0.4444444444444444,
              "#bd3786"
             ],
             [
              0.5555555555555556,
              "#d8576b"
             ],
             [
              0.6666666666666666,
              "#ed7953"
             ],
             [
              0.7777777777777778,
              "#fb9f3a"
             ],
             [
              0.8888888888888888,
              "#fdca26"
             ],
             [
              1,
              "#f0f921"
             ]
            ],
            "type": "histogram2dcontour"
           }
          ],
          "mesh3d": [
           {
            "colorbar": {
             "outlinewidth": 0,
             "ticks": ""
            },
            "type": "mesh3d"
           }
          ],
          "parcoords": [
           {
            "line": {
             "colorbar": {
              "outlinewidth": 0,
              "ticks": ""
             }
            },
            "type": "parcoords"
           }
          ],
          "pie": [
           {
            "automargin": true,
            "type": "pie"
           }
          ],
          "scatter": [
           {
            "fillpattern": {
             "fillmode": "overlay",
             "size": 10,
             "solidity": 0.2
            },
            "type": "scatter"
           }
          ],
          "scatter3d": [
           {
            "line": {
             "colorbar": {
              "outlinewidth": 0,
              "ticks": ""
             }
            },
            "marker": {
             "colorbar": {
              "outlinewidth": 0,
              "ticks": ""
             }
            },
            "type": "scatter3d"
           }
          ],
          "scattercarpet": [
           {
            "marker": {
             "colorbar": {
              "outlinewidth": 0,
              "ticks": ""
             }
            },
            "type": "scattercarpet"
           }
          ],
          "scattergeo": [
           {
            "marker": {
             "colorbar": {
              "outlinewidth": 0,
              "ticks": ""
             }
            },
            "type": "scattergeo"
           }
          ],
          "scattergl": [
           {
            "marker": {
             "colorbar": {
              "outlinewidth": 0,
              "ticks": ""
             }
            },
            "type": "scattergl"
           }
          ],
          "scattermapbox": [
           {
            "marker": {
             "colorbar": {
              "outlinewidth": 0,
              "ticks": ""
             }
            },
            "type": "scattermapbox"
           }
          ],
          "scatterpolar": [
           {
            "marker": {
             "colorbar": {
              "outlinewidth": 0,
              "ticks": ""
             }
            },
            "type": "scatterpolar"
           }
          ],
          "scatterpolargl": [
           {
            "marker": {
             "colorbar": {
              "outlinewidth": 0,
              "ticks": ""
             }
            },
            "type": "scatterpolargl"
           }
          ],
          "scatterternary": [
           {
            "marker": {
             "colorbar": {
              "outlinewidth": 0,
              "ticks": ""
             }
            },
            "type": "scatterternary"
           }
          ],
          "surface": [
           {
            "colorbar": {
             "outlinewidth": 0,
             "ticks": ""
            },
            "colorscale": [
             [
              0,
              "#0d0887"
             ],
             [
              0.1111111111111111,
              "#46039f"
             ],
             [
              0.2222222222222222,
              "#7201a8"
             ],
             [
              0.3333333333333333,
              "#9c179e"
             ],
             [
              0.4444444444444444,
              "#bd3786"
             ],
             [
              0.5555555555555556,
              "#d8576b"
             ],
             [
              0.6666666666666666,
              "#ed7953"
             ],
             [
              0.7777777777777778,
              "#fb9f3a"
             ],
             [
              0.8888888888888888,
              "#fdca26"
             ],
             [
              1,
              "#f0f921"
             ]
            ],
            "type": "surface"
           }
          ],
          "table": [
           {
            "cells": {
             "fill": {
              "color": "#EBF0F8"
             },
             "line": {
              "color": "white"
             }
            },
            "header": {
             "fill": {
              "color": "#C8D4E3"
             },
             "line": {
              "color": "white"
             }
            },
            "type": "table"
           }
          ]
         },
         "layout": {
          "annotationdefaults": {
           "arrowcolor": "#2a3f5f",
           "arrowhead": 0,
           "arrowwidth": 1
          },
          "autotypenumbers": "strict",
          "coloraxis": {
           "colorbar": {
            "outlinewidth": 0,
            "ticks": ""
           }
          },
          "colorscale": {
           "diverging": [
            [
             0,
             "#8e0152"
            ],
            [
             0.1,
             "#c51b7d"
            ],
            [
             0.2,
             "#de77ae"
            ],
            [
             0.3,
             "#f1b6da"
            ],
            [
             0.4,
             "#fde0ef"
            ],
            [
             0.5,
             "#f7f7f7"
            ],
            [
             0.6,
             "#e6f5d0"
            ],
            [
             0.7,
             "#b8e186"
            ],
            [
             0.8,
             "#7fbc41"
            ],
            [
             0.9,
             "#4d9221"
            ],
            [
             1,
             "#276419"
            ]
           ],
           "sequential": [
            [
             0,
             "#0d0887"
            ],
            [
             0.1111111111111111,
             "#46039f"
            ],
            [
             0.2222222222222222,
             "#7201a8"
            ],
            [
             0.3333333333333333,
             "#9c179e"
            ],
            [
             0.4444444444444444,
             "#bd3786"
            ],
            [
             0.5555555555555556,
             "#d8576b"
            ],
            [
             0.6666666666666666,
             "#ed7953"
            ],
            [
             0.7777777777777778,
             "#fb9f3a"
            ],
            [
             0.8888888888888888,
             "#fdca26"
            ],
            [
             1,
             "#f0f921"
            ]
           ],
           "sequentialminus": [
            [
             0,
             "#0d0887"
            ],
            [
             0.1111111111111111,
             "#46039f"
            ],
            [
             0.2222222222222222,
             "#7201a8"
            ],
            [
             0.3333333333333333,
             "#9c179e"
            ],
            [
             0.4444444444444444,
             "#bd3786"
            ],
            [
             0.5555555555555556,
             "#d8576b"
            ],
            [
             0.6666666666666666,
             "#ed7953"
            ],
            [
             0.7777777777777778,
             "#fb9f3a"
            ],
            [
             0.8888888888888888,
             "#fdca26"
            ],
            [
             1,
             "#f0f921"
            ]
           ]
          },
          "colorway": [
           "#636efa",
           "#EF553B",
           "#00cc96",
           "#ab63fa",
           "#FFA15A",
           "#19d3f3",
           "#FF6692",
           "#B6E880",
           "#FF97FF",
           "#FECB52"
          ],
          "font": {
           "color": "#2a3f5f"
          },
          "geo": {
           "bgcolor": "white",
           "lakecolor": "white",
           "landcolor": "#E5ECF6",
           "showlakes": true,
           "showland": true,
           "subunitcolor": "white"
          },
          "hoverlabel": {
           "align": "left"
          },
          "hovermode": "closest",
          "mapbox": {
           "style": "light"
          },
          "paper_bgcolor": "white",
          "plot_bgcolor": "#E5ECF6",
          "polar": {
           "angularaxis": {
            "gridcolor": "white",
            "linecolor": "white",
            "ticks": ""
           },
           "bgcolor": "#E5ECF6",
           "radialaxis": {
            "gridcolor": "white",
            "linecolor": "white",
            "ticks": ""
           }
          },
          "scene": {
           "xaxis": {
            "backgroundcolor": "#E5ECF6",
            "gridcolor": "white",
            "gridwidth": 2,
            "linecolor": "white",
            "showbackground": true,
            "ticks": "",
            "zerolinecolor": "white"
           },
           "yaxis": {
            "backgroundcolor": "#E5ECF6",
            "gridcolor": "white",
            "gridwidth": 2,
            "linecolor": "white",
            "showbackground": true,
            "ticks": "",
            "zerolinecolor": "white"
           },
           "zaxis": {
            "backgroundcolor": "#E5ECF6",
            "gridcolor": "white",
            "gridwidth": 2,
            "linecolor": "white",
            "showbackground": true,
            "ticks": "",
            "zerolinecolor": "white"
           }
          },
          "shapedefaults": {
           "line": {
            "color": "#2a3f5f"
           }
          },
          "ternary": {
           "aaxis": {
            "gridcolor": "white",
            "linecolor": "white",
            "ticks": ""
           },
           "baxis": {
            "gridcolor": "white",
            "linecolor": "white",
            "ticks": ""
           },
           "bgcolor": "#E5ECF6",
           "caxis": {
            "gridcolor": "white",
            "linecolor": "white",
            "ticks": ""
           }
          },
          "title": {
           "x": 0.05
          },
          "xaxis": {
           "automargin": true,
           "gridcolor": "white",
           "linecolor": "white",
           "ticks": "",
           "title": {
            "standoff": 15
           },
           "zerolinecolor": "white",
           "zerolinewidth": 2
          },
          "yaxis": {
           "automargin": true,
           "gridcolor": "white",
           "linecolor": "white",
           "ticks": "",
           "title": {
            "standoff": 15
           },
           "zerolinecolor": "white",
           "zerolinewidth": 2
          }
         }
        },
        "title": {
         "text": "Probability"
        },
        "xaxis": {
         "anchor": "y",
         "domain": [
          0,
          1
         ],
         "title": {
          "text": "X Position"
         }
        },
        "yaxis": {
         "anchor": "x",
         "domain": [
          0,
          1
         ],
         "title": {
          "text": "Y Position"
         }
        }
       }
      }
     },
     "metadata": {},
     "output_type": "display_data"
    }
   ],
   "source": [
    "\n",
    "import plotly.graph_objs as go\n",
    "from plotly.subplots import make_subplots\n",
    "\n",
    "traj = np.asarray(results['Para.DynPar.r2'].tolist())\n",
    "\n",
    "# Create the figure object\n",
    "fig = make_subplots(rows=1, cols=1)\n",
    "fig.layout.title = \"Probability\"\n",
    "fig.layout.yaxis.title = 'Y Position'\n",
    "\n",
    "fig.add_trace(\n",
    "    go.Scatter(\n",
    "        x=traj[:,0],\n",
    "        y=traj[:,1],\n",
    "        mode = 'markers'\n",
    "    ),\n",
    "    row = 1,\n",
    "    col = 1,\n",
    ")\n",
    "fig.get_subplot(1, 1).xaxis.title = \"X Position\"\n",
    "\n",
    "fig.show()"
   ]
  }
 ],
 "metadata": {
  "kernelspec": {
   "display_name": "PSC",
   "language": "python",
   "name": "python3"
  },
  "language_info": {
   "codemirror_mode": {
    "name": "ipython",
    "version": 3
   },
   "file_extension": ".py",
   "mimetype": "text/x-python",
   "name": "python",
   "nbconvert_exporter": "python",
   "pygments_lexer": "ipython3",
   "version": "3.10.9"
  },
  "orig_nbformat": 4
 },
 "nbformat": 4,
 "nbformat_minor": 2
}
