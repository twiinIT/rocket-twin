{
 "cells": [
  {
   "cell_type": "code",
   "execution_count": 1,
   "metadata": {},
   "outputs": [],
   "source": [
    "# Run this cell to create all necessary widgets\n",
    "%run -i include/widgets/widgets.py"
   ]
  },
  {
   "attachments": {},
   "cell_type": "markdown",
   "metadata": {},
   "source": [
    "# Rocket construction\n",
    "## Geometry and Mass \n",
    "The first step is to chose the geometry and mass properties of your rocket. Each component (nose, tube, fins) can have its own density and shape. Fill the following form to specify your rocket's properties."
   ]
  },
  {
   "cell_type": "code",
   "execution_count": 3,
   "metadata": {},
   "outputs": [
    {
     "data": {
      "application/vnd.jupyter.widget-view+json": {
       "model_id": "647ffe5fdba74d9a95fefcb231930190",
       "version_major": 2,
       "version_minor": 0
      },
      "text/plain": [
       "Tab(children=(VBox(children=(BoundedFloatText(value=2.0, description='Tube length ($m$):', max=500.0, step=0.1…"
      ]
     },
     "execution_count": 3,
     "metadata": {},
     "output_type": "execute_result"
    }
   ],
   "source": [
    "# Run this cell\n",
    "rocket_properties_widget"
   ]
  },
  {
   "attachments": {},
   "cell_type": "markdown",
   "metadata": {},
   "source": [
    "## Motor picker\n",
    "\n",
    "This section will allow you to chose the right motor for your rocket based on the desired impulse class and diameter.\n",
    "\n",
    "$(\\textit{Motors data is loaded from the JSON file :  } \\texttt{include/widgets/motor\\_data.json})$\n",
    "\n",
    "You will have to chose the two following properties in order to access the motor choice.\n",
    "### Impulse class : \n",
    "The <b>impulse class</b> is a letter code assigned to a range of total impulse with each letter being twice as powerful as the previous.\n",
    "- A : 1.26–2.50 (N.s),\n",
    "- B : 2.51–5.00,\n",
    "- C : 5.01–10.0,\n",
    "- D : 10.01–20.0,\n",
    "- E : 20.01–40.0,\n",
    "- F : 40.01–80.0,\n",
    "- G : 80.01–160,\n",
    "- H : 160.01–320,\n",
    "- I : 320.01–640,\n",
    "- J : 640.01–1,280,\n",
    "- K : 1,280.01–2,560,\n",
    "- L : 2,560.01–5,120,\n",
    "- M : 5,120.01–10,240,\n",
    "- N : 10,240.01–20,480,\n",
    "- O : 20,480.01–40,960\n",
    "### Motor geometry :\n",
    "The main diameter of the motor is expressed in millimeters.\n",
    "\n",
    "The position of the motor corresponds to the distance between the bottom of the motor and the bottom of the tube in meters."
   ]
  },
  {
   "cell_type": "code",
   "execution_count": 4,
   "metadata": {},
   "outputs": [
    {
     "data": {
      "application/vnd.jupyter.widget-view+json": {
       "model_id": "6aa210be59694f469556e1237850b75d",
       "version_major": 2,
       "version_minor": 0
      },
      "text/plain": [
       "Accordion(children=(Dropdown(description='Impulse Class ($N.s$):', options=(('[1.26 - 2.50]', 'A'), ('[2.51 - …"
      ]
     },
     "execution_count": 4,
     "metadata": {},
     "output_type": "execute_result"
    }
   ],
   "source": [
    "# Run this cell\n",
    "motor_selection_widget"
   ]
  },
  {
   "attachments": {},
   "cell_type": "markdown",
   "metadata": {},
   "source": [
    "## Parachutes settings\n",
    "\n",
    "In this section, you will have to specify the various properties of the parachute."
   ]
  },
  {
   "cell_type": "code",
   "execution_count": 5,
   "metadata": {},
   "outputs": [
    {
     "data": {
      "application/vnd.jupyter.widget-view+json": {
       "model_id": "6debb3cd965942d6968d78808a13378b",
       "version_major": 2,
       "version_minor": 0
      },
      "text/plain": [
       "VBox(children=(BoundedFloatText(value=1.0, description='Rope rest length ($m$):', max=1000.0, step=0.1, style=…"
      ]
     },
     "execution_count": 5,
     "metadata": {},
     "output_type": "execute_result"
    }
   ],
   "source": [
    "# Run this cell\n",
    "parachute_widget"
   ]
  },
  {
   "attachments": {},
   "cell_type": "markdown",
   "metadata": {},
   "source": [
    "## Additional masses\n",
    "In this section you can create additional mass component to add to your rocket.\n",
    "\n",
    "These components are represented as cylinders or empty cylinders, but can play the role of various inner components for your rocket such as a partition or an electrical component."
   ]
  },
  {
   "cell_type": "code",
   "execution_count": 6,
   "metadata": {},
   "outputs": [
    {
     "data": {
      "application/vnd.jupyter.widget-view+json": {
       "model_id": "43cfb2ac66cc43829b29654e72af1c7e",
       "version_major": 2,
       "version_minor": 0
      },
      "text/plain": [
       "Accordion(children=(VBox(children=(BoundedIntText(value=0, description='Number of additional masses', style=De…"
      ]
     },
     "execution_count": 6,
     "metadata": {},
     "output_type": "execute_result"
    }
   ],
   "source": [
    "# Run this cell\n",
    "additional_masses_widget"
   ]
  },
  {
   "attachments": {},
   "cell_type": "markdown",
   "metadata": {},
   "source": [
    "## Launching parameters\n",
    "Last parameters to ajust for launching.\n",
    "\n",
    "Specify launching parameters for the simulation."
   ]
  },
  {
   "cell_type": "code",
   "execution_count": 7,
   "metadata": {},
   "outputs": [
    {
     "data": {
      "application/vnd.jupyter.widget-view+json": {
       "model_id": "54257a73d1fe4d57b2a841f5da3860d9",
       "version_major": 2,
       "version_minor": 0
      },
      "text/plain": [
       "VBox(children=(BoundedFloatText(value=2.0, description=\"Rocket's total mass ($kg$):\", max=1000000.0, step=1.0,…"
      ]
     },
     "execution_count": 7,
     "metadata": {},
     "output_type": "execute_result"
    }
   ],
   "source": [
    "# Run this cell\n",
    "launching_parameters_widget"
   ]
  },
  {
   "attachments": {},
   "cell_type": "markdown",
   "metadata": {},
   "source": [
    "## Creation of the rocket\n",
    "All properties you have previously entered will be stored in the $\\texttt{'rocket'}$ object as you run this cell.\n",
    "\n",
    "It's properties are stored in the $\\texttt{'rocket\\_dict.json'}$ file.\n",
    "\n",
    "You can also create your rocket by directly specifying its properties in the file. All properties must be specified in the dictionary.\n",
    "\n",
    "(Please refer to the documentation for more details about the format of each entry.)"
   ]
  },
  {
   "cell_type": "code",
   "execution_count": 8,
   "metadata": {},
   "outputs": [],
   "source": [
    "# Run this cell to update the rocket and create its corresponding CustomRocket object\n",
    "# Look at the documentation from widgets.py for the use of data_source parameter\n",
    "myrocket = rocket_creation(data_source=\"widgets\")"
   ]
  },
  {
   "attachments": {},
   "cell_type": "markdown",
   "metadata": {},
   "source": [
    "## Plot the rocket\n",
    "This cell allows you to visualize your rocket.\n",
    "\n",
    "Two points are also visible if  $\\texttt{'only\\_ext=True'}$  and  $\\texttt{'opened=True'}$. They correspond to :\n",
    "- Red point : Center of gravity (COG)\n",
    "- Green point : Center of pressure (CPA)\n",
    "\n",
    "The COG should be closer to rocket's nose than the CPA for a stable rocket."
   ]
  },
  {
   "cell_type": "code",
   "execution_count": 9,
   "metadata": {},
   "outputs": [
    {
     "name": "stdout",
     "output_type": "stream",
     "text": [
      "Volume (m^3)                                 = 0.038753429572182085\n",
      "Mass   (kg)                                  = 68.97601111162987\n",
      "\n",
      "\n",
      "Position of the center of gravity (COG)      = [1.0512575 0.        0.       ]\n",
      "Position of the center of pressure (CPA)     = [0.90709367 0.         0.        ]\n",
      "\n",
      "\n",
      "Inertia matrix expressed at the COG (kg*m^2) = [0.26642233 0.         0.        ]\n",
      "                                               [ 0.        28.5406368  0.       ]\n",
      "                                               [ 0.         0.        28.5406368]\n"
     ]
    },
    {
     "name": "stderr",
     "output_type": "stream",
     "text": [
      "c:\\Users\\Lucs\\micromambaenv\\envs\\test_env\\Lib\\site-packages\\pyvista\\jupyter\\notebook.py:58: UserWarning: Failed to use notebook backend: \n",
      "\n",
      "Please install pythreejs to use this feature\n",
      "\n",
      "Falling back to a static output.\n",
      "  warnings.warn(\n"
     ]
    },
    {
     "data": {
      "image/png": "[encoded data removed]",
      "text/plain": [
       "<PIL.Image.Image image mode=RGB size=1024x768>"
      ]
     },
     "metadata": {},
     "output_type": "display_data"
    }
   ],
   "source": [
    "# Print mass properties of your rocket\n",
    "myrocket.print_properties()\n",
    "\n",
    "# You can chose to plot only the outside of the rocket and/or to plot an opened version of the rocket to visualize its interior\n",
    "myrocket.plot(only_ext=False, opened=True)"
   ]
  },
  {
   "attachments": {},
   "cell_type": "markdown",
   "metadata": {},
   "source": [
    "## Simulation\n",
    "In this section you will simulate your rocket's flight.\n",
    "\n",
    "A new window containing the plot of your rocket's trajectory will appear."
   ]
  },
  {
   "cell_type": "code",
   "execution_count": 10,
   "metadata": {},
   "outputs": [
    {
     "ename": "KeyError",
     "evalue": "'totalWeightG'",
     "output_type": "error",
     "traceback": [
      "\u001b[1;31m---------------------------------------------------------------------------\u001b[0m",
      "\u001b[1;31mKeyError\u001b[0m                                  Traceback (most recent call last)",
      "File \u001b[1;32m~\\Documents\\Polytechnique\\PSC\\rocket-twin\\UI\\model\\rocket_trajectory.py:110\u001b[0m\n\u001b[0;32m     94\u001b[0m \u001b[39m# rocket_dict parameters\u001b[39;00m\n\u001b[0;32m     95\u001b[0m \u001b[39mif\u001b[39;00m LOAD:\n\u001b[0;32m     96\u001b[0m     init \u001b[39m=\u001b[39m {\n\u001b[0;32m     97\u001b[0m         \u001b[39m*\u001b[39m\u001b[39m*\u001b[39minit,\n\u001b[0;32m     98\u001b[0m         \u001b[39m\"\u001b[39m\u001b[39mTraj.r\u001b[39m\u001b[39m\"\u001b[39m: np\u001b[39m.\u001b[39marray([\u001b[39m0\u001b[39m, \u001b[39m0\u001b[39m, rocket_dict[\u001b[39m\"\u001b[39m\u001b[39mrocket_cog\u001b[39m\u001b[39m\"\u001b[39m][\u001b[39m0\u001b[39m]]),\n\u001b[0;32m     99\u001b[0m         \u001b[39m\"\u001b[39m\u001b[39mPara.DynPar.r1\u001b[39m\u001b[39m\"\u001b[39m: np\u001b[39m.\u001b[39marray([\u001b[39m0.0\u001b[39m, \u001b[39m0.0\u001b[39m, rocket_dict[\u001b[39m\"\u001b[39m\u001b[39mrocket_cog\u001b[39m\u001b[39m\"\u001b[39m][\u001b[39m0\u001b[39m]]),\n\u001b[0;32m    100\u001b[0m         \u001b[39m\"\u001b[39m\u001b[39mPara.DynPar.r2\u001b[39m\u001b[39m\"\u001b[39m: np\u001b[39m.\u001b[39marray([\u001b[39m0.0\u001b[39m, \u001b[39m0.0\u001b[39m, rocket_dict[\u001b[39m\"\u001b[39m\u001b[39mrocket_cog\u001b[39m\u001b[39m\"\u001b[39m][\u001b[39m0\u001b[39m]]),\n\u001b[0;32m    101\u001b[0m         \u001b[39m\"\u001b[39m\u001b[39mRocket.l\u001b[39m\u001b[39m\"\u001b[39m: l,\n\u001b[0;32m    102\u001b[0m         \u001b[39m\"\u001b[39m\u001b[39mRocket.Mass.m\u001b[39m\u001b[39m\"\u001b[39m: rocket_dict[\u001b[39m\"\u001b[39m\u001b[39mrocket_mass\u001b[39m\u001b[39m\"\u001b[39m],\n\u001b[0;32m    103\u001b[0m         \u001b[39m\"\u001b[39m\u001b[39mRocket.Mass.m0\u001b[39m\u001b[39m\"\u001b[39m: rocket_dict[\u001b[39m\"\u001b[39m\u001b[39mrocket_mass\u001b[39m\u001b[39m\"\u001b[39m],\n\u001b[0;32m    104\u001b[0m         \u001b[39m\"\u001b[39m\u001b[39mRocket.Mass.Dm\u001b[39m\u001b[39m\"\u001b[39m: rocket_dict[\u001b[39m\"\u001b[39m\u001b[39mrocket_prop_weight\u001b[39m\u001b[39m\"\u001b[39m] \u001b[39m/\u001b[39m thrust[\u001b[39m-\u001b[39m\u001b[39m1\u001b[39m][\u001b[39m0\u001b[39m],\n\u001b[0;32m    105\u001b[0m         \u001b[39m\"\u001b[39m\u001b[39mRocket.Mass.lastEngineTime\u001b[39m\u001b[39m\"\u001b[39m: thrust[\u001b[39m-\u001b[39m\u001b[39m1\u001b[39m][\u001b[39m0\u001b[39m],\n\u001b[0;32m    106\u001b[0m         \u001b[39m\"\u001b[39m\u001b[39mRocket.Mass.I0_geom\u001b[39m\u001b[39m\"\u001b[39m: [rocket_dict[\u001b[39m\"\u001b[39m\u001b[39mrocket_inertia\u001b[39m\u001b[39m\"\u001b[39m][i][i] \u001b[39mfor\u001b[39;00m i \u001b[39min\u001b[39;00m \u001b[39mrange\u001b[39m(\u001b[39m3\u001b[39m)],\n\u001b[0;32m    107\u001b[0m         \u001b[39m\"\u001b[39m\u001b[39mRocket.Mass.lp\u001b[39m\u001b[39m\"\u001b[39m: rocket_dict[\u001b[39m\"\u001b[39m\u001b[39mmotor\u001b[39m\u001b[39m\"\u001b[39m][\u001b[39m\"\u001b[39m\u001b[39mlength\u001b[39m\u001b[39m\"\u001b[39m]\n\u001b[0;32m    108\u001b[0m         \u001b[39m*\u001b[39m \u001b[39m0.001\u001b[39m\n\u001b[0;32m    109\u001b[0m         \u001b[39m*\u001b[39m rocket_dict[\u001b[39m\"\u001b[39m\u001b[39mmotor\u001b[39m\u001b[39m\"\u001b[39m][\u001b[39m\"\u001b[39m\u001b[39mpropWeightG\u001b[39m\u001b[39m\"\u001b[39m]\n\u001b[1;32m--> 110\u001b[0m         \u001b[39m/\u001b[39m rocket_dict[\u001b[39m\"\u001b[39;49m\u001b[39mmotor\u001b[39;49m\u001b[39m\"\u001b[39;49m][\u001b[39m\"\u001b[39;49m\u001b[39mtotalWeightG\u001b[39;49m\u001b[39m\"\u001b[39;49m],\n\u001b[0;32m    111\u001b[0m         \u001b[39m\"\u001b[39m\u001b[39mRocket.Mass.Gdm\u001b[39m\u001b[39m\"\u001b[39m: rocket_dict[\u001b[39m\"\u001b[39m\u001b[39mmotor\u001b[39m\u001b[39m\"\u001b[39m][\u001b[39m\"\u001b[39m\u001b[39mlength\u001b[39m\u001b[39m\"\u001b[39m] \u001b[39m*\u001b[39m \u001b[39m0.001\u001b[39m\n\u001b[0;32m    112\u001b[0m         \u001b[39m+\u001b[39m rocket_dict[\u001b[39m\"\u001b[39m\u001b[39mmotor_position\u001b[39m\u001b[39m\"\u001b[39m],\n\u001b[0;32m    113\u001b[0m         \u001b[39m\"\u001b[39m\u001b[39mRocket.Mass.mCG\u001b[39m\u001b[39m\"\u001b[39m: rocket_dict[\u001b[39m\"\u001b[39m\u001b[39mrocket_mass\u001b[39m\u001b[39m\"\u001b[39m] \u001b[39m*\u001b[39m rocket_dict[\u001b[39m\"\u001b[39m\u001b[39mrocket_cog\u001b[39m\u001b[39m\"\u001b[39m][\u001b[39m0\u001b[39m],\n\u001b[0;32m    114\u001b[0m         \u001b[39m\"\u001b[39m\u001b[39mRocket.Aero.Coefs.ln\u001b[39m\u001b[39m\"\u001b[39m: rocket_dict[\u001b[39m\"\u001b[39m\u001b[39mnose_length\u001b[39m\u001b[39m\"\u001b[39m],\n\u001b[0;32m    115\u001b[0m         \u001b[39m\"\u001b[39m\u001b[39mRocket.Aero.Coefs.d\u001b[39m\u001b[39m\"\u001b[39m: \u001b[39m2\u001b[39m \u001b[39m*\u001b[39m rocket_dict[\u001b[39m\"\u001b[39m\u001b[39mtube_radius\u001b[39m\u001b[39m\"\u001b[39m],\n\u001b[0;32m    116\u001b[0m         \u001b[39m\"\u001b[39m\u001b[39mRocket.Aero.Coefs.NFins\u001b[39m\u001b[39m\"\u001b[39m: rocket_dict[\u001b[39m\"\u001b[39m\u001b[39mfins_number\u001b[39m\u001b[39m\"\u001b[39m],\n\u001b[0;32m    117\u001b[0m         \u001b[39m\"\u001b[39m\u001b[39mRocket.Aero.Coefs.s\u001b[39m\u001b[39m\"\u001b[39m: rocket_dict[\u001b[39m\"\u001b[39m\u001b[39mfins_s\u001b[39m\u001b[39m\"\u001b[39m],\n\u001b[0;32m    118\u001b[0m         \u001b[39m\"\u001b[39m\u001b[39mRocket.Aero.Coefs.Xt\u001b[39m\u001b[39m\"\u001b[39m: rocket_dict[\u001b[39m\"\u001b[39m\u001b[39mfins_Xt\u001b[39m\u001b[39m\"\u001b[39m],\n\u001b[0;32m    119\u001b[0m         \u001b[39m\"\u001b[39m\u001b[39mRocket.Aero.Coefs.Cr\u001b[39m\u001b[39m\"\u001b[39m: rocket_dict[\u001b[39m\"\u001b[39m\u001b[39mfins_Cr\u001b[39m\u001b[39m\"\u001b[39m],\n\u001b[0;32m    120\u001b[0m         \u001b[39m\"\u001b[39m\u001b[39mRocket.Aero.Coefs.Ct\u001b[39m\u001b[39m\"\u001b[39m: rocket_dict[\u001b[39m\"\u001b[39m\u001b[39mfins_Ct\u001b[39m\u001b[39m\"\u001b[39m],\n\u001b[0;32m    121\u001b[0m         \u001b[39m\"\u001b[39m\u001b[39mRocket.Aero.Coefs.tf\u001b[39m\u001b[39m\"\u001b[39m: rocket_dict[\u001b[39m\"\u001b[39m\u001b[39mfins_thickness\u001b[39m\u001b[39m\"\u001b[39m],\n\u001b[0;32m    122\u001b[0m         \u001b[39m\"\u001b[39m\u001b[39mRocket.Aero.Coefs.delta\u001b[39m\u001b[39m\"\u001b[39m: rocket_dict[\u001b[39m\"\u001b[39m\u001b[39mdelta\u001b[39m\u001b[39m\"\u001b[39m],\n\u001b[0;32m    123\u001b[0m         \u001b[39m\"\u001b[39m\u001b[39mWind.wind_on\u001b[39m\u001b[39m\"\u001b[39m: rocket_dict[\u001b[39m\"\u001b[39m\u001b[39mwind_on\u001b[39m\u001b[39m\"\u001b[39m],\n\u001b[0;32m    124\u001b[0m         \u001b[39m# 'Wind.wind_average_speed' : rocket_dict['wind_average_speed'],\u001b[39;00m\n\u001b[0;32m    125\u001b[0m         \u001b[39m\"\u001b[39m\u001b[39mPara.l0\u001b[39m\u001b[39m\"\u001b[39m: rocket_dict[\u001b[39m\"\u001b[39m\u001b[39mparachute_l0\u001b[39m\u001b[39m\"\u001b[39m],\n\u001b[0;32m    126\u001b[0m         \u001b[39m\"\u001b[39m\u001b[39mPara.m1\u001b[39m\u001b[39m\"\u001b[39m: rocket_dict[\u001b[39m\"\u001b[39m\u001b[39mparachute_weight\u001b[39m\u001b[39m\"\u001b[39m] \u001b[39m+\u001b[39m rocket_dict[\u001b[39m\"\u001b[39m\u001b[39mejected_nose_mass\u001b[39m\u001b[39m\"\u001b[39m],\n\u001b[0;32m    127\u001b[0m         \u001b[39m\"\u001b[39m\u001b[39mPara.m2\u001b[39m\u001b[39m\"\u001b[39m: rocket_dict[\u001b[39m\"\u001b[39m\u001b[39mrocket_mass\u001b[39m\u001b[39m\"\u001b[39m] \u001b[39m-\u001b[39m rocket_dict[\u001b[39m\"\u001b[39m\u001b[39mejected_nose_mass\u001b[39m\u001b[39m\"\u001b[39m],\n\u001b[0;32m    128\u001b[0m         \u001b[39m\"\u001b[39m\u001b[39mPara.DynPar.S_ref1\u001b[39m\u001b[39m\"\u001b[39m: rocket_dict[\u001b[39m\"\u001b[39m\u001b[39mparachute_sref1\u001b[39m\u001b[39m\"\u001b[39m],\n\u001b[0;32m    129\u001b[0m         \u001b[39m\"\u001b[39m\u001b[39mPara.DynPar.S_ref2\u001b[39m\u001b[39m\"\u001b[39m: rocket_dict[\u001b[39m\"\u001b[39m\u001b[39mparachute_sref2\u001b[39m\u001b[39m\"\u001b[39m],\n\u001b[0;32m    130\u001b[0m         \u001b[39m\"\u001b[39m\u001b[39mPara.DynPar.AltPara\u001b[39m\u001b[39m\"\u001b[39m: rocket_dict[\u001b[39m\"\u001b[39m\u001b[39msecond_para_deploy_alt\u001b[39m\u001b[39m\"\u001b[39m],\n\u001b[0;32m    131\u001b[0m         \u001b[39m\"\u001b[39m\u001b[39mPara.DynPar.Cd\u001b[39m\u001b[39m\"\u001b[39m: rocket_dict[\u001b[39m\"\u001b[39m\u001b[39mparachute_Cd\u001b[39m\u001b[39m\"\u001b[39m],\n\u001b[0;32m    132\u001b[0m         \u001b[39m\"\u001b[39m\u001b[39mTraj.parachute_deploy_method\u001b[39m\u001b[39m\"\u001b[39m: \u001b[39m0\u001b[39m\n\u001b[0;32m    133\u001b[0m         \u001b[39mif\u001b[39;00m rocket_dict[\u001b[39m\"\u001b[39m\u001b[39mparachute_deploy_method\u001b[39m\u001b[39m\"\u001b[39m] \u001b[39m==\u001b[39m \u001b[39m\"\u001b[39m\u001b[39mvelocity\u001b[39m\u001b[39m\"\u001b[39m\n\u001b[0;32m    134\u001b[0m         \u001b[39melse\u001b[39;00m \u001b[39m1\u001b[39m,\n\u001b[0;32m    135\u001b[0m         \u001b[39m\"\u001b[39m\u001b[39mTraj.parachute_deploy_timer\u001b[39m\u001b[39m\"\u001b[39m: rocket_dict[\u001b[39m\"\u001b[39m\u001b[39mparachute_deploy_timer\u001b[39m\u001b[39m\"\u001b[39m],\n\u001b[0;32m    136\u001b[0m     }\n\u001b[0;32m    138\u001b[0m \u001b[39m# print(\"Initial parameters\", init)\u001b[39;00m\n\u001b[0;32m    140\u001b[0m driver\u001b[39m.\u001b[39mset_scenario(init\u001b[39m=\u001b[39minit, stop\u001b[39m=\u001b[39m\u001b[39m\"\u001b[39m\u001b[39mPara.DynPar.r2[2] < -1\u001b[39m\u001b[39m\"\u001b[39m)\n",
      "\u001b[1;31mKeyError\u001b[0m: 'totalWeightG'"
     ]
    }
   ],
   "source": [
    "# Run this cell to start the simulation\n",
    "%run model/rocket_trajectory.py"
   ]
  },
  {
   "cell_type": "code",
   "execution_count": 11,
   "metadata": {},
   "outputs": [
    {
     "ename": "NameError",
     "evalue": "name 'simulation_2d_plots' is not defined",
     "output_type": "error",
     "traceback": [
      "\u001b[1;31m---------------------------------------------------------------------------\u001b[0m",
      "\u001b[1;31mNameError\u001b[0m                                 Traceback (most recent call last)",
      "Cell \u001b[1;32mIn[11], line 2\u001b[0m\n\u001b[0;32m      1\u001b[0m \u001b[39m# Run this cell for additional plots concerning the simulation\u001b[39;00m\n\u001b[1;32m----> 2\u001b[0m simulation_2d_plots()\n",
      "\u001b[1;31mNameError\u001b[0m: name 'simulation_2d_plots' is not defined"
     ]
    }
   ],
   "source": [
    "# Run this cell for additional plots concerning the simulation\n",
    "simulation_2d_plots()"
   ]
  },
  {
   "cell_type": "code",
   "execution_count": null,
   "metadata": {},
   "outputs": [],
   "source": []
  }
 ],
 "metadata": {
  "kernelspec": {
   "display_name": "PSC-WAaCNLZg",
   "language": "python",
   "name": "python3"
  },
  "language_info": {
   "codemirror_mode": {
    "name": "ipython",
    "version": 3
   },
   "file_extension": ".py",
   "mimetype": "text/x-python",
   "name": "python",
   "nbconvert_exporter": "python",
   "pygments_lexer": "ipython3",
   "version": "3.11.3"
  }
 },
 "nbformat": 4,
 "nbformat_minor": 2
}
