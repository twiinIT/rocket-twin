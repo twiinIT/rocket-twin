{
 "cells": [
  {
   "cell_type": "code",
   "execution_count": 1,
   "metadata": {},
   "outputs": [],
   "source": [
    "# Run this cell to import all the necessary components\n",
    "from include.init_rocket.CustomRocket import CustomRocket\n",
    "from include.init_rocket.RocketPlotter import RocketPlotter"
   ]
  },
  {
   "cell_type": "code",
   "execution_count": 2,
   "metadata": {},
   "outputs": [],
   "source": [
    "# Run this cell to create all necessary widgets\n",
    "%run -i include/widgets/widgets.py"
   ]
  },
  {
   "cell_type": "markdown",
   "metadata": {},
   "source": [
    "# Rocket construction\n",
    "## Geometry and Mass \n",
    "The first step is to chose the geometry and mass properties of your rocket. Each component (nose, tube, fins) can have its own density and shape. Fill the following form to specify your rocket's properties."
   ]
  },
  {
   "cell_type": "code",
   "execution_count": 3,
   "metadata": {},
   "outputs": [
    {
     "data": {
      "application/vnd.jupyter.widget-view+json": {
       "model_id": "5bdf528c6db34950a0d26cf80616d97e",
       "version_major": 2,
       "version_minor": 0
      },
      "text/plain": [
       "Tab(children=(VBox(children=(BoundedFloatText(value=2.0, description='Tube length ($m$):', max=500.0, step=0.0…"
      ]
     },
     "execution_count": 3,
     "metadata": {},
     "output_type": "execute_result"
    }
   ],
   "source": [
    "# Run this cell\n",
    "rocket_properties_widget"
   ]
  },
  {
   "cell_type": "markdown",
   "metadata": {},
   "source": [
    "## Motor picker\n",
    "\n",
    "This section will allow you to chose the right motor for your rocket based on the desired impulse class and diameter.\n",
    "\n",
    "$(\\textit{Motors data is loaded from the JSON file :  } \\texttt{include/widgets/motor\\_data.json})$\n",
    "\n",
    "You will have to chose the two following properties in order to access the motor choice.\n",
    "### Impulse class : \n",
    "The <b>impulse class</b> is a letter code assigned to a range of total impulse with each letter being twice as powerful as the previous.\n",
    "- A : 1.26–2.50 (N.s),\n",
    "- B : 2.51–5.00,\n",
    "- C : 5.01–10.0,\n",
    "- D : 10.01–20.0,\n",
    "- E : 20.01–40.0,\n",
    "- F : 40.01–80.0,\n",
    "- G : 80.01–160,\n",
    "- H : 160.01–320,\n",
    "- I : 320.01–640,\n",
    "- J : 640.01–1,280,\n",
    "- K : 1,280.01–2,560,\n",
    "- L : 2,560.01–5,120,\n",
    "- M : 5,120.01–10,240,\n",
    "- N : 10,240.01–20,480,\n",
    "- O : 20,480.01–40,960\n",
    "### Motor geometry :\n",
    "The main diameter of the motor is expressed in millimeters.\n",
    "\n",
    "The position of the motor corresponds to the distance between the bottom of the motor and the bottom of the tube in meters."
   ]
  },
  {
   "cell_type": "code",
   "execution_count": 4,
   "metadata": {},
   "outputs": [
    {
     "data": {
      "application/vnd.jupyter.widget-view+json": {
       "model_id": "e2f5fa5fad584272a97e7b3da81fdac5",
       "version_major": 2,
       "version_minor": 0
      },
      "text/plain": [
       "Accordion(children=(Dropdown(description='Impulse Class (N.s):', options=(('[1.26 - 2.50]', 'A'), ('[2.51 - 5.…"
      ]
     },
     "execution_count": 4,
     "metadata": {},
     "output_type": "execute_result"
    }
   ],
   "source": [
    "# Run this cell\n",
    "motor_selection_widget"
   ]
  },
  {
   "cell_type": "markdown",
   "metadata": {},
   "source": [
    "## Parachutes settings\n",
    "\n",
    "In this section, you will have to specify the various properties of the parachute."
   ]
  },
  {
   "cell_type": "code",
   "execution_count": 5,
   "metadata": {},
   "outputs": [
    {
     "data": {
      "application/vnd.jupyter.widget-view+json": {
       "model_id": "624e05d0acce49e0bde54ea92ebc3bd4",
       "version_major": 2,
       "version_minor": 0
      },
      "text/plain": [
       "VBox(children=(BoundedFloatText(value=1.0, description='Rope rest length ($m$):', max=1000.0, step=0.1, style=…"
      ]
     },
     "execution_count": 5,
     "metadata": {},
     "output_type": "execute_result"
    }
   ],
   "source": [
    "# Run this cell\n",
    "parachute_widget"
   ]
  },
  {
   "cell_type": "markdown",
   "metadata": {},
   "source": [
    "## Additional masses\n",
    "In this section you can create additional mass component to add to your rocket.\n",
    "\n",
    "These components are represented as cylinders or empty cylinders, but can play the role of various inner components for your rocket such as a partition or an electrical component."
   ]
  },
  {
   "cell_type": "code",
   "execution_count": 6,
   "metadata": {},
   "outputs": [
    {
     "data": {
      "application/vnd.jupyter.widget-view+json": {
       "model_id": "207fc62f4027428397ebc3c9731cdc92",
       "version_major": 2,
       "version_minor": 0
      },
      "text/plain": [
       "Accordion(children=(VBox(children=(BoundedIntText(value=0, description='Number of additional masses', style=De…"
      ]
     },
     "execution_count": 6,
     "metadata": {},
     "output_type": "execute_result"
    }
   ],
   "source": [
    "# Run this cell\n",
    "additional_masses_widget"
   ]
  },
  {
   "cell_type": "markdown",
   "metadata": {},
   "source": [
    "## Launching parameters\n",
    "Last parameters to ajust for launching.\n",
    "\n",
    "Specify launching parameters for the simulation."
   ]
  },
  {
   "cell_type": "code",
   "execution_count": 7,
   "metadata": {},
   "outputs": [
    {
     "data": {
      "application/vnd.jupyter.widget-view+json": {
       "model_id": "b2d7002705e94f8d973ee83e02316deb",
       "version_major": 2,
       "version_minor": 0
      },
      "text/plain": [
       "VBox(children=(BoundedFloatText(value=2.0, description=\"Rocket's total mass ($kg$):\", max=1000000.0, step=1.0,…"
      ]
     },
     "execution_count": 7,
     "metadata": {},
     "output_type": "execute_result"
    }
   ],
   "source": [
    "# Run this cell\n",
    "launching_parameters_widget"
   ]
  },
  {
   "cell_type": "markdown",
   "metadata": {},
   "source": [
    "## Creation of the rocket\n",
    "All properties you have previously entered will be stored in the $\\texttt{'rocket'}$ object as you run this cell.\n",
    "\n",
    "It's properties are stored in the $\\texttt{'rocket\\_dict.json'}$ file.\n",
    "\n",
    "You can also create your rocket by directly specifying its properties in the file. All properties must be specified in the dictionary.\n",
    "\n",
    "(Please refer to the documentation for more details about the format of each entry.)"
   ]
  },
  {
   "cell_type": "code",
   "execution_count": 8,
   "metadata": {},
   "outputs": [],
   "source": [
    "# Run this cell to update the rocket and create its corresponding CustomRocket object\n",
    "# Look at the documentation from widgets.py for the use of data_source parameter\n",
    "myrocket = rocket_creation(data_source=\"widgets\")"
   ]
  },
  {
   "cell_type": "markdown",
   "metadata": {},
   "source": [
    "## Plot the rocket"
   ]
  },
  {
   "cell_type": "code",
   "execution_count": 9,
   "metadata": {},
   "outputs": [
    {
     "name": "stdout",
     "output_type": "stream",
     "text": [
      "Volume (m^3)                                 = 0.005650895548545995\n",
      "Mass   (kg)                                  = 0.08070635760226763\n",
      "\n",
      "\n",
      "Position of the center of gravity (COG)      = [0.15724864 0.         0.        ]\n",
      "Position of the center of pressure (CPA)     = [0.18040174 0.         0.        ]\n",
      "\n",
      "\n",
      "Inertia matrix expressed at the COG (kg*m^2) = [7.85134763e-06 0.00000000e+00 0.00000000e+00]\n",
      "                                               [0.         0.00157362 0.        ]\n",
      "                                               [0.         0.         0.00157362]\n"
     ]
    },
    {
     "ename": "AttributeError",
     "evalue": "type object 'DataImage' has no attribute '_instance_inits'",
     "output_type": "error",
     "traceback": [
      "\u001b[1;31m---------------------------------------------------------------------------\u001b[0m",
      "\u001b[1;31mAttributeError\u001b[0m                            Traceback (most recent call last)",
      "Cell \u001b[1;32mIn[9], line 7\u001b[0m\n\u001b[0;32m      5\u001b[0m rocketPlotter \u001b[39m=\u001b[39m RocketPlotter(myrocket)\n\u001b[0;32m      6\u001b[0m \u001b[39m# You can chose to plot only the outside of the rocket and/or to plot an opened version of the rocket to visualize its interior\u001b[39;00m\n\u001b[1;32m----> 7\u001b[0m rocketPlotter\u001b[39m.\u001b[39;49mplot(only_ext\u001b[39m=\u001b[39;49m\u001b[39mFalse\u001b[39;49;00m, opened\u001b[39m=\u001b[39;49m\u001b[39mTrue\u001b[39;49;00m)\n",
      "File \u001b[1;32mc:\\Users\\Lucs\\Documents\\Polytechnique\\PSC\\rocket-twin\\UI\\include\\init_rocket\\RocketPlotter.py:87\u001b[0m, in \u001b[0;36mRocketPlotter.plot\u001b[1;34m(self, only_ext, opened, render)\u001b[0m\n\u001b[0;32m     84\u001b[0m     plotter\u001b[39m.\u001b[39madd_mesh(mesh, show_edges\u001b[39m=\u001b[39m\u001b[39mFalse\u001b[39;00m, texture\u001b[39m=\u001b[39mtex, color\u001b[39m=\u001b[39mcolor, metallic\u001b[39m=\u001b[39m\u001b[39m0.8\u001b[39m)\n\u001b[0;32m     86\u001b[0m plotter\u001b[39m.\u001b[39madd_axes(interactive\u001b[39m=\u001b[39m\u001b[39mTrue\u001b[39;00m)\n\u001b[1;32m---> 87\u001b[0m plotter\u001b[39m.\u001b[39;49mshow(jupyter_backend \u001b[39m=\u001b[39;49m \u001b[39m'\u001b[39;49m\u001b[39mpythreejs\u001b[39;49m\u001b[39m'\u001b[39;49m)\n",
      "File \u001b[1;32mc:\\Users\\Lucs\\anaconda3\\lib\\site-packages\\pyvista\\plotting\\plotting.py:6522\u001b[0m, in \u001b[0;36mPlotter.show\u001b[1;34m(self, title, window_size, interactive, auto_close, interactive_update, full_screen, screenshot, return_img, cpos, jupyter_backend, return_viewer, return_cpos, before_close_callback, **kwargs)\u001b[0m\n\u001b[0;32m   6519\u001b[0m         jupyter_backend \u001b[39m=\u001b[39m \u001b[39mself\u001b[39m\u001b[39m.\u001b[39m_theme\u001b[39m.\u001b[39mjupyter_backend\n\u001b[0;32m   6521\u001b[0m     \u001b[39mif\u001b[39;00m jupyter_backend\u001b[39m.\u001b[39mlower() \u001b[39m!=\u001b[39m \u001b[39m'\u001b[39m\u001b[39mnone\u001b[39m\u001b[39m'\u001b[39m:\n\u001b[1;32m-> 6522\u001b[0m         jupyter_disp \u001b[39m=\u001b[39m handle_plotter(\u001b[39mself\u001b[39m, backend\u001b[39m=\u001b[39mjupyter_backend, \u001b[39m*\u001b[39m\u001b[39m*\u001b[39mjupyter_kwargs)\n\u001b[0;32m   6524\u001b[0m \u001b[39mself\u001b[39m\u001b[39m.\u001b[39mrender()\n\u001b[0;32m   6526\u001b[0m \u001b[39m# initial double render needed for certain passes when offscreen\u001b[39;00m\n",
      "File \u001b[1;32mc:\\Users\\Lucs\\anaconda3\\lib\\site-packages\\pyvista\\jupyter\\notebook.py:39\u001b[0m, in \u001b[0;36mhandle_plotter\u001b[1;34m(plotter, backend, screenshot, **kwargs)\u001b[0m\n\u001b[0;32m     37\u001b[0m \u001b[39mtry\u001b[39;00m:\n\u001b[0;32m     38\u001b[0m     \u001b[39mif\u001b[39;00m backend \u001b[39m==\u001b[39m \u001b[39m'\u001b[39m\u001b[39mpythreejs\u001b[39m\u001b[39m'\u001b[39m:\n\u001b[1;32m---> 39\u001b[0m         \u001b[39mreturn\u001b[39;00m show_pythreejs(plotter, \u001b[39m*\u001b[39m\u001b[39m*\u001b[39mkwargs)\n\u001b[0;32m     40\u001b[0m     \u001b[39mif\u001b[39;00m backend \u001b[39m==\u001b[39m \u001b[39m'\u001b[39m\u001b[39mipyvtklink\u001b[39m\u001b[39m'\u001b[39m:\n\u001b[0;32m     41\u001b[0m         warnings\u001b[39m.\u001b[39mwarn(\n\u001b[0;32m     42\u001b[0m             \u001b[39m'\u001b[39m\u001b[39m`ipyvtklink` backend is deprecated and has been replaced by the `trame` backend.\u001b[39m\u001b[39m'\u001b[39m,\n\u001b[0;32m     43\u001b[0m             PyVistaDeprecationWarning,\n\u001b[0;32m     44\u001b[0m         )\n",
      "File \u001b[1;32mc:\\Users\\Lucs\\anaconda3\\lib\\site-packages\\pyvista\\jupyter\\notebook.py:174\u001b[0m, in \u001b[0;36mshow_pythreejs\u001b[1;34m(plotter, **kwargs)\u001b[0m\n\u001b[0;32m    172\u001b[0m \u001b[39mdef\u001b[39;00m \u001b[39mshow_pythreejs\u001b[39m(plotter, \u001b[39m*\u001b[39m\u001b[39m*\u001b[39mkwargs):\n\u001b[0;32m    173\u001b[0m     \u001b[39m\"\"\"Show a pyvista plotting scene using pythreejs.\"\"\"\u001b[39;00m\n\u001b[1;32m--> 174\u001b[0m     \u001b[39mfrom\u001b[39;00m \u001b[39m.\u001b[39;00m\u001b[39mpv_pythreejs\u001b[39;00m \u001b[39mimport\u001b[39;00m convert_plotter\n\u001b[0;32m    176\u001b[0m     renderer \u001b[39m=\u001b[39m convert_plotter(plotter)\n\u001b[0;32m    177\u001b[0m     \u001b[39mreturn\u001b[39;00m renderer\n",
      "File \u001b[1;32mc:\\Users\\Lucs\\anaconda3\\lib\\site-packages\\pyvista\\jupyter\\pv_pythreejs.py:8\u001b[0m\n\u001b[0;32m      5\u001b[0m \u001b[39mimport\u001b[39;00m \u001b[39mnumpy\u001b[39;00m \u001b[39mas\u001b[39;00m \u001b[39mnp\u001b[39;00m\n\u001b[0;32m      7\u001b[0m \u001b[39mtry\u001b[39;00m:\n\u001b[1;32m----> 8\u001b[0m     \u001b[39mimport\u001b[39;00m \u001b[39mpythreejs\u001b[39;00m \u001b[39mas\u001b[39;00m \u001b[39mtjs\u001b[39;00m\n\u001b[0;32m      9\u001b[0m \u001b[39mexcept\u001b[39;00m \u001b[39mImportError\u001b[39;00m:  \u001b[39m# pragma: no cover\u001b[39;00m\n\u001b[0;32m     10\u001b[0m     \u001b[39mraise\u001b[39;00m \u001b[39mImportError\u001b[39;00m(\u001b[39m'\u001b[39m\u001b[39mPlease install pythreejs to use this feature\u001b[39m\u001b[39m'\u001b[39m)\n",
      "File \u001b[1;32mc:\\Users\\Lucs\\anaconda3\\lib\\site-packages\\pythreejs\\__init__.py:6\u001b[0m\n\u001b[0;32m      1\u001b[0m \u001b[39m#\u001b[39;00m\n\u001b[0;32m      2\u001b[0m \u001b[39m# This file automatically generated by \u001b[39;00m\n\u001b[0;32m      3\u001b[0m \u001b[39m#\u001b[39;00m\n\u001b[0;32m      5\u001b[0m \u001b[39mfrom\u001b[39;00m \u001b[39m.\u001b[39;00m\u001b[39menums\u001b[39;00m \u001b[39mimport\u001b[39;00m \u001b[39m*\u001b[39m\n\u001b[1;32m----> 6\u001b[0m \u001b[39mfrom\u001b[39;00m \u001b[39m.\u001b[39;00m\u001b[39mpythreejs\u001b[39;00m \u001b[39mimport\u001b[39;00m \u001b[39m*\u001b[39m\n\u001b[0;32m      7\u001b[0m \u001b[39mfrom\u001b[39;00m \u001b[39m.\u001b[39;00m\u001b[39mtraits\u001b[39;00m \u001b[39mimport\u001b[39;00m \u001b[39m*\u001b[39m\n\u001b[0;32m      8\u001b[0m \u001b[39mfrom\u001b[39;00m \u001b[39m.\u001b[39;00m\u001b[39m_example_helper\u001b[39;00m \u001b[39mimport\u001b[39;00m \u001b[39m*\u001b[39m\n",
      "File \u001b[1;32mc:\\Users\\Lucs\\anaconda3\\lib\\site-packages\\pythreejs\\pythreejs.py:20\u001b[0m\n\u001b[0;32m     16\u001b[0m \u001b[39mfrom\u001b[39;00m \u001b[39m.\u001b[39;00m\u001b[39m_package\u001b[39;00m \u001b[39mimport\u001b[39;00m npm_pkg_name\n\u001b[0;32m     17\u001b[0m \u001b[39mfrom\u001b[39;00m \u001b[39m.\u001b[39;00m\u001b[39m_version\u001b[39;00m \u001b[39mimport\u001b[39;00m EXTENSION_SPEC_VERSION\n\u001b[1;32m---> 20\u001b[0m \u001b[39mfrom\u001b[39;00m \u001b[39m.\u001b[39;00m\u001b[39mcore\u001b[39;00m\u001b[39m.\u001b[39;00m\u001b[39mBufferAttribute\u001b[39;00m \u001b[39mimport\u001b[39;00m BufferAttribute\n\u001b[0;32m     21\u001b[0m \u001b[39mfrom\u001b[39;00m \u001b[39m.\u001b[39;00m\u001b[39mcore\u001b[39;00m\u001b[39m.\u001b[39;00m\u001b[39mGeometry\u001b[39;00m \u001b[39mimport\u001b[39;00m Geometry\n\u001b[0;32m     22\u001b[0m \u001b[39mfrom\u001b[39;00m \u001b[39m.\u001b[39;00m\u001b[39mcore\u001b[39;00m\u001b[39m.\u001b[39;00m\u001b[39mBufferGeometry\u001b[39;00m \u001b[39mimport\u001b[39;00m BufferGeometry\n",
      "File \u001b[1;32mc:\\Users\\Lucs\\anaconda3\\lib\\site-packages\\pythreejs\\core\\BufferAttribute.py:4\u001b[0m\n\u001b[0;32m      1\u001b[0m \u001b[39mfrom\u001b[39;00m \u001b[39mipywidgets\u001b[39;00m \u001b[39mimport\u001b[39;00m register\n\u001b[0;32m      3\u001b[0m \u001b[39mfrom\u001b[39;00m \u001b[39m.\u001b[39;00m\u001b[39m.\u001b[39;00m\u001b[39m_base\u001b[39;00m\u001b[39m.\u001b[39;00m\u001b[39mThree\u001b[39;00m \u001b[39mimport\u001b[39;00m ThreeWidget\n\u001b[1;32m----> 4\u001b[0m \u001b[39mfrom\u001b[39;00m \u001b[39m.\u001b[39;00m\u001b[39mBufferAttribute_autogen\u001b[39;00m \u001b[39mimport\u001b[39;00m BufferAttribute \u001b[39mas\u001b[39;00m BaseBufferAttribute\n\u001b[0;32m      7\u001b[0m \u001b[39m@register\u001b[39m\n\u001b[0;32m      8\u001b[0m \u001b[39mclass\u001b[39;00m \u001b[39mBufferAttribute\u001b[39;00m(BaseBufferAttribute):\n\u001b[0;32m     10\u001b[0m     _previewable \u001b[39m=\u001b[39m \u001b[39mFalse\u001b[39;00m\n",
      "File \u001b[1;32mc:\\Users\\Lucs\\anaconda3\\lib\\site-packages\\pythreejs\\core\\BufferAttribute_autogen.py:13\u001b[0m\n\u001b[0;32m     11\u001b[0m \u001b[39mfrom\u001b[39;00m \u001b[39m.\u001b[39;00m\u001b[39m.\u001b[39;00m\u001b[39m_base\u001b[39;00m\u001b[39m.\u001b[39;00m\u001b[39muniforms\u001b[39;00m \u001b[39mimport\u001b[39;00m uniforms_serialization\n\u001b[0;32m     12\u001b[0m \u001b[39mfrom\u001b[39;00m \u001b[39m.\u001b[39;00m\u001b[39m.\u001b[39;00m\u001b[39menums\u001b[39;00m \u001b[39mimport\u001b[39;00m \u001b[39m*\u001b[39m\n\u001b[1;32m---> 13\u001b[0m \u001b[39mfrom\u001b[39;00m \u001b[39m.\u001b[39;00m\u001b[39m.\u001b[39;00m\u001b[39mtraits\u001b[39;00m \u001b[39mimport\u001b[39;00m \u001b[39m*\u001b[39m\n\u001b[0;32m     15\u001b[0m \u001b[39mfrom\u001b[39;00m \u001b[39m.\u001b[39;00m\u001b[39m.\u001b[39;00m\u001b[39m_base\u001b[39;00m\u001b[39m.\u001b[39;00m\u001b[39mThree\u001b[39;00m \u001b[39mimport\u001b[39;00m ThreeWidget\n\u001b[0;32m     18\u001b[0m \u001b[39mclass\u001b[39;00m \u001b[39mBufferAttribute\u001b[39;00m(ThreeWidget):\n",
      "File \u001b[1;32mc:\\Users\\Lucs\\anaconda3\\lib\\site-packages\\pythreejs\\traits.py:18\u001b[0m\n\u001b[0;32m     11\u001b[0m \u001b[39mfrom\u001b[39;00m \u001b[39mtraitlets\u001b[39;00m \u001b[39mimport\u001b[39;00m (\n\u001b[0;32m     12\u001b[0m     Unicode, Int, CInt, Instance, Enum, List, Dict, Float, CFloat,\n\u001b[0;32m     13\u001b[0m     Bool, Tuple, Undefined, TraitError, Union, TraitType, CaselessStrEnum\n\u001b[0;32m     14\u001b[0m )\n\u001b[0;32m     16\u001b[0m \u001b[39mfrom\u001b[39;00m \u001b[39mipywidgets\u001b[39;00m \u001b[39mimport\u001b[39;00m widget_serialization\n\u001b[1;32m---> 18\u001b[0m \u001b[39mfrom\u001b[39;00m \u001b[39mipydatawidgets\u001b[39;00m \u001b[39mimport\u001b[39;00m DataUnion, NDArrayWidget, shape_constraints\n\u001b[0;32m     20\u001b[0m \u001b[39mimport\u001b[39;00m \u001b[39mnumpy\u001b[39;00m \u001b[39mas\u001b[39;00m \u001b[39mnp\u001b[39;00m\n\u001b[0;32m     23\u001b[0m \u001b[39mdef\u001b[39;00m \u001b[39m_castable_namedtuple\u001b[39m(typename, field_names):\n",
      "File \u001b[1;32mc:\\Users\\Lucs\\anaconda3\\lib\\site-packages\\ipydatawidgets\\__init__.py:7\u001b[0m\n\u001b[0;32m      1\u001b[0m \u001b[39m#!/usr/bin/env python\u001b[39;00m\n\u001b[0;32m      2\u001b[0m \u001b[39m# coding: utf-8\u001b[39;00m\n\u001b[0;32m      3\u001b[0m \n\u001b[0;32m      4\u001b[0m \u001b[39m# Copyright (c) Jupyter Development Team.\u001b[39;00m\n\u001b[0;32m      5\u001b[0m \u001b[39m# Distributed under the terms of the Modified BSD License.\u001b[39;00m\n\u001b[1;32m----> 7\u001b[0m \u001b[39mfrom\u001b[39;00m \u001b[39m.\u001b[39;00m\u001b[39mndarray\u001b[39;00m \u001b[39mimport\u001b[39;00m \u001b[39m*\u001b[39m\n\u001b[0;32m      8\u001b[0m \u001b[39mfrom\u001b[39;00m \u001b[39m.\u001b[39;00m\u001b[39mwidgets\u001b[39;00m \u001b[39mimport\u001b[39;00m DataWidget\n\u001b[0;32m      9\u001b[0m \u001b[39mfrom\u001b[39;00m \u001b[39m.\u001b[39;00m\u001b[39m_version\u001b[39;00m \u001b[39mimport\u001b[39;00m __version__, version_info\n",
      "File \u001b[1;32mc:\\Users\\Lucs\\anaconda3\\lib\\site-packages\\ipydatawidgets\\ndarray\\__init__.py:7\u001b[0m\n\u001b[0;32m      1\u001b[0m \u001b[39m#!/usr/bin/env python\u001b[39;00m\n\u001b[0;32m      2\u001b[0m \u001b[39m# coding: utf-8\u001b[39;00m\n\u001b[0;32m      3\u001b[0m \n\u001b[0;32m      4\u001b[0m \u001b[39m# Copyright (c) Jupyter Development Team.\u001b[39;00m\n\u001b[0;32m      5\u001b[0m \u001b[39m# Distributed under the terms of the Modified BSD License.\u001b[39;00m\n\u001b[1;32m----> 7\u001b[0m \u001b[39mfrom\u001b[39;00m \u001b[39m.\u001b[39;00m\u001b[39mmedia\u001b[39;00m \u001b[39mimport\u001b[39;00m DataImage\n\u001b[0;32m      8\u001b[0m \u001b[39mfrom\u001b[39;00m \u001b[39m.\u001b[39;00m\u001b[39mserializers\u001b[39;00m \u001b[39mimport\u001b[39;00m array_serialization, data_union_serialization\n\u001b[0;32m      9\u001b[0m \u001b[39mfrom\u001b[39;00m \u001b[39m.\u001b[39;00m\u001b[39mtraits\u001b[39;00m \u001b[39mimport\u001b[39;00m NDArray, shape_constraints\n",
      "File \u001b[1;32mc:\\Users\\Lucs\\anaconda3\\lib\\site-packages\\ipydatawidgets\\ndarray\\media.py:17\u001b[0m\n\u001b[0;32m     13\u001b[0m \u001b[39mfrom\u001b[39;00m \u001b[39m.\u001b[39;00m\u001b[39munion\u001b[39;00m \u001b[39mimport\u001b[39;00m DataUnion, data_union_serialization\n\u001b[0;32m     14\u001b[0m \u001b[39mfrom\u001b[39;00m \u001b[39m.\u001b[39;00m\u001b[39mtraits\u001b[39;00m \u001b[39mimport\u001b[39;00m shape_constraints\n\u001b[1;32m---> 17\u001b[0m \u001b[39mclass\u001b[39;00m \u001b[39mDataImage\u001b[39;00m(DataWidget, DOMWidget):\n\u001b[0;32m     18\u001b[0m     \u001b[39m\"\"\"A data-widgets based Image widget.\u001b[39;00m\n\u001b[0;32m     19\u001b[0m \u001b[39m    \"\"\"\u001b[39;00m\n\u001b[0;32m     20\u001b[0m     _model_name \u001b[39m=\u001b[39m Unicode(\u001b[39m'\u001b[39m\u001b[39mDataImageModel\u001b[39m\u001b[39m'\u001b[39m)\u001b[39m.\u001b[39mtag(sync\u001b[39m=\u001b[39m\u001b[39mTrue\u001b[39;00m)\n",
      "File \u001b[1;32mc:\\Users\\Lucs\\anaconda3\\lib\\site-packages\\traitlets\\traitlets.py:807\u001b[0m, in \u001b[0;36mMetaHasDescriptors.__init__\u001b[1;34m(cls, name, bases, classdict)\u001b[0m\n\u001b[0;32m    805\u001b[0m \u001b[39m\"\"\"Finish initializing the HasDescriptors class.\"\"\"\u001b[39;00m\n\u001b[0;32m    806\u001b[0m \u001b[39msuper\u001b[39m(MetaHasDescriptors, \u001b[39mcls\u001b[39m)\u001b[39m.\u001b[39m\u001b[39m__init__\u001b[39m(name, bases, classdict)\n\u001b[1;32m--> 807\u001b[0m \u001b[39mcls\u001b[39;49m\u001b[39m.\u001b[39;49msetup_class(classdict)\n",
      "File \u001b[1;32mc:\\Users\\Lucs\\anaconda3\\lib\\site-packages\\traitlets\\traitlets.py:830\u001b[0m, in \u001b[0;36mMetaHasTraits.setup_class\u001b[1;34m(cls, classdict)\u001b[0m\n\u001b[0;32m    828\u001b[0m \u001b[39mdef\u001b[39;00m \u001b[39msetup_class\u001b[39m(\u001b[39mcls\u001b[39m, classdict):\n\u001b[0;32m    829\u001b[0m     \u001b[39mcls\u001b[39m\u001b[39m.\u001b[39m_trait_default_generators \u001b[39m=\u001b[39m {}\n\u001b[1;32m--> 830\u001b[0m     \u001b[39msuper\u001b[39;49m(MetaHasTraits, \u001b[39mcls\u001b[39;49m)\u001b[39m.\u001b[39;49msetup_class(classdict)\n",
      "File \u001b[1;32mc:\\Users\\Lucs\\anaconda3\\lib\\site-packages\\traitlets\\traitlets.py:822\u001b[0m, in \u001b[0;36mMetaHasDescriptors.setup_class\u001b[1;34m(cls, classdict)\u001b[0m\n\u001b[0;32m    820\u001b[0m \u001b[39mfor\u001b[39;00m k, v \u001b[39min\u001b[39;00m getmembers(\u001b[39mcls\u001b[39m):\n\u001b[0;32m    821\u001b[0m     \u001b[39mif\u001b[39;00m \u001b[39misinstance\u001b[39m(v, BaseDescriptor):\n\u001b[1;32m--> 822\u001b[0m         v\u001b[39m.\u001b[39;49msubclass_init(\u001b[39mcls\u001b[39;49m)\n",
      "File \u001b[1;32mc:\\Users\\Lucs\\anaconda3\\lib\\site-packages\\ipydatawidgets\\ndarray\\union.py:59\u001b[0m, in \u001b[0;36mDataUnion.subclass_init\u001b[1;34m(self, cls)\u001b[0m\n\u001b[0;32m     58\u001b[0m \u001b[39mdef\u001b[39;00m \u001b[39msubclass_init\u001b[39m(\u001b[39mself\u001b[39m, \u001b[39mcls\u001b[39m):\n\u001b[1;32m---> 59\u001b[0m     \u001b[39mcls\u001b[39;49m\u001b[39m.\u001b[39;49m_instance_inits\u001b[39m.\u001b[39mappend(\u001b[39mself\u001b[39m\u001b[39m.\u001b[39minstance_init)\n\u001b[0;32m     60\u001b[0m     \u001b[39mreturn\u001b[39;00m \u001b[39msuper\u001b[39m()\u001b[39m.\u001b[39msubclass_init(\u001b[39mcls\u001b[39m)\n",
      "\u001b[1;31mAttributeError\u001b[0m: type object 'DataImage' has no attribute '_instance_inits'"
     ]
    }
   ],
   "source": [
    "# Print mass properties of your rocket\n",
    "myrocket.print_properties()\n",
    "\n",
    "# Plot your rocket using PyVista and pythreejs\n",
    "rocketPlotter = RocketPlotter(myrocket)\n",
    "# You can chose to plot only the outside of the rocket and/or to plot an opened version of the rocket to visualize its interior\n",
    "rocketPlotter.plot(only_ext=False, opened=True)"
   ]
  },
  {
   "cell_type": "markdown",
   "metadata": {},
   "source": [
    "## Simulation\n",
    "In this section you will simulate your rocket's flight.\n",
    "\n",
    "A new window containing the plot of your rocket's trajectory will appear."
   ]
  },
  {
   "cell_type": "code",
   "execution_count": 10,
   "metadata": {},
   "outputs": [
    {
     "data": {
      "text/html": [
       "\n",
       "        <iframe\n",
       "            width=\"810px\"\n",
       "            height=\"650px\"\n",
       "            src=\"earth.html\"\n",
       "            frameborder=\"0\"\n",
       "            allowfullscreen\n",
       "            \n",
       "        ></iframe>\n",
       "        "
      ],
      "text/markdown": [
       "\n",
       "### Child components\n",
       "\n",
       "- `Traj`: Trajectory\n",
       "- `Grav`: Gravity\n",
       "- `Atmo`: Atmosphere\n",
       "- `Rocket`: Rocket\n",
       "- `Wind`: Wind\n",
       "- `Para`: Parachute\n",
       "\n",
       "### Inputs\n",
       "\n",
       "- `inwards`: ExtensiblePort\n",
       "<div class='cosapp-port-table' style='margin-left: 25px; margin-top: -12px'><style type='text/css'>.cosapp-port-table >table >thead{display: none}.cosapp-port-table tbody tr{background: rgba(255, 255, 255, 0)!important}.cosapp-port-table tbody tr:hover{background: #e1f5fe!important}.cosapp-port-table >table {margin-left: unset; margin-right: unset}</style>\n",
       "\n",
       "|  |  |\n",
       "---|---\n",
       "  **Para_l0** &#128274;&#128274; : 0.5 m | Rope rest length\n",
       "  **ar_0** &#128274;&#128274; : [ 0.         -1.57079633  0.        ] |\n",
       "  **pitch_init** &#128274;&#128274; : 0 |\n",
       "  **yaw_init** &#128274;&#128274; : 0 |\n",
       "</div>\n"
      ],
      "text/plain": [
       "earth - Earth"
      ]
     },
     "execution_count": 10,
     "metadata": {},
     "output_type": "execute_result"
    }
   ],
   "source": [
    "import sys\n",
    "sys.path.append('./model')\n",
    "from Earth import Earth\n",
    "\n",
    "Earth('earth')"
   ]
  },
  {
   "cell_type": "code",
   "execution_count": 11,
   "metadata": {},
   "outputs": [
    {
     "name": "stdout",
     "output_type": "stream",
     "text": [
      "___PARACHUTE DEPLOYMENT___\n",
      "\n",
      "\n",
      "Rocket X Coordinate at Deployment:  9.748269041974458 m\n",
      "Rocket Y Coordinate at Deployment:  -2.843625489547206e-18 m\n",
      "Rocket Z Coordinate at Deployment:  13.78502275508484 m\n",
      "\n",
      "\n",
      "___PARACHUTE DEPLOYMENT___\n",
      "\n",
      "\n",
      "Parachute fully deployed !\n"
     ]
    }
   ],
   "source": [
    "# Run this cell to start the simulation\n",
    "%run model/rocket_trajectory.py"
   ]
  },
  {
   "cell_type": "code",
   "execution_count": null,
   "metadata": {},
   "outputs": [],
   "source": [
    "# Run this cell for important simulation values\n",
    "\n",
    "simulation_values()"
   ]
  },
  {
   "cell_type": "code",
   "execution_count": null,
   "metadata": {},
   "outputs": [],
   "source": [
    "# Run this cell for additional plots concerning the simulation\n",
    "simulation_2d_plots()"
   ]
  },
  {
   "cell_type": "code",
   "execution_count": null,
   "metadata": {},
   "outputs": [],
   "source": []
  }
 ],
 "metadata": {
  "kernelspec": {
   "display_name": "base",
   "language": "python",
   "name": "python3"
  },
  "language_info": {
   "codemirror_mode": {
    "name": "ipython",
    "version": 3
   },
   "file_extension": ".py",
   "mimetype": "text/x-python",
   "name": "python",
   "nbconvert_exporter": "python",
   "pygments_lexer": "ipython3",
   "version": "3.9.13"
  }
 },
 "nbformat": 4,
 "nbformat_minor": 2
}
