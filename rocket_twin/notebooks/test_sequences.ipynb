{
 "cells": [
  {
   "cell_type": "code",
   "execution_count": null,
   "id": "daf09369-65d2-4485-9fa0-5249c2319670",
   "metadata": {},
   "outputs": [],
   "source": [
    "from rocket_twin.systems import Station\n",
    "from rocket_twin.utils import run_sequences"
   ]
  },
  {
   "cell_type": "code",
   "execution_count": null,
   "id": "f85217e8-8b9e-406a-80e6-89ac379c0d98",
   "metadata": {},
   "outputs": [],
   "source": [
    "#System creation\n",
    "\n",
    "sys = Station('sys')"
   ]
  },
  {
   "cell_type": "code",
   "execution_count": null,
   "id": "e6d21709-780d-436d-a905-d9bd8b7b554f",
   "metadata": {},
   "outputs": [],
   "source": [
    "#Check ground tank values\n",
    "\n",
    "sys.g_tank.inwards"
   ]
  },
  {
   "cell_type": "code",
   "execution_count": null,
   "id": "0d928614-9bf0-49e2-b9a7-e59e89c3b1d3",
   "metadata": {},
   "outputs": [],
   "source": [
    "#Run initial sequence (loads initial values for ground tank)\n",
    "\n",
    "s1 = [{'name' : 'start', 'init' : {'g_tank.weight_p' : sys.g_tank.weight_max}, 'type' : 'static'}]\n",
    "run_sequences(sys, s1)"
   ]
  },
  {
   "cell_type": "code",
   "execution_count": null,
   "id": "62fc9c93-8ade-4013-9385-55041ba48090",
   "metadata": {},
   "outputs": [],
   "source": [
    "#Checks ground tank values after initialising the correct values\n",
    "\n",
    "sys.g_tank.inwards"
   ]
  },
  {
   "cell_type": "code",
   "execution_count": null,
   "id": "d0ead49d-b704-4f88-9cd2-c21aff56902f",
   "metadata": {},
   "outputs": [],
   "source": [
    "#Checks rocket tank values before fuel sequence\n",
    "\n",
    "sys.rocket.tank.inwards"
   ]
  },
  {
   "cell_type": "code",
   "execution_count": null,
   "id": "b409104c-8011-4e10-b1fe-71f60743012a",
   "metadata": {},
   "outputs": [],
   "source": [
    "#Checks if rocket is off\n",
    "\n",
    "sys.rocket.dyn.inwards"
   ]
  },
  {
   "cell_type": "code",
   "execution_count": null,
   "id": "1063b389-6907-4b4a-a5c2-501f0228d6da",
   "metadata": {},
   "outputs": [],
   "source": [
    "#Run fuelling sequence (transfers fuel from ground tank to rocket tank until it is full)\n",
    "\n",
    "s2 = [{'name' : 'fuel', 'type' : 'transient', 'init' : {'g_tank.w_out_temp' : 1., 'g_tank.is_open' : True},\n",
    "       'dt' : 0.1, 'Tf' : 5., 'stop' : 'rocket.tank.weight_p == rocket.tank.weight_max'}]\n",
    "run_sequences(sys, s2)"
   ]
  },
  {
   "cell_type": "code",
   "execution_count": null,
   "id": "54bbeed1-3300-4ec9-b17b-11ee53caeeb1",
   "metadata": {},
   "outputs": [],
   "source": [
    "#Checks ground tank values after fuel transfer\n",
    "\n",
    "sys.g_tank.inwards"
   ]
  },
  {
   "cell_type": "code",
   "execution_count": null,
   "id": "55107b5c-679c-422f-99e8-387585c1f3d9",
   "metadata": {},
   "outputs": [],
   "source": [
    "#Checks rocket tank values after fuel transfer and before flight\n",
    "\n",
    "sys.rocket.tank.inwards"
   ]
  },
  {
   "cell_type": "code",
   "execution_count": null,
   "id": "76ed20d9-ac6c-468a-97b6-2d9756c2e82b",
   "metadata": {},
   "outputs": [],
   "source": [
    "#Checks rocket is still of\n",
    "\n",
    "sys.rocket.dyn.inwards"
   ]
  },
  {
   "cell_type": "code",
   "execution_count": null,
   "id": "97c1d128-b1bd-4c39-9d62-f2d801515da0",
   "metadata": {},
   "outputs": [],
   "source": [
    "#Run flight sequence (turns rocket on and discards rocket tank fuel until it is empty)\n",
    "\n",
    "s3 = [{'name' : 'flight', 'type' : 'transient', 'init' : {'rocket.tank.w_out_temp' : 0.5,\n",
    "       'g_tank.is_open' : False, 'rocket.engine.switch' : True, 'rocket.tank.is_open' : True},\n",
    "       'dt' : 0.1, 'Tf' : 10., 'stop' : 'rocket.tank.weight_p == 0.'}]\n",
    "run_sequences(sys, s3)"
   ]
  },
  {
   "cell_type": "code",
   "execution_count": null,
   "id": "485e441e-d02a-46c3-b495-d535fefb2e80",
   "metadata": {},
   "outputs": [],
   "source": [
    "#Checks rocket tank values after flight sequence\n",
    "\n",
    "sys.rocket.tank.inwards"
   ]
  },
  {
   "cell_type": "code",
   "execution_count": null,
   "id": "e1011a26-cd3d-48e4-a505-e1941a9b7bc5",
   "metadata": {},
   "outputs": [],
   "source": [
    "#Checks rocket is on\n",
    "\n",
    "sys.rocket.dyn.inwards"
   ]
  },
  {
   "cell_type": "code",
   "execution_count": null,
   "id": "602b8d98-a7e8-4660-aaea-7a5a4f59ac63",
   "metadata": {},
   "outputs": [],
   "source": [
    "sys.g_tank.inwards"
   ]
  },
  {
   "cell_type": "code",
   "execution_count": null,
   "id": "7da35ade-209f-4166-92c5-d53fca4c1733",
   "metadata": {},
   "outputs": [],
   "source": [
    "#Creates a second system to check behaviour when all sequences are executed together\n",
    "\n",
    "sys2 = Station('sys2')"
   ]
  },
  {
   "cell_type": "code",
   "execution_count": null,
   "id": "b834bf3d-45e7-42be-873d-4233ba51d618",
   "metadata": {},
   "outputs": [],
   "source": [
    "#Run all sequences\n",
    "\n",
    "sequences = [\n",
    "    {'name' : 'start', 'init' : {'g_tank.weight_p' : sys2.g_tank.weight_max}, 'type' : 'static'},\n",
    "    {'name' : 'fuel', 'type' : 'transient', 'init' : {'g_tank.w_out_temp' : 1., 'g_tank.is_open' : True},\n",
    "       'dt' : 0.1, 'Tf' : 5., 'stop' : 'rocket.tank.weight_p == rocket.tank.weight_max'},\n",
    "    {'name' : 'flight', 'type' : 'transient', 'init' : {'rocket.tank.w_out_temp' : 0.5,\n",
    "       'g_tank.is_open' : False, 'rocket.engine.switch' : True, 'rocket.tank.is_open' : True},\n",
    "       'dt' : 0.1, 'Tf' : 10., 'stop' : 'rocket.tank.weight_p == 0.'}\n",
    "]\n",
    "run_sequences(sys2, sequences)"
   ]
  },
  {
   "cell_type": "code",
   "execution_count": null,
   "id": "53936c3a-1c1f-42b2-aad7-5c6642390c17",
   "metadata": {},
   "outputs": [],
   "source": [
    "#Checks ground tank values after sequences\n",
    "\n",
    "sys2.g_tank.inwards"
   ]
  },
  {
   "cell_type": "code",
   "execution_count": null,
   "id": "2e0535c1-2c05-49c8-9aef-c19ad59d331c",
   "metadata": {},
   "outputs": [],
   "source": [
    "#Checks rocket tank values after sequences\n",
    "\n",
    "sys2.rocket.tank.inwards"
   ]
  },
  {
   "cell_type": "code",
   "execution_count": null,
   "id": "9a2e5622-040a-4443-a0c4-7874141bd450",
   "metadata": {},
   "outputs": [],
   "source": [
    "#System visualisation\n",
    "\n",
    "sys"
   ]
  },
  {
   "cell_type": "code",
   "execution_count": null,
   "id": "34efe4f9-0e6c-4a65-91c3-0d879a10153e",
   "metadata": {},
   "outputs": [],
   "source": []
  }
 ],
 "metadata": {
  "kernelspec": {
   "display_name": "Python 3 (ipykernel)",
   "language": "python",
   "name": "python3"
  },
  "language_info": {
   "codemirror_mode": {
    "name": "ipython",
    "version": 3
   },
   "file_extension": ".py",
   "mimetype": "text/x-python",
   "name": "python",
   "nbconvert_exporter": "python",
   "pygments_lexer": "ipython3",
   "version": "3.11.3"
  }
 },
 "nbformat": 4,
 "nbformat_minor": 5
}
