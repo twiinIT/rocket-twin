{
 "cells": [
  {
   "cell_type": "code",
   "execution_count": 3,
   "id": "312c249e-eb51-4474-b794-d130e6f6c2bd",
   "metadata": {},
   "outputs": [],
   "source": [
    "from cosapp.base import System\n",
    "from cosapp.drivers import RunSingleCase, NonLinearSolver, RungeKutta\n",
    "import numpy as np"
   ]
  },
  {
   "cell_type": "code",
   "execution_count": 4,
   "id": "2d1ffcfa-ad28-4f46-b757-2cc91e033b72",
   "metadata": {},
   "outputs": [],
   "source": [
    "class Ball2(System):\n",
    "\n",
    "    def setup(self):\n",
    "\n",
    "        self.add_inward('b', 1.)\n",
    "        self.add_transient('a', der='b')\n",
    "\n",
    "        dm = self.add_design_method('test_1')\n",
    "        dm.add_unknown('a')\n",
    "        dm.add_equation('b == 3')\n",
    "\n",
    "    def compute(self):\n",
    "\n",
    "        self.b = 2*self.a"
   ]
  },
  {
   "cell_type": "code",
   "execution_count": 5,
   "id": "08720b0e-5e11-42b1-9ed3-6d8d1e327abf",
   "metadata": {},
   "outputs": [
    {
     "name": "stdout",
     "output_type": "stream",
     "text": [
      "1.5\n"
     ]
    }
   ],
   "source": [
    "ball2 = Ball2('ball2')\n",
    "solver = ball2.add_driver(NonLinearSolver('solver', tol=1e-12))\n",
    "case = solver.add_child(RunSingleCase('case'))\n",
    "\n",
    "case.design.extend(ball2.design_methods['test_1'])\n",
    "\n",
    "ball2.run_drivers()\n",
    "\n",
    "print(ball2.a)\n"
   ]
  },
  {
   "cell_type": "code",
   "execution_count": 9,
   "id": "de43078b-8360-4913-991f-31aa805fa427",
   "metadata": {},
   "outputs": [],
   "source": [
    "class Ball(System):\n",
    "\n",
    "    def setup(self):\n",
    "\n",
    "        self.add_inward('v', 1., unit='m/s')\n",
    "        self.add_transient('x', der='v')"
   ]
  },
  {
   "cell_type": "code",
   "execution_count": 10,
   "id": "e9b2a14e-018d-4502-8fde-a789b4dad1a1",
   "metadata": {},
   "outputs": [
    {
     "data": {
      "text/markdown": [
       "`ball.inwards`: ExtensiblePort\n",
       "<div class='cosapp-port-table' style='margin-left: 25px; margin-top: -12px'><style type='text/css'>.cosapp-port-table >table >thead{display: none}.cosapp-port-table tbody tr{background: rgba(255, 255, 255, 0)!important}.cosapp-port-table tbody tr:hover{background: #e1f5fe!important}.cosapp-port-table >table {margin-left: unset; margin-right: unset}</style>\n",
       "\n",
       "|  |  |\n",
       "---|---\n",
       "  **v** &#128274;&#128274; : 4 m/s |\n",
       "  **x** &#128274;&#128274; : 16 | Transient variable defined as d(x)/dt = v\n",
       "</div>\n"
      ],
      "text/plain": [
       "ExtensiblePort: {'v': 4.000000000000002, 'x': 15.99999999999997}"
      ]
     },
     "execution_count": 10,
     "metadata": {},
     "output_type": "execute_result"
    }
   ],
   "source": [
    "ball = Ball('ball')\n",
    "solver = ball.add_driver(NonLinearSolver('solver', factor=0.9, tol=1e-5))\n",
    "target = solver.add_child(RunSingleCase('target'))\n",
    "driver = target.add_child(RungeKutta('rk', order=4))\n",
    "\n",
    "driver.time_interval = (0, 4)\n",
    "driver.dt = 0.1\n",
    "init = {'x' : 0.}\n",
    "driver.set_scenario(init = init)\n",
    "\n",
    "target.design.add_unknown('v')\n",
    "target.design.add_equation('x == 16.')\n",
    "\n",
    "ball.run_drivers()\n",
    "\n",
    "ball.inwards"
   ]
  },
  {
   "cell_type": "code",
   "execution_count": null,
   "id": "40a151fe-6547-47d1-bb80-8d5bc8bb82cd",
   "metadata": {},
   "outputs": [],
   "source": []
  },
  {
   "cell_type": "code",
   "execution_count": null,
   "id": "f4e00fcd-aecf-495c-87ba-aa179c187eef",
   "metadata": {},
   "outputs": [],
   "source": []
  }
 ],
 "metadata": {
  "kernelspec": {
   "display_name": "Python 3 (ipykernel)",
   "language": "python",
   "name": "python3"
  },
  "language_info": {
   "codemirror_mode": {
    "name": "ipython",
    "version": 3
   },
   "file_extension": ".py",
   "mimetype": "text/x-python",
   "name": "python",
   "nbconvert_exporter": "python",
   "pygments_lexer": "ipython3",
   "version": "3.11.3"
  }
 },
 "nbformat": 4,
 "nbformat_minor": 5
}
