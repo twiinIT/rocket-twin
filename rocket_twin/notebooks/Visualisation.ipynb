{
 "cells": [
  {
   "cell_type": "code",
   "execution_count": null,
   "id": "8bec8444-0001-4e4a-bb3a-aae9574a5cb6",
   "metadata": {},
   "outputs": [],
   "source": [
    "from rocket_twin.systems import Ground\n",
    "from rocket_twin.systems import Station"
   ]
  },
  {
   "cell_type": "code",
   "execution_count": null,
   "id": "97e7cc0c-c54d-4dac-9966-ac30c44abe14",
   "metadata": {},
   "outputs": [],
   "source": [
    "st1 = Station('st1')\n",
    "st2 = Station('st2')\n",
    "ground = Ground('ground', stations=[st1, st2])"
   ]
  },
  {
   "cell_type": "code",
   "execution_count": null,
   "id": "3b5aeda9-94d7-4f2d-a28c-c9e168cb4e69",
   "metadata": {},
   "outputs": [],
   "source": [
    "ground"
   ]
  },
  {
   "cell_type": "code",
   "execution_count": null,
   "id": "6b46cce2-b0da-44dc-a19d-1f261002608b",
   "metadata": {},
   "outputs": [],
   "source": []
  },
  {
   "cell_type": "code",
   "execution_count": null,
   "id": "b951bdb0-98eb-405d-9f37-8b0c6bc76568",
   "metadata": {},
   "outputs": [],
   "source": []
  },
  {
   "cell_type": "code",
   "execution_count": null,
   "id": "ae5b4ea2-e71e-4dc7-ad37-9b47eb0e3daa",
   "metadata": {},
   "outputs": [],
   "source": []
  },
  {
   "cell_type": "code",
   "execution_count": null,
   "id": "0065a4ad-c135-45bc-a2f5-7b8ec556a547",
   "metadata": {},
   "outputs": [],
   "source": []
  },
  {
   "cell_type": "code",
   "execution_count": null,
   "id": "d41a129f-04d4-43d3-8aa8-fd234ce0f517",
   "metadata": {},
   "outputs": [],
   "source": []
  }
 ],
 "metadata": {
  "kernelspec": {
   "display_name": "Python 3 (ipykernel)",
   "language": "python",
   "name": "python3"
  },
  "language_info": {
   "codemirror_mode": {
    "name": "ipython",
    "version": 3
   },
   "file_extension": ".py",
   "mimetype": "text/x-python",
   "name": "python",
   "nbconvert_exporter": "python",
   "pygments_lexer": "ipython3",
   "version": "3.11.3"
  }
 },
 "nbformat": 4,
 "nbformat_minor": 5
}
